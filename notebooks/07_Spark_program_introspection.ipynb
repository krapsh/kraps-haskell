{
 "cells": [
  {
   "cell_type": "code",
   "execution_count": 1,
   "metadata": {
    "collapsed": true
   },
   "outputs": [],
   "source": [
    ":load KarpsDisplays KarpsDagDisplay"
   ]
  },
  {
   "cell_type": "code",
   "execution_count": 2,
   "metadata": {
    "collapsed": true
   },
   "outputs": [],
   "source": [
    ":extension DeriveGeneric\n",
    ":extension FlexibleContexts\n",
    ":extension OverloadedStrings\n",
    ":extension GeneralizedNewtypeDeriving\n",
    ":extension FlexibleInstances\n",
    ":extension MultiParamTypeClasses"
   ]
  },
  {
   "cell_type": "code",
   "execution_count": 3,
   "metadata": {
    "collapsed": true
   },
   "outputs": [],
   "source": [
    "import Spark.Core.Dataset\n",
    "import Spark.Core.Context\n",
    "import Spark.Core.Column\n",
    "import Spark.Core.ColumnFunctions\n",
    "import Spark.Core.Functions\n",
    "import Spark.Core.Row\n",
    "import Spark.Core.Types\n",
    "import Spark.Core.Try\n",
    "\n",
    "import qualified Data.Vector as V\n",
    "import qualified Data.Text as T\n",
    "import GHC.Generics\n",
    "import IHaskell.Display"
   ]
  },
  {
   "cell_type": "code",
   "execution_count": 4,
   "metadata": {
    "collapsed": true
   },
   "outputs": [],
   "source": [
    "import Spark.Core.StructuresInternal(ComputationID(..))"
   ]
  },
  {
   "cell_type": "code",
   "execution_count": 5,
   "metadata": {},
   "outputs": [
    {
     "data": {
      "text/plain": [
       "[Debug] Creating spark session at url: http://10.0.2.2:8081/sessions/cache_sum1 @(<unknown>:<unknown> <unknown>:0:0)"
      ]
     },
     "metadata": {},
     "output_type": "display_data"
    }
   ],
   "source": [
    "\n",
    "conf = defaultConf {\n",
    "        confEndPoint = \"http://10.0.2.2\",\n",
    "        confRequestedSessionName = \"cache_sum1\" }\n",
    "\n",
    "createSparkSessionDef conf\n"
   ]
  },
  {
   "cell_type": "code",
   "execution_count": 6,
   "metadata": {},
   "outputs": [
    {
     "data": {
      "text/plain": [
       "[Debug] executeCommand1: computing observable /result@org.spark.LocalPlus!int @(<unknown>:<unknown> <unknown>:0:0)\n",
       "[Debug] executeCommand1: cgt= Right (ComputeDag {cdEdges = fromList [(9a5b0..,fromList [(Vertex(vId=9c16f.. v=/sum@SUM!int), Edge(from=9a5b0.. to=9c16f.. e=ParentEdge)),(Vertex(vId=e322c.. v=/count@COUNT!int), Edge(from=9a5b0.. to=e322c.. e=ParentEdge))]),(9c16f..,fromList [(Vertex(vId=c4ea4.. v=/data@org.spark.DistributedLiteral:int), Edge(from=9c16f.. to=c4ea4.. e=ParentEdge))]),(c4ea4..,fromList []),(e322c..,fromList [(Vertex(vId=c4ea4.. v=/data@org.spark.DistributedLiteral:int), Edge(from=e322c.. to=c4ea4.. e=ParentEdge))])], cdVertices = fromList [Vertex(vId=c4ea4.. v=/data@org.spark.DistributedLiteral:int),Vertex(vId=9c16f.. v=/sum@SUM!int),Vertex(vId=e322c.. v=/count@COUNT!int),Vertex(vId=9a5b0.. v=/result@org.spark.LocalPlus!int)], cdInputs = fromList [Vertex(vId=c4ea4.. v=/data@org.spark.DistributedLiteral:int)], cdOutputs = fromList [Vertex(vId=9a5b0.. v=/result@org.spark.LocalPlus!int)]}) @(<unknown>:<unknown> <unknown>:0:0)\n",
       "[Info] Sending computations at url: http://10.0.2.2:8081/computations/cache_sum1/0/createwith nodes: [/data@org.spark.DistributedLiteral:int,/sum@SUM!int,/count@COUNT!int,/result@org.spark.LocalPlus!int] @(<unknown>:<unknown> <unknown>:0:0)\n",
       "[Debug] executeCommand1: Tracked nodes are [(9c16f..,NPath(sum),int,NPath(sum)),(e322c..,NPath(count),int,NPath(count)),(9a5b0..,NPath(result),int,NPath(result))] @(<unknown>:<unknown> <unknown>:0:0)\n",
       "[Info] _computationMultiStatus: /sum running @(<unknown>:<unknown> <unknown>:0:0)\n",
       "[Info] _computationMultiStatus: /count running @(<unknown>:<unknown> <unknown>:0:0)\n",
       "[Info] _computationMultiStatus: /sum finished @(<unknown>:<unknown> <unknown>:0:0)\n",
       "[Info] _computationMultiStatus: /count finished @(<unknown>:<unknown> <unknown>:0:0)\n",
       "[Info] _computationMultiStatus: /result finished @(<unknown>:<unknown> <unknown>:0:0)\n",
       "9"
      ]
     },
     "metadata": {},
     "output_type": "display_data"
    }
   ],
   "source": [
    "ds = dataset ([1,2,3] :: [Int]) @@ \"data\"\n",
    "-- Turns the dataset into a column and computes the sum of all the elements in this column\n",
    "s1 = sumCol (asCol ds) @@ \"sum\"\n",
    "-- Counts the element in the dataset\n",
    "s2 = count ds @@ \"count\"\n",
    "x = (s1 + s2) @@ \"result\"\n",
    "exec1Def x"
   ]
  },
  {
   "cell_type": "code",
   "execution_count": 7,
   "metadata": {},
   "outputs": [
    {
     "data": {
      "text/plain": [
       "[Debug] computationStats: stats for ComputationID {unComputationID = \"0\"} @(<unknown>:<unknown> <unknown>:0:0)\n",
       "[Debug] Sending computations stats request at url: http://10.0.2.2:8081/computations_status/cache_sum1/0/ @(<unknown>:<unknown> <unknown>:0:0)"
      ]
     },
     "metadata": {},
     "output_type": "display_data"
    }
   ],
   "source": [
    "stats <- computationStatsDef (ComputationID \"0\")"
   ]
  },
  {
   "cell_type": "code",
   "execution_count": 8,
   "metadata": {
    "collapsed": true
   },
   "outputs": [],
   "source": [
    "let ns = statsToExportNodes stats"
   ]
  },
  {
   "cell_type": "code",
   "execution_count": 9,
   "metadata": {},
   "outputs": [
    {
     "data": {
      "text/html": [
       "<style>/* Styles used for the Hoogle display in the pager */\n",
       ".hoogle-doc {\n",
       "display: block;\n",
       "padding-bottom: 1.3em;\n",
       "padding-left: 0.4em;\n",
       "}\n",
       ".hoogle-code {\n",
       "display: block;\n",
       "font-family: monospace;\n",
       "white-space: pre;\n",
       "}\n",
       ".hoogle-text {\n",
       "display: block;\n",
       "}\n",
       ".hoogle-name {\n",
       "color: green;\n",
       "font-weight: bold;\n",
       "}\n",
       ".hoogle-head {\n",
       "font-weight: bold;\n",
       "}\n",
       ".hoogle-sub {\n",
       "display: block;\n",
       "margin-left: 0.4em;\n",
       "}\n",
       ".hoogle-package {\n",
       "font-weight: bold;\n",
       "font-style: italic;\n",
       "}\n",
       ".hoogle-module {\n",
       "font-weight: bold;\n",
       "}\n",
       ".hoogle-class {\n",
       "font-weight: bold;\n",
       "}\n",
       ".get-type {\n",
       "color: green;\n",
       "font-weight: bold;\n",
       "font-family: monospace;\n",
       "display: block;\n",
       "white-space: pre-wrap;\n",
       "}\n",
       ".show-type {\n",
       "color: green;\n",
       "font-weight: bold;\n",
       "font-family: monospace;\n",
       "margin-left: 1em;\n",
       "}\n",
       ".mono {\n",
       "font-family: monospace;\n",
       "display: block;\n",
       "}\n",
       ".err-msg {\n",
       "color: red;\n",
       "font-style: italic;\n",
       "font-family: monospace;\n",
       "white-space: pre;\n",
       "display: block;\n",
       "}\n",
       "#unshowable {\n",
       "color: red;\n",
       "font-weight: bold;\n",
       "}\n",
       ".err-msg.in.collapse {\n",
       "padding-top: 0.7em;\n",
       "}\n",
       ".highlight-code {\n",
       "white-space: pre;\n",
       "font-family: monospace;\n",
       "}\n",
       ".suggestion-warning { \n",
       "font-weight: bold;\n",
       "color: rgb(200, 130, 0);\n",
       "}\n",
       ".suggestion-error { \n",
       "font-weight: bold;\n",
       "color: red;\n",
       "}\n",
       ".suggestion-name {\n",
       "font-weight: bold;\n",
       "}\n",
       "</style><iframe seamless style='width:900px;height:620px;border:0' srcdoc='<script>function mycleanup1() {var docs = document.getElementsByClassName(\"side tf-graph-basic\");var n = docs.length;for (var i=0; i < n; i++) {var x = docs[i];if (x.style.display === \"\") {x.style.display = \"none\";}}};function mycleanup2() {var docs = document.getElementsByClassName(\"main tf-graph-basic\");var n = docs.length;for (var i=0; i < n; i++) {var x = docs[i];if (x.style.left !== 0) {x.style.left = 0;}}};function load() {{  document.getElementById(\"5615418473493766303\").pbtxt = \"node {\\n  name: \\\"sum/ParallelCollectionRDD-170\\\"\\n  op: \\\"ParallelCollectionRDD\\\"\\n  attr {\\n    key: \\\"name\\\"\\n    value {\\n      val: \\\"ParallelCollectionRDD[170] at execute at ExecutionItem.scala:122\\\"\\n    }\\n  }\\n}\\nnode {\\n  name: \\\"sum/MapPartitionsRDD-171\\\"\\n  op: \\\"MapPartitionsRDD\\\"\\n  input: \\\"sum/ParallelCollectionRDD-170\\\"\\n  attr {\\n    key: \\\"name\\\"\\n    value {\\n      val: \\\"MapPartitionsRDD[171] at execute at ExecutionItem.scala:122\\\"\\n    }\\n  }\\n}\\nnode {\\n  name: \\\"sum/MapPartitionsRDD-172\\\"\\n  op: \\\"MapPartitionsRDD\\\"\\n  input: \\\"sum/MapPartitionsRDD-171\\\"\\n  attr {\\n    key: \\\"name\\\"\\n    value {\\n      val: \\\"MapPartitionsRDD[172] at execute at ExecutionItem.scala:122\\\"\\n    }\\n  }\\n}\\nnode {\\n  name: \\\"sum/MapPartitionsRDD-173\\\"\\n  op: \\\"MapPartitionsRDD\\\"\\n  input: \\\"sum/MapPartitionsRDD-172\\\"\\n  attr {\\n    key: \\\"name\\\"\\n    value {\\n      val: \\\"MapPartitionsRDD[173] at execute at ExecutionItem.scala:122\\\"\\n    }\\n  }\\n}\\nnode {\\n  name: \\\"sum/ShuffledRowRDD-174\\\"\\n  op: \\\"ShuffledRowRDD\\\"\\n  input: \\\"sum/MapPartitionsRDD-173\\\"\\n  attr {\\n    key: \\\"name\\\"\\n    value {\\n      val: \\\"ShuffledRowRDD[174] at execute at ExecutionItem.scala:122\\\"\\n    }\\n  }\\n}\\nnode {\\n  name: \\\"sum/MapPartitionsRDD-175\\\"\\n  op: \\\"MapPartitionsRDD\\\"\\n  input: \\\"sum/ShuffledRowRDD-174\\\"\\n  attr {\\n    key: \\\"name\\\"\\n    value {\\n      val: \\\"MapPartitionsRDD[175] at execute at ExecutionItem.scala:122\\\"\\n    }\\n  }\\n}\\nnode {\\n  name: \\\"count/ParallelCollectionRDD-176\\\"\\n  op: \\\"ParallelCollectionRDD\\\"\\n  attr {\\n    key: \\\"name\\\"\\n    value {\\n      val: \\\"ParallelCollectionRDD[176] at execute at ExecutionItem.scala:122\\\"\\n    }\\n  }\\n}\\nnode {\\n  name: \\\"count/MapPartitionsRDD-177\\\"\\n  op: \\\"MapPartitionsRDD\\\"\\n  input: \\\"count/ParallelCollectionRDD-176\\\"\\n  attr {\\n    key: \\\"name\\\"\\n    value {\\n      val: \\\"MapPartitionsRDD[177] at execute at ExecutionItem.scala:122\\\"\\n    }\\n  }\\n}\\nnode {\\n  name: \\\"count/MapPartitionsRDD-178\\\"\\n  op: \\\"MapPartitionsRDD\\\"\\n  input: \\\"count/MapPartitionsRDD-177\\\"\\n  attr {\\n    key: \\\"name\\\"\\n    value {\\n      val: \\\"MapPartitionsRDD[178] at execute at ExecutionItem.scala:122\\\"\\n    }\\n  }\\n}\\nnode {\\n  name: \\\"count/MapPartitionsRDD-179\\\"\\n  op: \\\"MapPartitionsRDD\\\"\\n  input: \\\"count/MapPartitionsRDD-178\\\"\\n  attr {\\n    key: \\\"name\\\"\\n    value {\\n      val: \\\"MapPartitionsRDD[179] at execute at ExecutionItem.scala:122\\\"\\n    }\\n  }\\n}\\nnode {\\n  name: \\\"count/ShuffledRowRDD-180\\\"\\n  op: \\\"ShuffledRowRDD\\\"\\n  input: \\\"count/MapPartitionsRDD-179\\\"\\n  attr {\\n    key: \\\"name\\\"\\n    value {\\n      val: \\\"ShuffledRowRDD[180] at execute at ExecutionItem.scala:122\\\"\\n    }\\n  }\\n}\\nnode {\\n  name: \\\"count/MapPartitionsRDD-181\\\"\\n  op: \\\"MapPartitionsRDD\\\"\\n  input: \\\"count/ShuffledRowRDD-180\\\"\\n  attr {\\n    key: \\\"name\\\"\\n    value {\\n      val: \\\"MapPartitionsRDD[181] at execute at ExecutionItem.scala:122\\\"\\n    }\\n  }\\n}\\nnode {\\n  name: \\\"result/ParallelCollectionRDD-182\\\"\\n  op: \\\"ParallelCollectionRDD\\\"\\n  input: \\\"^count/MapPartitionsRDD-181:0\\\"\\n  input: \\\"^sum/MapPartitionsRDD-175:0\\\"\\n  attr {\\n    key: \\\"name\\\"\\n    value {\\n      val: \\\"ParallelCollectionRDD[182] at execute at ExecutionItem.scala:122\\\"\\n    }\\n  }\\n}\\nnode {\\n  name: \\\"result/MapPartitionsRDD-183\\\"\\n  op: \\\"MapPartitionsRDD\\\"\\n  input: \\\"result/ParallelCollectionRDD-182\\\"\\n  attr {\\n    key: \\\"name\\\"\\n    value {\\n      val: \\\"MapPartitionsRDD[183] at execute at ExecutionItem.scala:122\\\"\\n    }\\n  }\\n}\\n\";  setInterval(mycleanup1, 500);  setInterval(mycleanup2, 500);}}</script><link rel=\"import\" href=\"https://tensorboard.appspot.com/tf-graph-basic.build.html\" onload=load() onscroll=scroll()><div style=\"height:600px\"><tf-graph-basic id=\"5615418473493766303\"></tf-graph-basic></div>'></iframe>"
      ]
     },
     "metadata": {},
     "output_type": "display_data"
    }
   ],
   "source": [
    "let c = T.unpack (tfIFrame ns)\n",
    "Display [html c]"
   ]
  },
  {
   "cell_type": "code",
   "execution_count": null,
   "metadata": {
    "collapsed": true
   },
   "outputs": [],
   "source": []
  }
 ],
 "metadata": {
  "kernelspec": {
   "display_name": "Haskell",
   "language": "haskell",
   "name": "haskell"
  },
  "language_info": {
   "codemirror_mode": "ihaskell",
   "file_extension": ".hs",
   "name": "haskell",
   "version": "7.10.2"
  }
 },
 "nbformat": 4,
 "nbformat_minor": 1
}
