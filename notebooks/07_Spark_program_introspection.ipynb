{
 "cells": [
  {
   "cell_type": "code",
   "execution_count": 1,
   "metadata": {
    "collapsed": true
   },
   "outputs": [],
   "source": [
    ":load KarpsDisplays KarpsDagDisplay"
   ]
  },
  {
   "cell_type": "code",
   "execution_count": 2,
   "metadata": {
    "collapsed": true
   },
   "outputs": [],
   "source": [
    ":extension DeriveGeneric\n",
    ":extension FlexibleContexts\n",
    ":extension OverloadedStrings\n",
    ":extension GeneralizedNewtypeDeriving\n",
    ":extension FlexibleInstances\n",
    ":extension MultiParamTypeClasses"
   ]
  },
  {
   "cell_type": "code",
   "execution_count": 3,
   "metadata": {},
   "outputs": [],
   "source": [
    "import Spark.Core.Dataset\n",
    "import Spark.Core.Context\n",
    "import Spark.Core.Column\n",
    "import Spark.Core.ColumnFunctions\n",
    "import Spark.Core.Functions\n",
    "import Spark.Core.Row\n",
    "import Spark.Core.Types\n",
    "import Spark.Core.Try\n",
    "import KarpsDisplays\n",
    "import KarpsDagDisplay\n",
    "\n",
    "import qualified Data.Vector as V\n",
    "import qualified Data.Text as T\n",
    "import GHC.Generics\n",
    "import IHaskell.Display"
   ]
  },
  {
   "cell_type": "code",
   "execution_count": 4,
   "metadata": {
    "collapsed": true
   },
   "outputs": [],
   "source": [
    "import Spark.Core.StructuresInternal(ComputationID(..))"
   ]
  },
  {
   "cell_type": "code",
   "execution_count": 5,
   "metadata": {},
   "outputs": [
    {
     "data": {
      "text/plain": [
       "[Debug] Creating spark session at url: http://10.0.2.2:8081/sessions/spark_intro7 @(<unknown>:<unknown> <unknown>:0:0)"
      ]
     },
     "metadata": {},
     "output_type": "display_data"
    }
   ],
   "source": [
    "\n",
    "conf = defaultConf {\n",
    "        confEndPoint = \"http://10.0.2.2\",\n",
    "        confRequestedSessionName = \"spark_intro7\" }\n",
    "\n",
    "createSparkSessionDef conf\n"
   ]
  },
  {
   "cell_type": "code",
   "execution_count": 6,
   "metadata": {},
   "outputs": [
    {
     "data": {
      "text/plain": [
       "[Debug] executeCommand1': computing observable /result@org.spark.LocalPlus!int @(<unknown>:<unknown> <unknown>:0:0)\n",
       "[Info] Sending computations at url: http://10.0.2.2:8081/computations/spark_intro7/0/createwith nodes: [/data@org.spark.DistributedLiteral:int,/sum@SUM!int,/count@COUNT!int,/result@org.spark.LocalPlus!int] @(<unknown>:<unknown> <unknown>:0:0)\n",
       "[Info] _computationMultiStatus: /sum running @(<unknown>:<unknown> <unknown>:0:0)\n",
       "[Info] _computationMultiStatus: /count running @(<unknown>:<unknown> <unknown>:0:0)\n",
       "[Info] _computationMultiStatus: /sum finished @(<unknown>:<unknown> <unknown>:0:0)\n",
       "[Info] _computationMultiStatus: /count finished @(<unknown>:<unknown> <unknown>:0:0)\n",
       "[Info] _computationMultiStatus: /result finished @(<unknown>:<unknown> <unknown>:0:0)\n",
       "9"
      ]
     },
     "metadata": {},
     "output_type": "display_data"
    }
   ],
   "source": [
    "ds = dataset ([1,2,3] :: [Int]) @@ \"data\"\n",
    "-- Turns the dataset into a column and computes the sum of all the elements in this column\n",
    "s1 = sumCol (asCol ds) @@ \"sum\"\n",
    "-- Counts the element in the dataset\n",
    "s2 = count ds @@ \"count\"\n",
    "x = (s1 + s2) @@ \"result\"\n",
    "exec1Def x"
   ]
  },
  {
   "cell_type": "markdown",
   "metadata": {},
   "source": [
    "A shortcut method lets you display the graph of physical operations accomplished by Spark under the hood.\n",
    "In order to access the computations, though, you need to know the ID of the computation. It is printed\n",
    "when you execute a graph at the line `[Info] Sending computations ... computations/cache_sum1/XXXXX/create`"
   ]
  },
  {
   "cell_type": "code",
   "execution_count": 7,
   "metadata": {},
   "outputs": [
    {
     "data": {
      "text/html": [
       "<style>/* Styles used for the Hoogle display in the pager */\n",
       ".hoogle-doc {\n",
       "display: block;\n",
       "padding-bottom: 1.3em;\n",
       "padding-left: 0.4em;\n",
       "}\n",
       ".hoogle-code {\n",
       "display: block;\n",
       "font-family: monospace;\n",
       "white-space: pre;\n",
       "}\n",
       ".hoogle-text {\n",
       "display: block;\n",
       "}\n",
       ".hoogle-name {\n",
       "color: green;\n",
       "font-weight: bold;\n",
       "}\n",
       ".hoogle-head {\n",
       "font-weight: bold;\n",
       "}\n",
       ".hoogle-sub {\n",
       "display: block;\n",
       "margin-left: 0.4em;\n",
       "}\n",
       ".hoogle-package {\n",
       "font-weight: bold;\n",
       "font-style: italic;\n",
       "}\n",
       ".hoogle-module {\n",
       "font-weight: bold;\n",
       "}\n",
       ".hoogle-class {\n",
       "font-weight: bold;\n",
       "}\n",
       ".get-type {\n",
       "color: green;\n",
       "font-weight: bold;\n",
       "font-family: monospace;\n",
       "display: block;\n",
       "white-space: pre-wrap;\n",
       "}\n",
       ".show-type {\n",
       "color: green;\n",
       "font-weight: bold;\n",
       "font-family: monospace;\n",
       "margin-left: 1em;\n",
       "}\n",
       ".mono {\n",
       "font-family: monospace;\n",
       "display: block;\n",
       "}\n",
       ".err-msg {\n",
       "color: red;\n",
       "font-style: italic;\n",
       "font-family: monospace;\n",
       "white-space: pre;\n",
       "display: block;\n",
       "}\n",
       "#unshowable {\n",
       "color: red;\n",
       "font-weight: bold;\n",
       "}\n",
       ".err-msg.in.collapse {\n",
       "padding-top: 0.7em;\n",
       "}\n",
       ".highlight-code {\n",
       "white-space: pre;\n",
       "font-family: monospace;\n",
       "}\n",
       ".suggestion-warning { \n",
       "font-weight: bold;\n",
       "color: rgb(200, 130, 0);\n",
       "}\n",
       ".suggestion-error { \n",
       "font-weight: bold;\n",
       "color: red;\n",
       "}\n",
       ".suggestion-name {\n",
       "font-weight: bold;\n",
       "}\n",
       "</style><iframe seamless style='width:900px;height:620px;border:0' srcdoc='<script>function mycleanup1() {var docs = document.getElementsByClassName(\"side tf-graph-basic\");var n = docs.length;for (var i=0; i < n; i++) {var x = docs[i];if (x.style.display === \"\") {x.style.display = \"none\";}}};function mycleanup2() {var docs = document.getElementsByClassName(\"main tf-graph-basic\");var n = docs.length;for (var i=0; i < n; i++) {var x = docs[i];if (x.style.left !== 0) {x.style.left = 0;}}};function load() {{  document.getElementById(\"-1149968794869779621\").pbtxt = \"node {\\n  name: \\\"sum/ParallelCollectionRDD-490\\\"\\n  op: \\\"ParallelCollectionRDD\\\"\\n  attr {\\n    key: \\\"name\\\"\\n    value {\\n      val: \\\"ParallelCollectionRDD[490] at execute at ExecutionItem.scala:122\\\"\\n    }\\n  }\\n}\\nnode {\\n  name: \\\"sum/MapPartitionsRDD-491\\\"\\n  op: \\\"MapPartitionsRDD\\\"\\n  input: \\\"sum/ParallelCollectionRDD-490\\\"\\n  attr {\\n    key: \\\"name\\\"\\n    value {\\n      val: \\\"MapPartitionsRDD[491] at execute at ExecutionItem.scala:122\\\"\\n    }\\n  }\\n}\\nnode {\\n  name: \\\"sum/MapPartitionsRDD-492\\\"\\n  op: \\\"MapPartitionsRDD\\\"\\n  input: \\\"sum/MapPartitionsRDD-491\\\"\\n  attr {\\n    key: \\\"name\\\"\\n    value {\\n      val: \\\"MapPartitionsRDD[492] at execute at ExecutionItem.scala:122\\\"\\n    }\\n  }\\n}\\nnode {\\n  name: \\\"sum/MapPartitionsRDD-493\\\"\\n  op: \\\"MapPartitionsRDD\\\"\\n  input: \\\"sum/MapPartitionsRDD-492\\\"\\n  attr {\\n    key: \\\"name\\\"\\n    value {\\n      val: \\\"MapPartitionsRDD[493] at execute at ExecutionItem.scala:122\\\"\\n    }\\n  }\\n}\\nnode {\\n  name: \\\"sum/ShuffledRowRDD-494\\\"\\n  op: \\\"ShuffledRowRDD\\\"\\n  input: \\\"sum/MapPartitionsRDD-493\\\"\\n  attr {\\n    key: \\\"name\\\"\\n    value {\\n      val: \\\"ShuffledRowRDD[494] at execute at ExecutionItem.scala:122\\\"\\n    }\\n  }\\n}\\nnode {\\n  name: \\\"sum/MapPartitionsRDD-495\\\"\\n  op: \\\"MapPartitionsRDD\\\"\\n  input: \\\"sum/ShuffledRowRDD-494\\\"\\n  attr {\\n    key: \\\"name\\\"\\n    value {\\n      val: \\\"MapPartitionsRDD[495] at execute at ExecutionItem.scala:122\\\"\\n    }\\n  }\\n}\\nnode {\\n  name: \\\"count/ParallelCollectionRDD-496\\\"\\n  op: \\\"ParallelCollectionRDD\\\"\\n  attr {\\n    key: \\\"name\\\"\\n    value {\\n      val: \\\"ParallelCollectionRDD[496] at execute at ExecutionItem.scala:122\\\"\\n    }\\n  }\\n}\\nnode {\\n  name: \\\"count/MapPartitionsRDD-497\\\"\\n  op: \\\"MapPartitionsRDD\\\"\\n  input: \\\"count/ParallelCollectionRDD-496\\\"\\n  attr {\\n    key: \\\"name\\\"\\n    value {\\n      val: \\\"MapPartitionsRDD[497] at execute at ExecutionItem.scala:122\\\"\\n    }\\n  }\\n}\\nnode {\\n  name: \\\"count/MapPartitionsRDD-498\\\"\\n  op: \\\"MapPartitionsRDD\\\"\\n  input: \\\"count/MapPartitionsRDD-497\\\"\\n  attr {\\n    key: \\\"name\\\"\\n    value {\\n      val: \\\"MapPartitionsRDD[498] at execute at ExecutionItem.scala:122\\\"\\n    }\\n  }\\n}\\nnode {\\n  name: \\\"count/MapPartitionsRDD-499\\\"\\n  op: \\\"MapPartitionsRDD\\\"\\n  input: \\\"count/MapPartitionsRDD-498\\\"\\n  attr {\\n    key: \\\"name\\\"\\n    value {\\n      val: \\\"MapPartitionsRDD[499] at execute at ExecutionItem.scala:122\\\"\\n    }\\n  }\\n}\\nnode {\\n  name: \\\"count/ShuffledRowRDD-500\\\"\\n  op: \\\"ShuffledRowRDD\\\"\\n  input: \\\"count/MapPartitionsRDD-499\\\"\\n  attr {\\n    key: \\\"name\\\"\\n    value {\\n      val: \\\"ShuffledRowRDD[500] at execute at ExecutionItem.scala:122\\\"\\n    }\\n  }\\n}\\nnode {\\n  name: \\\"count/MapPartitionsRDD-501\\\"\\n  op: \\\"MapPartitionsRDD\\\"\\n  input: \\\"count/ShuffledRowRDD-500\\\"\\n  attr {\\n    key: \\\"name\\\"\\n    value {\\n      val: \\\"MapPartitionsRDD[501] at execute at ExecutionItem.scala:122\\\"\\n    }\\n  }\\n}\\nnode {\\n  name: \\\"result/ParallelCollectionRDD-502\\\"\\n  op: \\\"ParallelCollectionRDD\\\"\\n  input: \\\"^count/MapPartitionsRDD-501:0\\\"\\n  input: \\\"^sum/MapPartitionsRDD-495:0\\\"\\n  attr {\\n    key: \\\"name\\\"\\n    value {\\n      val: \\\"ParallelCollectionRDD[502] at execute at ExecutionItem.scala:122\\\"\\n    }\\n  }\\n}\\nnode {\\n  name: \\\"result/MapPartitionsRDD-503\\\"\\n  op: \\\"MapPartitionsRDD\\\"\\n  input: \\\"result/ParallelCollectionRDD-502\\\"\\n  attr {\\n    key: \\\"name\\\"\\n    value {\\n      val: \\\"MapPartitionsRDD[503] at execute at ExecutionItem.scala:122\\\"\\n    }\\n  }\\n}\\n\";  setInterval(mycleanup1, 500);  setInterval(mycleanup2, 500);}}</script><link rel=\"import\" href=\"https://tensorboard.appspot.com/tf-graph-basic.build.html\" onload=load() onscroll=scroll()><div style=\"height:600px\"><tf-graph-basic id=\"-1149968794869779621\"></tf-graph-basic></div>'></iframe>"
      ]
     },
     "metadata": {},
     "output_type": "display_data"
    }
   ],
   "source": [
    "displayRDD \"0\""
   ]
  },
  {
   "cell_type": "code",
   "execution_count": null,
   "metadata": {
    "collapsed": true
   },
   "outputs": [],
   "source": []
  }
 ],
 "metadata": {
  "kernelspec": {
   "display_name": "Haskell",
   "language": "haskell",
   "name": "haskell"
  },
  "language_info": {
   "codemirror_mode": "ihaskell",
   "file_extension": ".hs",
   "name": "haskell",
   "version": "7.10.2"
  }
 },
 "nbformat": 4,
 "nbformat_minor": 1
}
