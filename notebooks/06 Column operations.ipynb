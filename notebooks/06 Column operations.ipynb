{
 "cells": [
  {
   "cell_type": "code",
   "execution_count": 13,
   "metadata": {
    "collapsed": true
   },
   "outputs": [],
   "source": [
    ":load KrapshDisplays KrapshDagDisplay"
   ]
  },
  {
   "cell_type": "code",
   "execution_count": 14,
   "metadata": {
    "collapsed": true
   },
   "outputs": [],
   "source": [
    ":extension DeriveGeneric\n",
    ":extension FlexibleContexts\n",
    ":extension OverloadedStrings\n",
    ":extension GeneralizedNewtypeDeriving\n",
    ":extension FlexibleInstances\n",
    ":extension MultiParamTypeClasses"
   ]
  },
  {
   "cell_type": "code",
   "execution_count": 15,
   "metadata": {
    "collapsed": true
   },
   "outputs": [],
   "source": [
    "import Spark.Core.Dataset\n",
    "import Spark.Core.Context\n",
    "import Spark.Core.Column\n",
    "import Spark.Core.ColumnFunctions\n",
    "import Spark.Core.Functions\n",
    "import Spark.Core.Row\n",
    "import Spark.Core.Types\n",
    "import Spark.Core.Try\n",
    "\n",
    "import qualified Data.Vector as V\n",
    "import qualified Data.Text as T\n",
    "import GHC.Generics"
   ]
  },
  {
   "cell_type": "code",
   "execution_count": 16,
   "metadata": {
    "collapsed": true
   },
   "outputs": [],
   "source": [
    "myScaler :: Column ref Double -> Column ref Double\n",
    "myScaler col =\n",
    "  let cnt = asDouble (countCol col) @@ \"count\"\n",
    "      m = sumCol col / cnt @@ \"mean\"\n",
    "      centered = col .- m\n",
    "      stdDev = sumCol (centered * centered) / cnt @@ \"std_dev\"\n",
    "  in centered ./ stdDev\n"
   ]
  },
  {
   "cell_type": "code",
   "execution_count": 17,
   "metadata": {},
   "outputs": [
    {
     "data": {
      "text/html": [
       "<style>/* Styles used for the Hoogle display in the pager */\n",
       ".hoogle-doc {\n",
       "display: block;\n",
       "padding-bottom: 1.3em;\n",
       "padding-left: 0.4em;\n",
       "}\n",
       ".hoogle-code {\n",
       "display: block;\n",
       "font-family: monospace;\n",
       "white-space: pre;\n",
       "}\n",
       ".hoogle-text {\n",
       "display: block;\n",
       "}\n",
       ".hoogle-name {\n",
       "color: green;\n",
       "font-weight: bold;\n",
       "}\n",
       ".hoogle-head {\n",
       "font-weight: bold;\n",
       "}\n",
       ".hoogle-sub {\n",
       "display: block;\n",
       "margin-left: 0.4em;\n",
       "}\n",
       ".hoogle-package {\n",
       "font-weight: bold;\n",
       "font-style: italic;\n",
       "}\n",
       ".hoogle-module {\n",
       "font-weight: bold;\n",
       "}\n",
       ".hoogle-class {\n",
       "font-weight: bold;\n",
       "}\n",
       ".get-type {\n",
       "color: green;\n",
       "font-weight: bold;\n",
       "font-family: monospace;\n",
       "display: block;\n",
       "white-space: pre-wrap;\n",
       "}\n",
       ".show-type {\n",
       "color: green;\n",
       "font-weight: bold;\n",
       "font-family: monospace;\n",
       "margin-left: 1em;\n",
       "}\n",
       ".mono {\n",
       "font-family: monospace;\n",
       "display: block;\n",
       "}\n",
       ".err-msg {\n",
       "color: red;\n",
       "font-style: italic;\n",
       "font-family: monospace;\n",
       "white-space: pre;\n",
       "display: block;\n",
       "}\n",
       "#unshowable {\n",
       "color: red;\n",
       "font-weight: bold;\n",
       "}\n",
       ".err-msg.in.collapse {\n",
       "padding-top: 0.7em;\n",
       "}\n",
       ".highlight-code {\n",
       "white-space: pre;\n",
       "font-family: monospace;\n",
       "}\n",
       ".suggestion-warning { \n",
       "font-weight: bold;\n",
       "color: rgb(200, 130, 0);\n",
       "}\n",
       ".suggestion-error { \n",
       "font-weight: bold;\n",
       "color: red;\n",
       "}\n",
       ".suggestion-name {\n",
       "font-weight: bold;\n",
       "}\n",
       "</style><span class='get-type'>myScaler :: forall ref. Column ref Double -> Column ref Double</span>"
      ],
      "text/plain": [
       "myScaler :: forall ref. Column ref Double -> Column ref Double"
      ]
     },
     "metadata": {},
     "output_type": "display_data"
    }
   ],
   "source": [
    ":t myScaler"
   ]
  },
  {
   "cell_type": "code",
   "execution_count": 18,
   "metadata": {
    "collapsed": true
   },
   "outputs": [],
   "source": [
    "let ds = dataset [-1, 1] :: Dataset Double\n",
    "let c = myScaler (asCol ds)"
   ]
  },
  {
   "cell_type": "code",
   "execution_count": 19,
   "metadata": {},
   "outputs": [],
   "source": [
    "let ds2 = pack1 c"
   ]
  },
  {
   "cell_type": "code",
   "execution_count": 20,
   "metadata": {},
   "outputs": [
    {
     "data": {
      "text/html": [
       "<style>/* Styles used for the Hoogle display in the pager */\n",
       ".hoogle-doc {\n",
       "display: block;\n",
       "padding-bottom: 1.3em;\n",
       "padding-left: 0.4em;\n",
       "}\n",
       ".hoogle-code {\n",
       "display: block;\n",
       "font-family: monospace;\n",
       "white-space: pre;\n",
       "}\n",
       ".hoogle-text {\n",
       "display: block;\n",
       "}\n",
       ".hoogle-name {\n",
       "color: green;\n",
       "font-weight: bold;\n",
       "}\n",
       ".hoogle-head {\n",
       "font-weight: bold;\n",
       "}\n",
       ".hoogle-sub {\n",
       "display: block;\n",
       "margin-left: 0.4em;\n",
       "}\n",
       ".hoogle-package {\n",
       "font-weight: bold;\n",
       "font-style: italic;\n",
       "}\n",
       ".hoogle-module {\n",
       "font-weight: bold;\n",
       "}\n",
       ".hoogle-class {\n",
       "font-weight: bold;\n",
       "}\n",
       ".get-type {\n",
       "color: green;\n",
       "font-weight: bold;\n",
       "font-family: monospace;\n",
       "display: block;\n",
       "white-space: pre-wrap;\n",
       "}\n",
       ".show-type {\n",
       "color: green;\n",
       "font-weight: bold;\n",
       "font-family: monospace;\n",
       "margin-left: 1em;\n",
       "}\n",
       ".mono {\n",
       "font-family: monospace;\n",
       "display: block;\n",
       "}\n",
       ".err-msg {\n",
       "color: red;\n",
       "font-style: italic;\n",
       "font-family: monospace;\n",
       "white-space: pre;\n",
       "display: block;\n",
       "}\n",
       "#unshowable {\n",
       "color: red;\n",
       "font-weight: bold;\n",
       "}\n",
       ".err-msg.in.collapse {\n",
       "padding-top: 0.7em;\n",
       "}\n",
       ".highlight-code {\n",
       "white-space: pre;\n",
       "font-family: monospace;\n",
       "}\n",
       ".suggestion-warning { \n",
       "font-weight: bold;\n",
       "color: rgb(200, 130, 0);\n",
       "}\n",
       ".suggestion-error { \n",
       "font-weight: bold;\n",
       "color: red;\n",
       "}\n",
       ".suggestion-name {\n",
       "font-weight: bold;\n",
       "}\n",
       "</style><iframe seamless style='width:900px;height:620px;border:0' srcdoc='<script>function mycleanup1() {var docs = document.getElementsByClassName(\"side tf-graph-basic\");var n = docs.length;for (var i=0; i < n; i++) {var x = docs[i];if (x.style.display === \"\") {x.style.display = \"none\";}}};function mycleanup2() {var docs = document.getElementsByClassName(\"main tf-graph-basic\");var n = docs.length;for (var i=0; i < n; i++) {var x = docs[i];if (x.style.left !== 0) {x.style.left = 0;}}};function load() {{  document.getElementById(\"-1015780770548508534\").pbtxt = \"node {\\n  name: \\\"distributedliteral_e02234\\\"\\n  op: \\\"org.spark.DistributedLiteral\\\"\\n  attr {\\n    key: \\\"locality\\\"\\n    value {\\n      val: \\\"distributed\\\"\\n    }\\n  }\\n  attr {\\n    key: \\\"sqlType\\\"\\n    value {\\n      val: \\\"double\\\"\\n    }\\n  }\\n}\\nnode {\\n  name: \\\"select_74a16c\\\"\\n  op: \\\"org.spark.Select\\\"\\n  input: \\\"distributedliteral_e02234\\\"\\n  attr {\\n    key: \\\"locality\\\"\\n    value {\\n      val: \\\"distributed\\\"\\n    }\\n  }\\n  attr {\\n    key: \\\"sqlType\\\"\\n    value {\\n      val: \\\"double\\\"\\n    }\\n  }\\n}\\nnode {\\n  name: \\\"sum_97a943\\\"\\n  op: \\\"org.spark.StructuredReduction\\\"\\n  input: \\\"select_74a16c\\\"\\n  attr {\\n    key: \\\"locality\\\"\\n    value {\\n      val: \\\"local\\\"\\n    }\\n  }\\n  attr {\\n    key: \\\"sqlType\\\"\\n    value {\\n      val: \\\"double\\\"\\n    }\\n  }\\n}\\nnode {\\n  name: \\\"count_a49c15\\\"\\n  op: \\\"org.spark.StructuredReduction\\\"\\n  input: \\\"select_74a16c\\\"\\n  attr {\\n    key: \\\"locality\\\"\\n    value {\\n      val: \\\"local\\\"\\n    }\\n  }\\n  attr {\\n    key: \\\"sqlType\\\"\\n    value {\\n      val: \\\"int\\\"\\n    }\\n  }\\n}\\nnode {\\n  name: \\\"count\\\"\\n  op: \\\"org.spark.Select\\\"\\n  input: \\\"count_a49c15\\\"\\n  attr {\\n    key: \\\"locality\\\"\\n    value {\\n      val: \\\"local\\\"\\n    }\\n  }\\n  attr {\\n    key: \\\"sqlType\\\"\\n    value {\\n      val: \\\"double\\\"\\n    }\\n  }\\n}\\nnode {\\n  name: \\\"mean\\\"\\n  op: \\\"org.spark.LocalDiv\\\"\\n  input: \\\"sum_97a943\\\"\\n  input: \\\"count\\\"\\n  attr {\\n    key: \\\"locality\\\"\\n    value {\\n      val: \\\"local\\\"\\n    }\\n  }\\n  attr {\\n    key: \\\"sqlType\\\"\\n    value {\\n      val: \\\"double\\\"\\n    }\\n  }\\n}\\nnode {\\n  name: \\\"localpack_571046\\\"\\n  op: \\\"org.spark.LocalPack\\\"\\n  input: \\\"mean\\\"\\n  input: \\\"mean\\\"\\n  attr {\\n    key: \\\"locality\\\"\\n    value {\\n      val: \\\"local\\\"\\n    }\\n  }\\n  attr {\\n    key: \\\"sqlType\\\"\\n    value {\\n      val: \\\"{_1:double _2:double}\\\"\\n    }\\n  }\\n}\\nnode {\\n  name: \\\"broadcastpair_d07a62\\\"\\n  op: \\\"org.spark.BroadcastPair\\\"\\n  input: \\\"distributedliteral_e02234\\\"\\n  input: \\\"localpack_571046\\\"\\n  attr {\\n    key: \\\"locality\\\"\\n    value {\\n      val: \\\"distributed\\\"\\n    }\\n  }\\n  attr {\\n    key: \\\"sqlType\\\"\\n    value {\\n      val: \\\"{_1:double _2:{_1:double _2:double}}\\\"\\n    }\\n  }\\n}\\nnode {\\n  name: \\\"select_43f40e\\\"\\n  op: \\\"org.spark.Select\\\"\\n  input: \\\"broadcastpair_d07a62\\\"\\n  attr {\\n    key: \\\"locality\\\"\\n    value {\\n      val: \\\"distributed\\\"\\n    }\\n  }\\n  attr {\\n    key: \\\"sqlType\\\"\\n    value {\\n      val: \\\"double\\\"\\n    }\\n  }\\n}\\nnode {\\n  name: \\\"sum_0c7185\\\"\\n  op: \\\"org.spark.StructuredReduction\\\"\\n  input: \\\"select_43f40e\\\"\\n  attr {\\n    key: \\\"locality\\\"\\n    value {\\n      val: \\\"local\\\"\\n    }\\n  }\\n  attr {\\n    key: \\\"sqlType\\\"\\n    value {\\n      val: \\\"double\\\"\\n    }\\n  }\\n}\\nnode {\\n  name: \\\"std_dev\\\"\\n  op: \\\"org.spark.LocalDiv\\\"\\n  input: \\\"sum_0c7185\\\"\\n  input: \\\"count\\\"\\n  attr {\\n    key: \\\"locality\\\"\\n    value {\\n      val: \\\"local\\\"\\n    }\\n  }\\n  attr {\\n    key: \\\"sqlType\\\"\\n    value {\\n      val: \\\"double\\\"\\n    }\\n  }\\n}\\nnode {\\n  name: \\\"localpack_26a9f0\\\"\\n  op: \\\"org.spark.LocalPack\\\"\\n  input: \\\"mean\\\"\\n  input: \\\"std_dev\\\"\\n  attr {\\n    key: \\\"locality\\\"\\n    value {\\n      val: \\\"local\\\"\\n    }\\n  }\\n  attr {\\n    key: \\\"sqlType\\\"\\n    value {\\n      val: \\\"{_1:double _2:double}\\\"\\n    }\\n  }\\n}\\nnode {\\n  name: \\\"broadcastpair_d9ba94\\\"\\n  op: \\\"org.spark.BroadcastPair\\\"\\n  input: \\\"distributedliteral_e02234\\\"\\n  input: \\\"localpack_26a9f0\\\"\\n  attr {\\n    key: \\\"locality\\\"\\n    value {\\n      val: \\\"distributed\\\"\\n    }\\n  }\\n  attr {\\n    key: \\\"sqlType\\\"\\n    value {\\n      val: \\\"{_1:double _2:{_1:double _2:double}}\\\"\\n    }\\n  }\\n}\\nnode {\\n  name: \\\"select_a565bb\\\"\\n  op: \\\"org.spark.Select\\\"\\n  input: \\\"broadcastpair_d9ba94\\\"\\n  attr {\\n    key: \\\"locality\\\"\\n    value {\\n      val: \\\"distributed\\\"\\n    }\\n  }\\n  attr {\\n    key: \\\"sqlType\\\"\\n    value {\\n      val: \\\"double\\\"\\n    }\\n  }\\n}\\n\";  setInterval(mycleanup1, 500);  setInterval(mycleanup2, 500);}}</script><link rel=\"import\" href=\"https://tensorboard.appspot.com/tf-graph-basic.build.html\" onload=load() onscroll=scroll()><div style=\"height:600px\"><tf-graph-basic id=\"-1015780770548508534\"></tf-graph-basic></div>'></iframe>"
      ]
     },
     "metadata": {},
     "output_type": "display_data"
    }
   ],
   "source": [
    "showGraph ds2"
   ]
  },
  {
   "cell_type": "code",
   "execution_count": 21,
   "metadata": {
    "collapsed": true
   },
   "outputs": [],
   "source": [
    "let res = collect (asCol ds2)"
   ]
  },
  {
   "cell_type": "code",
   "execution_count": 22,
   "metadata": {},
   "outputs": [
    {
     "data": {
      "text/plain": [
       "[Debug] Creating spark session at url: http://10.0.2.2:8081/sessions/col_ops6 @(<unknown>:<unknown> <unknown>:0:0)"
      ]
     },
     "metadata": {},
     "output_type": "display_data"
    }
   ],
   "source": [
    "conf = defaultConf {\n",
    "        confEndPoint = \"http://10.0.2.2\",\n",
    "        confRequestedSessionName = \"col_ops6\" }\n",
    "\n",
    "createSparkSessionDef conf"
   ]
  },
  {
   "cell_type": "code",
   "execution_count": 24,
   "metadata": {},
   "outputs": [
    {
     "data": {
      "text/plain": [
       "[Debug] executeCommand1: computing observable collect_4dfb2f@org.spark.Collect![double] @(<unknown>:<unknown> <unknown>:0:0)\n",
       "[Info] Sending computations at url: http://10.0.2.2:8081/computations/col_ops6/1/create @(<unknown>:<unknown> <unknown>:0:0)\n",
       "[Debug] executeCommand1: Tracked nodes are [(97a94..,NPath(sum_97a943),double,sum_97a943),(a49c1..,NPath(count_a49c15),int,count_a49c15),(645d6..,NPath(count),double,count),(f7767..,NPath(mean),double,mean),(57104..,NPath(localpack_571046),{_1:double _2:double},localpack_571046),(0c718..,NPath(sum_0c7185),double,sum_0c7185),(b26f7..,NPath(std_dev),double,std_dev),(26a9f..,NPath(localpack_26a9f0),{_1:double _2:double},localpack_26a9f0),(4dfb2..,NPath(collect_4dfb2f),[double],collect_4dfb2f)] @(<unknown>:<unknown> <unknown>:0:0)\n",
       "[Info] _computationMultiStatus: /sum_97a943 running @(<unknown>:<unknown> <unknown>:0:0)\n",
       "[Info] _computationMultiStatus: /count_a49c15 running @(<unknown>:<unknown> <unknown>:0:0)\n",
       "[Info] _computationMultiStatus: /count running @(<unknown>:<unknown> <unknown>:0:0)\n",
       "[Info] _computationMultiStatus: /mean finished @(<unknown>:<unknown> <unknown>:0:0)\n",
       "[Info] _computationMultiStatus: /localpack_571046 finished @(<unknown>:<unknown> <unknown>:0:0)\n",
       "[Info] _computationMultiStatus: /sum_0c7185 finished @(<unknown>:<unknown> <unknown>:0:0)\n",
       "[Info] _computationMultiStatus: /std_dev finished @(<unknown>:<unknown> <unknown>:0:0)\n",
       "[Info] _computationMultiStatus: /localpack_26a9f0 finished @(<unknown>:<unknown> <unknown>:0:0)\n",
       "[Info] _computationMultiStatus: /collect_4dfb2f finished @(<unknown>:<unknown> <unknown>:0:0)\n",
       "[Info] _computationMultiStatus: /sum_97a943 finished @(<unknown>:<unknown> <unknown>:0:0)\n",
       "[Info] _computationMultiStatus: /count_a49c15 finished @(<unknown>:<unknown> <unknown>:0:0)\n",
       "[Info] _computationMultiStatus: /count finished @(<unknown>:<unknown> <unknown>:0:0)\n",
       "[-1.0,1.0]"
      ]
     },
     "metadata": {},
     "output_type": "display_data"
    }
   ],
   "source": [
    "exec1Def res"
   ]
  },
  {
   "cell_type": "code",
   "execution_count": 27,
   "metadata": {},
   "outputs": [
    {
     "data": {
      "text/plain": [
       "[Debug] computationStats: stats for ComputationID {unComputationID = \"1\"} @(<unknown>:<unknown> <unknown>:0:0)\n",
       "[Debug] Sending computations stats request at url: http://10.0.2.2:8081/computations_status/col_ops6/1/ @(<unknown>:<unknown> <unknown>:0:0)"
      ]
     },
     "metadata": {},
     "output_type": "display_data"
    }
   ],
   "source": [
    "import Spark.Core.StructuresInternal(ComputationID(..))\n",
    "import IHaskell.Display\n",
    "stats <- computationStatsDef (ComputationID \"1\")"
   ]
  },
  {
   "cell_type": "code",
   "execution_count": 28,
   "metadata": {},
   "outputs": [
    {
     "data": {
      "text/html": [
       "<style>/* Styles used for the Hoogle display in the pager */\n",
       ".hoogle-doc {\n",
       "display: block;\n",
       "padding-bottom: 1.3em;\n",
       "padding-left: 0.4em;\n",
       "}\n",
       ".hoogle-code {\n",
       "display: block;\n",
       "font-family: monospace;\n",
       "white-space: pre;\n",
       "}\n",
       ".hoogle-text {\n",
       "display: block;\n",
       "}\n",
       ".hoogle-name {\n",
       "color: green;\n",
       "font-weight: bold;\n",
       "}\n",
       ".hoogle-head {\n",
       "font-weight: bold;\n",
       "}\n",
       ".hoogle-sub {\n",
       "display: block;\n",
       "margin-left: 0.4em;\n",
       "}\n",
       ".hoogle-package {\n",
       "font-weight: bold;\n",
       "font-style: italic;\n",
       "}\n",
       ".hoogle-module {\n",
       "font-weight: bold;\n",
       "}\n",
       ".hoogle-class {\n",
       "font-weight: bold;\n",
       "}\n",
       ".get-type {\n",
       "color: green;\n",
       "font-weight: bold;\n",
       "font-family: monospace;\n",
       "display: block;\n",
       "white-space: pre-wrap;\n",
       "}\n",
       ".show-type {\n",
       "color: green;\n",
       "font-weight: bold;\n",
       "font-family: monospace;\n",
       "margin-left: 1em;\n",
       "}\n",
       ".mono {\n",
       "font-family: monospace;\n",
       "display: block;\n",
       "}\n",
       ".err-msg {\n",
       "color: red;\n",
       "font-style: italic;\n",
       "font-family: monospace;\n",
       "white-space: pre;\n",
       "display: block;\n",
       "}\n",
       "#unshowable {\n",
       "color: red;\n",
       "font-weight: bold;\n",
       "}\n",
       ".err-msg.in.collapse {\n",
       "padding-top: 0.7em;\n",
       "}\n",
       ".highlight-code {\n",
       "white-space: pre;\n",
       "font-family: monospace;\n",
       "}\n",
       ".suggestion-warning { \n",
       "font-weight: bold;\n",
       "color: rgb(200, 130, 0);\n",
       "}\n",
       ".suggestion-error { \n",
       "font-weight: bold;\n",
       "color: red;\n",
       "}\n",
       ".suggestion-name {\n",
       "font-weight: bold;\n",
       "}\n",
       "</style><iframe seamless style='width:900px;height:620px;border:0' srcdoc='<script>function mycleanup1() {var docs = document.getElementsByClassName(\"side tf-graph-basic\");var n = docs.length;for (var i=0; i < n; i++) {var x = docs[i];if (x.style.display === \"\") {x.style.display = \"none\";}}};function mycleanup2() {var docs = document.getElementsByClassName(\"main tf-graph-basic\");var n = docs.length;for (var i=0; i < n; i++) {var x = docs[i];if (x.style.left !== 0) {x.style.left = 0;}}};function load() {{  document.getElementById(\"-2013792849578871283\").pbtxt = \"node {\\n  name: \\\"sum_0c7185/ParallelCollectionRDD-500\\\"\\n  op: \\\"ParallelCollectionRDD\\\"\\n  input: \\\"^localpack_571046/MapPartitionsRDD-495:0\\\"\\n  attr {\\n    key: \\\"name\\\"\\n    value {\\n      val: \\\"ParallelCollectionRDD[500] at execute at ExecutionItem.scala:123\\\"\\n    }\\n  }\\n}\\nnode {\\n  name: \\\"sum_0c7185/MapPartitionsRDD-501\\\"\\n  op: \\\"MapPartitionsRDD\\\"\\n  input: \\\"sum_0c7185/ParallelCollectionRDD-500\\\"\\n  attr {\\n    key: \\\"name\\\"\\n    value {\\n      val: \\\"MapPartitionsRDD[501] at execute at ExecutionItem.scala:123\\\"\\n    }\\n  }\\n}\\nnode {\\n  name: \\\"sum_0c7185/MapPartitionsRDD-502\\\"\\n  op: \\\"MapPartitionsRDD\\\"\\n  input: \\\"sum_0c7185/MapPartitionsRDD-501\\\"\\n  attr {\\n    key: \\\"name\\\"\\n    value {\\n      val: \\\"MapPartitionsRDD[502] at execute at ExecutionItem.scala:123\\\"\\n    }\\n  }\\n}\\nnode {\\n  name: \\\"sum_0c7185/MapPartitionsRDD-503\\\"\\n  op: \\\"MapPartitionsRDD\\\"\\n  input: \\\"sum_0c7185/MapPartitionsRDD-502\\\"\\n  attr {\\n    key: \\\"name\\\"\\n    value {\\n      val: \\\"MapPartitionsRDD[503] at execute at ExecutionItem.scala:123\\\"\\n    }\\n  }\\n}\\nnode {\\n  name: \\\"sum_0c7185/ShuffledRowRDD-504\\\"\\n  op: \\\"ShuffledRowRDD\\\"\\n  input: \\\"sum_0c7185/MapPartitionsRDD-503\\\"\\n  attr {\\n    key: \\\"name\\\"\\n    value {\\n      val: \\\"ShuffledRowRDD[504] at execute at ExecutionItem.scala:123\\\"\\n    }\\n  }\\n}\\nnode {\\n  name: \\\"sum_0c7185/MapPartitionsRDD-505\\\"\\n  op: \\\"MapPartitionsRDD\\\"\\n  input: \\\"sum_0c7185/ShuffledRowRDD-504\\\"\\n  attr {\\n    key: \\\"name\\\"\\n    value {\\n      val: \\\"MapPartitionsRDD[505] at execute at ExecutionItem.scala:123\\\"\\n    }\\n  }\\n}\\nnode {\\n  name: \\\"collect_4dfb2f/ParallelCollectionRDD-516\\\"\\n  op: \\\"ParallelCollectionRDD\\\"\\n  input: \\\"^localpack_26a9f0/MapPartitionsRDD-509:0\\\"\\n  attr {\\n    key: \\\"name\\\"\\n    value {\\n      val: \\\"ParallelCollectionRDD[516] at execute at ExecutionItem.scala:123\\\"\\n    }\\n  }\\n}\\nnode {\\n  name: \\\"collect_4dfb2f/MapPartitionsRDD-517\\\"\\n  op: \\\"MapPartitionsRDD\\\"\\n  input: \\\"collect_4dfb2f/ParallelCollectionRDD-516\\\"\\n  attr {\\n    key: \\\"name\\\"\\n    value {\\n      val: \\\"MapPartitionsRDD[517] at execute at ExecutionItem.scala:123\\\"\\n    }\\n  }\\n}\\nnode {\\n  name: \\\"collect_4dfb2f/MapPartitionsRDD-518\\\"\\n  op: \\\"MapPartitionsRDD\\\"\\n  input: \\\"collect_4dfb2f/MapPartitionsRDD-517\\\"\\n  attr {\\n    key: \\\"name\\\"\\n    value {\\n      val: \\\"MapPartitionsRDD[518] at execute at ExecutionItem.scala:123\\\"\\n    }\\n  }\\n}\\nnode {\\n  name: \\\"collect_4dfb2f/ShuffledRowRDD-519\\\"\\n  op: \\\"ShuffledRowRDD\\\"\\n  input: \\\"collect_4dfb2f/MapPartitionsRDD-518\\\"\\n  attr {\\n    key: \\\"name\\\"\\n    value {\\n      val: \\\"ShuffledRowRDD[519] at execute at ExecutionItem.scala:123\\\"\\n    }\\n  }\\n}\\nnode {\\n  name: \\\"collect_4dfb2f/MapPartitionsRDD-520\\\"\\n  op: \\\"MapPartitionsRDD\\\"\\n  input: \\\"collect_4dfb2f/ShuffledRowRDD-519\\\"\\n  attr {\\n    key: \\\"name\\\"\\n    value {\\n      val: \\\"MapPartitionsRDD[520] at execute at ExecutionItem.scala:123\\\"\\n    }\\n  }\\n}\\nnode {\\n  name: \\\"collect_4dfb2f/MapPartitionsRDD-521\\\"\\n  op: \\\"MapPartitionsRDD\\\"\\n  input: \\\"collect_4dfb2f/MapPartitionsRDD-520\\\"\\n  attr {\\n    key: \\\"name\\\"\\n    value {\\n      val: \\\"MapPartitionsRDD[521] at execute at ExecutionItem.scala:123\\\"\\n    }\\n  }\\n}\\nnode {\\n  name: \\\"mean/ParallelCollectionRDD-492\\\"\\n  op: \\\"ParallelCollectionRDD\\\"\\n  input: \\\"^count/MapPartitionsRDD-491:0\\\"\\n  input: \\\"^sum_97a943/MapPartitionsRDD-483:0\\\"\\n  attr {\\n    key: \\\"name\\\"\\n    value {\\n      val: \\\"ParallelCollectionRDD[492] at execute at ExecutionItem.scala:123\\\"\\n    }\\n  }\\n}\\nnode {\\n  name: \\\"mean/MapPartitionsRDD-493\\\"\\n  op: \\\"MapPartitionsRDD\\\"\\n  input: \\\"mean/ParallelCollectionRDD-492\\\"\\n  attr {\\n    key: \\\"name\\\"\\n    value {\\n      val: \\\"MapPartitionsRDD[493] at execute at ExecutionItem.scala:123\\\"\\n    }\\n  }\\n}\\nnode {\\n  name: \\\"sum_97a943/ParallelCollectionRDD-478\\\"\\n  op: \\\"ParallelCollectionRDD\\\"\\n  attr {\\n    key: \\\"name\\\"\\n    value {\\n      val: \\\"ParallelCollectionRDD[478] at execute at ExecutionItem.scala:123\\\"\\n    }\\n  }\\n}\\nnode {\\n  name: \\\"sum_97a943/MapPartitionsRDD-479\\\"\\n  op: \\\"MapPartitionsRDD\\\"\\n  input: \\\"sum_97a943/ParallelCollectionRDD-478\\\"\\n  attr {\\n    key: \\\"name\\\"\\n    value {\\n      val: \\\"MapPartitionsRDD[479] at execute at ExecutionItem.scala:123\\\"\\n    }\\n  }\\n}\\nnode {\\n  name: \\\"sum_97a943/MapPartitionsRDD-480\\\"\\n  op: \\\"MapPartitionsRDD\\\"\\n  input: \\\"sum_97a943/MapPartitionsRDD-479\\\"\\n  attr {\\n    key: \\\"name\\\"\\n    value {\\n      val: \\\"MapPartitionsRDD[480] at execute at ExecutionItem.scala:123\\\"\\n    }\\n  }\\n}\\nnode {\\n  name: \\\"sum_97a943/MapPartitionsRDD-481\\\"\\n  op: \\\"MapPartitionsRDD\\\"\\n  input: \\\"sum_97a943/MapPartitionsRDD-480\\\"\\n  attr {\\n    key: \\\"name\\\"\\n    value {\\n      val: \\\"MapPartitionsRDD[481] at execute at ExecutionItem.scala:123\\\"\\n    }\\n  }\\n}\\nnode {\\n  name: \\\"sum_97a943/ShuffledRowRDD-482\\\"\\n  op: \\\"ShuffledRowRDD\\\"\\n  input: \\\"sum_97a943/MapPartitionsRDD-481\\\"\\n  attr {\\n    key: \\\"name\\\"\\n    value {\\n      val: \\\"ShuffledRowRDD[482] at execute at ExecutionItem.scala:123\\\"\\n    }\\n  }\\n}\\nnode {\\n  name: \\\"sum_97a943/MapPartitionsRDD-483\\\"\\n  op: \\\"MapPartitionsRDD\\\"\\n  input: \\\"sum_97a943/ShuffledRowRDD-482\\\"\\n  attr {\\n    key: \\\"name\\\"\\n    value {\\n      val: \\\"MapPartitionsRDD[483] at execute at ExecutionItem.scala:123\\\"\\n    }\\n  }\\n}\\nnode {\\n  name: \\\"localpack_571046/ParallelCollectionRDD-494\\\"\\n  op: \\\"ParallelCollectionRDD\\\"\\n  input: \\\"^mean/MapPartitionsRDD-493:0\\\"\\n  attr {\\n    key: \\\"name\\\"\\n    value {\\n      val: \\\"ParallelCollectionRDD[494] at execute at ExecutionItem.scala:123\\\"\\n    }\\n  }\\n}\\nnode {\\n  name: \\\"localpack_571046/MapPartitionsRDD-495\\\"\\n  op: \\\"MapPartitionsRDD\\\"\\n  input: \\\"localpack_571046/ParallelCollectionRDD-494\\\"\\n  attr {\\n    key: \\\"name\\\"\\n    value {\\n      val: \\\"MapPartitionsRDD[495] at execute at ExecutionItem.scala:123\\\"\\n    }\\n  }\\n}\\nnode {\\n  name: \\\"localpack_26a9f0/ParallelCollectionRDD-508\\\"\\n  op: \\\"ParallelCollectionRDD\\\"\\n  input: \\\"^mean/MapPartitionsRDD-493:0\\\"\\n  input: \\\"^std_dev/MapPartitionsRDD-507:0\\\"\\n  attr {\\n    key: \\\"name\\\"\\n    value {\\n      val: \\\"ParallelCollectionRDD[508] at execute at ExecutionItem.scala:123\\\"\\n    }\\n  }\\n}\\nnode {\\n  name: \\\"localpack_26a9f0/MapPartitionsRDD-509\\\"\\n  op: \\\"MapPartitionsRDD\\\"\\n  input: \\\"localpack_26a9f0/ParallelCollectionRDD-508\\\"\\n  attr {\\n    key: \\\"name\\\"\\n    value {\\n      val: \\\"MapPartitionsRDD[509] at execute at ExecutionItem.scala:123\\\"\\n    }\\n  }\\n}\\nnode {\\n  name: \\\"std_dev/ParallelCollectionRDD-506\\\"\\n  op: \\\"ParallelCollectionRDD\\\"\\n  input: \\\"^count/MapPartitionsRDD-491:0\\\"\\n  input: \\\"^sum_0c7185/MapPartitionsRDD-505:0\\\"\\n  attr {\\n    key: \\\"name\\\"\\n    value {\\n      val: \\\"ParallelCollectionRDD[506] at execute at ExecutionItem.scala:123\\\"\\n    }\\n  }\\n}\\nnode {\\n  name: \\\"std_dev/MapPartitionsRDD-507\\\"\\n  op: \\\"MapPartitionsRDD\\\"\\n  input: \\\"std_dev/ParallelCollectionRDD-506\\\"\\n  attr {\\n    key: \\\"name\\\"\\n    value {\\n      val: \\\"MapPartitionsRDD[507] at execute at ExecutionItem.scala:123\\\"\\n    }\\n  }\\n}\\nnode {\\n  name: \\\"count_a49c15/ParallelCollectionRDD-484\\\"\\n  op: \\\"ParallelCollectionRDD\\\"\\n  attr {\\n    key: \\\"name\\\"\\n    value {\\n      val: \\\"ParallelCollectionRDD[484] at execute at ExecutionItem.scala:123\\\"\\n    }\\n  }\\n}\\nnode {\\n  name: \\\"count_a49c15/MapPartitionsRDD-485\\\"\\n  op: \\\"MapPartitionsRDD\\\"\\n  input: \\\"count_a49c15/ParallelCollectionRDD-484\\\"\\n  attr {\\n    key: \\\"name\\\"\\n    value {\\n      val: \\\"MapPartitionsRDD[485] at execute at ExecutionItem.scala:123\\\"\\n    }\\n  }\\n}\\nnode {\\n  name: \\\"count_a49c15/MapPartitionsRDD-486\\\"\\n  op: \\\"MapPartitionsRDD\\\"\\n  input: \\\"count_a49c15/MapPartitionsRDD-485\\\"\\n  attr {\\n    key: \\\"name\\\"\\n    value {\\n      val: \\\"MapPartitionsRDD[486] at execute at ExecutionItem.scala:123\\\"\\n    }\\n  }\\n}\\nnode {\\n  name: \\\"count_a49c15/MapPartitionsRDD-487\\\"\\n  op: \\\"MapPartitionsRDD\\\"\\n  input: \\\"count_a49c15/MapPartitionsRDD-486\\\"\\n  attr {\\n    key: \\\"name\\\"\\n    value {\\n      val: \\\"MapPartitionsRDD[487] at execute at ExecutionItem.scala:123\\\"\\n    }\\n  }\\n}\\nnode {\\n  name: \\\"count_a49c15/ShuffledRowRDD-488\\\"\\n  op: \\\"ShuffledRowRDD\\\"\\n  input: \\\"count_a49c15/MapPartitionsRDD-487\\\"\\n  attr {\\n    key: \\\"name\\\"\\n    value {\\n      val: \\\"ShuffledRowRDD[488] at execute at ExecutionItem.scala:123\\\"\\n    }\\n  }\\n}\\nnode {\\n  name: \\\"count_a49c15/MapPartitionsRDD-489\\\"\\n  op: \\\"MapPartitionsRDD\\\"\\n  input: \\\"count_a49c15/ShuffledRowRDD-488\\\"\\n  attr {\\n    key: \\\"name\\\"\\n    value {\\n      val: \\\"MapPartitionsRDD[489] at execute at ExecutionItem.scala:123\\\"\\n    }\\n  }\\n}\\nnode {\\n  name: \\\"count/ParallelCollectionRDD-490\\\"\\n  op: \\\"ParallelCollectionRDD\\\"\\n  input: \\\"^count_a49c15/MapPartitionsRDD-489:0\\\"\\n  attr {\\n    key: \\\"name\\\"\\n    value {\\n      val: \\\"ParallelCollectionRDD[490] at execute at ExecutionItem.scala:123\\\"\\n    }\\n  }\\n}\\nnode {\\n  name: \\\"count/MapPartitionsRDD-491\\\"\\n  op: \\\"MapPartitionsRDD\\\"\\n  input: \\\"count/ParallelCollectionRDD-490\\\"\\n  attr {\\n    key: \\\"name\\\"\\n    value {\\n      val: \\\"MapPartitionsRDD[491] at execute at ExecutionItem.scala:123\\\"\\n    }\\n  }\\n}\\n\";  setInterval(mycleanup1, 500);  setInterval(mycleanup2, 500);}}</script><link rel=\"import\" href=\"https://tensorboard.appspot.com/tf-graph-basic.build.html\" onload=load() onscroll=scroll()><div style=\"height:600px\"><tf-graph-basic id=\"-2013792849578871283\"></tf-graph-basic></div>'></iframe>"
      ]
     },
     "metadata": {},
     "output_type": "display_data"
    }
   ],
   "source": [
    "let ns = statsToExportNodes stats\n",
    "let c = T.unpack (tfIFrame ns)\n",
    "Display [html c]"
   ]
  },
  {
   "cell_type": "code",
   "execution_count": null,
   "metadata": {
    "collapsed": true
   },
   "outputs": [],
   "source": []
  }
 ],
 "metadata": {
  "kernelspec": {
   "display_name": "Haskell",
   "language": "haskell",
   "name": "haskell"
  },
  "language_info": {
   "codemirror_mode": "ihaskell",
   "file_extension": ".hs",
   "name": "haskell",
   "version": "7.10.2"
  }
 },
 "nbformat": 4,
 "nbformat_minor": 1
}
