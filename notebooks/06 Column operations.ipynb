{
 "cells": [
  {
   "cell_type": "code",
   "execution_count": 1,
   "metadata": {
    "collapsed": true
   },
   "outputs": [],
   "source": [
    ":load KrapshDisplays KrapshDagDisplay"
   ]
  },
  {
   "cell_type": "code",
   "execution_count": 2,
   "metadata": {
    "collapsed": true
   },
   "outputs": [],
   "source": [
    ":extension DeriveGeneric\n",
    ":extension FlexibleContexts\n",
    ":extension OverloadedStrings\n",
    ":extension GeneralizedNewtypeDeriving\n",
    ":extension FlexibleInstances\n",
    ":extension MultiParamTypeClasses"
   ]
  },
  {
   "cell_type": "code",
   "execution_count": 3,
   "metadata": {
    "collapsed": true
   },
   "outputs": [],
   "source": [
    "import Spark.Core.Dataset\n",
    "import Spark.Core.Context\n",
    "import Spark.Core.Column\n",
    "import Spark.Core.ColumnFunctions\n",
    "import Spark.Core.Functions\n",
    "import Spark.Core.Row\n",
    "import Spark.Core.Types\n",
    "import Spark.Core.Try\n",
    "\n",
    "import qualified Data.Vector as V\n",
    "import qualified Data.Text as T\n",
    "import GHC.Generics"
   ]
  },
  {
   "cell_type": "code",
   "execution_count": 4,
   "metadata": {
    "collapsed": true
   },
   "outputs": [],
   "source": [
    "myScaler :: Column ref Double -> Column ref Double\n",
    "myScaler col =\n",
    "  let cnt = asDouble (countCol col) @@ \"count\"\n",
    "      m = sumCol col / cnt @@ \"mean\"\n",
    "      centered = col .- m\n",
    "      stdDev = sumCol (centered * centered) / cnt @@ \"std_dev\"\n",
    "  in centered ./ stdDev\n"
   ]
  },
  {
   "cell_type": "code",
   "execution_count": 5,
   "metadata": {},
   "outputs": [
    {
     "data": {
      "text/html": [
       "<style>/* Styles used for the Hoogle display in the pager */\n",
       ".hoogle-doc {\n",
       "display: block;\n",
       "padding-bottom: 1.3em;\n",
       "padding-left: 0.4em;\n",
       "}\n",
       ".hoogle-code {\n",
       "display: block;\n",
       "font-family: monospace;\n",
       "white-space: pre;\n",
       "}\n",
       ".hoogle-text {\n",
       "display: block;\n",
       "}\n",
       ".hoogle-name {\n",
       "color: green;\n",
       "font-weight: bold;\n",
       "}\n",
       ".hoogle-head {\n",
       "font-weight: bold;\n",
       "}\n",
       ".hoogle-sub {\n",
       "display: block;\n",
       "margin-left: 0.4em;\n",
       "}\n",
       ".hoogle-package {\n",
       "font-weight: bold;\n",
       "font-style: italic;\n",
       "}\n",
       ".hoogle-module {\n",
       "font-weight: bold;\n",
       "}\n",
       ".hoogle-class {\n",
       "font-weight: bold;\n",
       "}\n",
       ".get-type {\n",
       "color: green;\n",
       "font-weight: bold;\n",
       "font-family: monospace;\n",
       "display: block;\n",
       "white-space: pre-wrap;\n",
       "}\n",
       ".show-type {\n",
       "color: green;\n",
       "font-weight: bold;\n",
       "font-family: monospace;\n",
       "margin-left: 1em;\n",
       "}\n",
       ".mono {\n",
       "font-family: monospace;\n",
       "display: block;\n",
       "}\n",
       ".err-msg {\n",
       "color: red;\n",
       "font-style: italic;\n",
       "font-family: monospace;\n",
       "white-space: pre;\n",
       "display: block;\n",
       "}\n",
       "#unshowable {\n",
       "color: red;\n",
       "font-weight: bold;\n",
       "}\n",
       ".err-msg.in.collapse {\n",
       "padding-top: 0.7em;\n",
       "}\n",
       ".highlight-code {\n",
       "white-space: pre;\n",
       "font-family: monospace;\n",
       "}\n",
       ".suggestion-warning { \n",
       "font-weight: bold;\n",
       "color: rgb(200, 130, 0);\n",
       "}\n",
       ".suggestion-error { \n",
       "font-weight: bold;\n",
       "color: red;\n",
       "}\n",
       ".suggestion-name {\n",
       "font-weight: bold;\n",
       "}\n",
       "</style><span class='get-type'>myScaler :: forall ref. Column ref Double -> Column ref Double</span>"
      ],
      "text/plain": [
       "myScaler :: forall ref. Column ref Double -> Column ref Double"
      ]
     },
     "metadata": {},
     "output_type": "display_data"
    }
   ],
   "source": [
    ":t myScaler"
   ]
  },
  {
   "cell_type": "code",
   "execution_count": 6,
   "metadata": {
    "collapsed": true
   },
   "outputs": [],
   "source": [
    "let ds = dataset [-1, 1] :: Dataset Double\n",
    "let c = myScaler (asCol ds)"
   ]
  },
  {
   "cell_type": "code",
   "execution_count": 7,
   "metadata": {
    "collapsed": true
   },
   "outputs": [],
   "source": [
    "let ds2 = pack1 c"
   ]
  },
  {
   "cell_type": "code",
   "execution_count": 8,
   "metadata": {},
   "outputs": [
    {
     "data": {
      "text/html": [
       "<style>/* Styles used for the Hoogle display in the pager */\n",
       ".hoogle-doc {\n",
       "display: block;\n",
       "padding-bottom: 1.3em;\n",
       "padding-left: 0.4em;\n",
       "}\n",
       ".hoogle-code {\n",
       "display: block;\n",
       "font-family: monospace;\n",
       "white-space: pre;\n",
       "}\n",
       ".hoogle-text {\n",
       "display: block;\n",
       "}\n",
       ".hoogle-name {\n",
       "color: green;\n",
       "font-weight: bold;\n",
       "}\n",
       ".hoogle-head {\n",
       "font-weight: bold;\n",
       "}\n",
       ".hoogle-sub {\n",
       "display: block;\n",
       "margin-left: 0.4em;\n",
       "}\n",
       ".hoogle-package {\n",
       "font-weight: bold;\n",
       "font-style: italic;\n",
       "}\n",
       ".hoogle-module {\n",
       "font-weight: bold;\n",
       "}\n",
       ".hoogle-class {\n",
       "font-weight: bold;\n",
       "}\n",
       ".get-type {\n",
       "color: green;\n",
       "font-weight: bold;\n",
       "font-family: monospace;\n",
       "display: block;\n",
       "white-space: pre-wrap;\n",
       "}\n",
       ".show-type {\n",
       "color: green;\n",
       "font-weight: bold;\n",
       "font-family: monospace;\n",
       "margin-left: 1em;\n",
       "}\n",
       ".mono {\n",
       "font-family: monospace;\n",
       "display: block;\n",
       "}\n",
       ".err-msg {\n",
       "color: red;\n",
       "font-style: italic;\n",
       "font-family: monospace;\n",
       "white-space: pre;\n",
       "display: block;\n",
       "}\n",
       "#unshowable {\n",
       "color: red;\n",
       "font-weight: bold;\n",
       "}\n",
       ".err-msg.in.collapse {\n",
       "padding-top: 0.7em;\n",
       "}\n",
       ".highlight-code {\n",
       "white-space: pre;\n",
       "font-family: monospace;\n",
       "}\n",
       ".suggestion-warning { \n",
       "font-weight: bold;\n",
       "color: rgb(200, 130, 0);\n",
       "}\n",
       ".suggestion-error { \n",
       "font-weight: bold;\n",
       "color: red;\n",
       "}\n",
       ".suggestion-name {\n",
       "font-weight: bold;\n",
       "}\n",
       "</style><iframe seamless style='width:900px;height:620px;border:0' srcdoc='<script>function mycleanup1() {var docs = document.getElementsByClassName(\"side tf-graph-basic\");var n = docs.length;for (var i=0; i < n; i++) {var x = docs[i];if (x.style.display === \"\") {x.style.display = \"none\";}}};function mycleanup2() {var docs = document.getElementsByClassName(\"main tf-graph-basic\");var n = docs.length;for (var i=0; i < n; i++) {var x = docs[i];if (x.style.left !== 0) {x.style.left = 0;}}};function load() {{  document.getElementById(\"-340326057884422398\").pbtxt = \"node {\\n  name: \\\"distributedliteral_e02234\\\"\\n  op: \\\"org.spark.DistributedLiteral\\\"\\n  attr {\\n    key: \\\"locality\\\"\\n    value {\\n      val: \\\"distributed\\\"\\n    }\\n  }\\n  attr {\\n    key: \\\"sqlType\\\"\\n    value {\\n      val: \\\"double\\\"\\n    }\\n  }\\n}\\nnode {\\n  name: \\\"sum_d0deee\\\"\\n  op: \\\"org.spark.StructuredReduction\\\"\\n  input: \\\"distributedliteral_e02234\\\"\\n  attr {\\n    key: \\\"locality\\\"\\n    value {\\n      val: \\\"local\\\"\\n    }\\n  }\\n  attr {\\n    key: \\\"sqlType\\\"\\n    value {\\n      val: \\\"double\\\"\\n    }\\n  }\\n}\\nnode {\\n  name: \\\"count_6bec8b\\\"\\n  op: \\\"org.spark.StructuredReduction\\\"\\n  input: \\\"distributedliteral_e02234\\\"\\n  attr {\\n    key: \\\"locality\\\"\\n    value {\\n      val: \\\"local\\\"\\n    }\\n  }\\n  attr {\\n    key: \\\"sqlType\\\"\\n    value {\\n      val: \\\"int\\\"\\n    }\\n  }\\n}\\nnode {\\n  name: \\\"count\\\"\\n  op: \\\"org.spark.Select\\\"\\n  input: \\\"count_6bec8b\\\"\\n  attr {\\n    key: \\\"locality\\\"\\n    value {\\n      val: \\\"local\\\"\\n    }\\n  }\\n  attr {\\n    key: \\\"sqlType\\\"\\n    value {\\n      val: \\\"double\\\"\\n    }\\n  }\\n}\\nnode {\\n  name: \\\"mean\\\"\\n  op: \\\"org.spark.LocalDiv\\\"\\n  input: \\\"sum_d0deee\\\"\\n  input: \\\"count\\\"\\n  attr {\\n    key: \\\"locality\\\"\\n    value {\\n      val: \\\"local\\\"\\n    }\\n  }\\n  attr {\\n    key: \\\"sqlType\\\"\\n    value {\\n      val: \\\"double\\\"\\n    }\\n  }\\n}\\nnode {\\n  name: \\\"localpack_53b709\\\"\\n  op: \\\"org.spark.LocalPack\\\"\\n  input: \\\"mean\\\"\\n  input: \\\"mean\\\"\\n  attr {\\n    key: \\\"locality\\\"\\n    value {\\n      val: \\\"local\\\"\\n    }\\n  }\\n  attr {\\n    key: \\\"sqlType\\\"\\n    value {\\n      val: \\\"{_1:double _2:double}\\\"\\n    }\\n  }\\n}\\nnode {\\n  name: \\\"broadcastpair_1dcaea\\\"\\n  op: \\\"org.spark.BroadcastPair\\\"\\n  input: \\\"distributedliteral_e02234\\\"\\n  input: \\\"localpack_53b709\\\"\\n  attr {\\n    key: \\\"locality\\\"\\n    value {\\n      val: \\\"distributed\\\"\\n    }\\n  }\\n  attr {\\n    key: \\\"sqlType\\\"\\n    value {\\n      val: \\\"{_1:double _2:{_1:double _2:double}}\\\"\\n    }\\n  }\\n}\\nnode {\\n  name: \\\"select_1a8e6e\\\"\\n  op: \\\"org.spark.Select\\\"\\n  input: \\\"broadcastpair_1dcaea\\\"\\n  attr {\\n    key: \\\"locality\\\"\\n    value {\\n      val: \\\"distributed\\\"\\n    }\\n  }\\n  attr {\\n    key: \\\"sqlType\\\"\\n    value {\\n      val: \\\"double\\\"\\n    }\\n  }\\n}\\nnode {\\n  name: \\\"sum_a130cf\\\"\\n  op: \\\"org.spark.StructuredReduction\\\"\\n  input: \\\"select_1a8e6e\\\"\\n  attr {\\n    key: \\\"locality\\\"\\n    value {\\n      val: \\\"local\\\"\\n    }\\n  }\\n  attr {\\n    key: \\\"sqlType\\\"\\n    value {\\n      val: \\\"double\\\"\\n    }\\n  }\\n}\\nnode {\\n  name: \\\"std_dev\\\"\\n  op: \\\"org.spark.LocalDiv\\\"\\n  input: \\\"sum_a130cf\\\"\\n  input: \\\"count\\\"\\n  attr {\\n    key: \\\"locality\\\"\\n    value {\\n      val: \\\"local\\\"\\n    }\\n  }\\n  attr {\\n    key: \\\"sqlType\\\"\\n    value {\\n      val: \\\"double\\\"\\n    }\\n  }\\n}\\nnode {\\n  name: \\\"localpack_beff5a\\\"\\n  op: \\\"org.spark.LocalPack\\\"\\n  input: \\\"mean\\\"\\n  input: \\\"std_dev\\\"\\n  attr {\\n    key: \\\"locality\\\"\\n    value {\\n      val: \\\"local\\\"\\n    }\\n  }\\n  attr {\\n    key: \\\"sqlType\\\"\\n    value {\\n      val: \\\"{_1:double _2:double}\\\"\\n    }\\n  }\\n}\\nnode {\\n  name: \\\"broadcastpair_eca16a\\\"\\n  op: \\\"org.spark.BroadcastPair\\\"\\n  input: \\\"distributedliteral_e02234\\\"\\n  input: \\\"localpack_beff5a\\\"\\n  attr {\\n    key: \\\"locality\\\"\\n    value {\\n      val: \\\"distributed\\\"\\n    }\\n  }\\n  attr {\\n    key: \\\"sqlType\\\"\\n    value {\\n      val: \\\"{_1:double _2:{_1:double _2:double}}\\\"\\n    }\\n  }\\n}\\nnode {\\n  name: \\\"select_96771e\\\"\\n  op: \\\"org.spark.Select\\\"\\n  input: \\\"broadcastpair_eca16a\\\"\\n  attr {\\n    key: \\\"locality\\\"\\n    value {\\n      val: \\\"distributed\\\"\\n    }\\n  }\\n  attr {\\n    key: \\\"sqlType\\\"\\n    value {\\n      val: \\\"double\\\"\\n    }\\n  }\\n}\\n\";  setInterval(mycleanup1, 500);  setInterval(mycleanup2, 500);}}</script><link rel=\"import\" href=\"https://tensorboard.appspot.com/tf-graph-basic.build.html\" onload=load() onscroll=scroll()><div style=\"height:600px\"><tf-graph-basic id=\"-340326057884422398\"></tf-graph-basic></div>'></iframe>"
      ]
     },
     "metadata": {},
     "output_type": "display_data"
    }
   ],
   "source": [
    "showGraph ds2"
   ]
  },
  {
   "cell_type": "code",
   "execution_count": 9,
   "metadata": {
    "collapsed": true
   },
   "outputs": [],
   "source": [
    "let res = collect (asCol ds2)"
   ]
  },
  {
   "cell_type": "code",
   "execution_count": 10,
   "metadata": {},
   "outputs": [
    {
     "data": {
      "text/plain": [
       "[Debug] Creating spark session at url: http://10.0.2.2:8081/sessions/col_ops6 @(<unknown>:<unknown> <unknown>:0:0)"
      ]
     },
     "metadata": {},
     "output_type": "display_data"
    }
   ],
   "source": [
    "conf = defaultConf {\n",
    "        confEndPoint = \"http://10.0.2.2\",\n",
    "        confRequestedSessionName = \"col_ops6\" }\n",
    "\n",
    "createSparkSessionDef conf"
   ]
  },
  {
   "cell_type": "code",
   "execution_count": 11,
   "metadata": {},
   "outputs": [
    {
     "data": {
      "text/plain": [
       "[Debug] executeCommand1: computing observable collect_659486@org.spark.Collect![double] @(<unknown>:<unknown> <unknown>:0:0)\n",
       "[Info] Sending computations at url: http://10.0.2.2:8081/computations/col_ops6/0/create @(<unknown>:<unknown> <unknown>:0:0)\n",
       "[Debug] executeCommand1: Tracked nodes are [(d0dee..,NPath(sum_d0deee),double,sum_d0deee),(6bec8..,NPath(count_6bec8b),int,count_6bec8b),(962b2..,NPath(count),double,count),(4007b..,NPath(mean),double,mean),(53b70..,NPath(localpack_53b709),{_1:double _2:double},localpack_53b709),(a130c..,NPath(sum_a130cf),double,sum_a130cf),(33298..,NPath(std_dev),double,std_dev),(beff5..,NPath(localpack_beff5a),{_1:double _2:double},localpack_beff5a),(65948..,NPath(collect_659486),[double],collect_659486)] @(<unknown>:<unknown> <unknown>:0:0)\n",
       "[Info] _computationMultiStatus: /sum_d0deee running @(<unknown>:<unknown> <unknown>:0:0)\n",
       "[Info] _computationMultiStatus: /count_6bec8b running @(<unknown>:<unknown> <unknown>:0:0)\n",
       "[Info] _computationMultiStatus: /sum_d0deee finished @(<unknown>:<unknown> <unknown>:0:0)\n",
       "[Info] _computationMultiStatus: /count_6bec8b finished @(<unknown>:<unknown> <unknown>:0:0)\n",
       "[Info] _computationMultiStatus: /count finished @(<unknown>:<unknown> <unknown>:0:0)\n",
       "[Info] _computationMultiStatus: /mean finished @(<unknown>:<unknown> <unknown>:0:0)\n",
       "[Info] _computationMultiStatus: /localpack_53b709 finished @(<unknown>:<unknown> <unknown>:0:0)\n",
       "[Info] _computationMultiStatus: /sum_a130cf running @(<unknown>:<unknown> <unknown>:0:0)\n",
       "[Info] _computationMultiStatus: /sum_a130cf finished @(<unknown>:<unknown> <unknown>:0:0)\n",
       "[Info] _computationMultiStatus: /std_dev finished @(<unknown>:<unknown> <unknown>:0:0)\n",
       "[Info] _computationMultiStatus: /localpack_beff5a finished @(<unknown>:<unknown> <unknown>:0:0)\n",
       "[Info] _computationMultiStatus: /collect_659486 running @(<unknown>:<unknown> <unknown>:0:0)\n",
       "[Info] _computationMultiStatus: /collect_659486 finished @(<unknown>:<unknown> <unknown>:0:0)\n",
       "[-1.0,1.0]"
      ]
     },
     "metadata": {},
     "output_type": "display_data"
    }
   ],
   "source": [
    "exec1Def res"
   ]
  },
  {
   "cell_type": "code",
   "execution_count": 14,
   "metadata": {},
   "outputs": [
    {
     "data": {
      "text/plain": [
       "[Debug] computationStats: stats for ComputationID {unComputationID = \"0\"} @(<unknown>:<unknown> <unknown>:0:0)\n",
       "[Debug] Sending computations stats request at url: http://10.0.2.2:8081/computations_status/col_ops6/0/ @(<unknown>:<unknown> <unknown>:0:0)"
      ]
     },
     "metadata": {},
     "output_type": "display_data"
    }
   ],
   "source": [
    "import Spark.Core.StructuresInternal(ComputationID(..))\n",
    "import IHaskell.Display\n",
    "stats <- computationStatsDef (ComputationID \"0\")"
   ]
  },
  {
   "cell_type": "code",
   "execution_count": 15,
   "metadata": {},
   "outputs": [
    {
     "data": {
      "text/html": [
       "<style>/* Styles used for the Hoogle display in the pager */\n",
       ".hoogle-doc {\n",
       "display: block;\n",
       "padding-bottom: 1.3em;\n",
       "padding-left: 0.4em;\n",
       "}\n",
       ".hoogle-code {\n",
       "display: block;\n",
       "font-family: monospace;\n",
       "white-space: pre;\n",
       "}\n",
       ".hoogle-text {\n",
       "display: block;\n",
       "}\n",
       ".hoogle-name {\n",
       "color: green;\n",
       "font-weight: bold;\n",
       "}\n",
       ".hoogle-head {\n",
       "font-weight: bold;\n",
       "}\n",
       ".hoogle-sub {\n",
       "display: block;\n",
       "margin-left: 0.4em;\n",
       "}\n",
       ".hoogle-package {\n",
       "font-weight: bold;\n",
       "font-style: italic;\n",
       "}\n",
       ".hoogle-module {\n",
       "font-weight: bold;\n",
       "}\n",
       ".hoogle-class {\n",
       "font-weight: bold;\n",
       "}\n",
       ".get-type {\n",
       "color: green;\n",
       "font-weight: bold;\n",
       "font-family: monospace;\n",
       "display: block;\n",
       "white-space: pre-wrap;\n",
       "}\n",
       ".show-type {\n",
       "color: green;\n",
       "font-weight: bold;\n",
       "font-family: monospace;\n",
       "margin-left: 1em;\n",
       "}\n",
       ".mono {\n",
       "font-family: monospace;\n",
       "display: block;\n",
       "}\n",
       ".err-msg {\n",
       "color: red;\n",
       "font-style: italic;\n",
       "font-family: monospace;\n",
       "white-space: pre;\n",
       "display: block;\n",
       "}\n",
       "#unshowable {\n",
       "color: red;\n",
       "font-weight: bold;\n",
       "}\n",
       ".err-msg.in.collapse {\n",
       "padding-top: 0.7em;\n",
       "}\n",
       ".highlight-code {\n",
       "white-space: pre;\n",
       "font-family: monospace;\n",
       "}\n",
       ".suggestion-warning { \n",
       "font-weight: bold;\n",
       "color: rgb(200, 130, 0);\n",
       "}\n",
       ".suggestion-error { \n",
       "font-weight: bold;\n",
       "color: red;\n",
       "}\n",
       ".suggestion-name {\n",
       "font-weight: bold;\n",
       "}\n",
       "</style><iframe seamless style='width:900px;height:620px;border:0' srcdoc='<script>function mycleanup1() {var docs = document.getElementsByClassName(\"side tf-graph-basic\");var n = docs.length;for (var i=0; i < n; i++) {var x = docs[i];if (x.style.display === \"\") {x.style.display = \"none\";}}};function mycleanup2() {var docs = document.getElementsByClassName(\"main tf-graph-basic\");var n = docs.length;for (var i=0; i < n; i++) {var x = docs[i];if (x.style.left !== 0) {x.style.left = 0;}}};function load() {{  document.getElementById(\"895796015576684636\").pbtxt = \"node {\\n  name: \\\"std_dev/ParallelCollectionRDD-43\\\"\\n  op: \\\"ParallelCollectionRDD\\\"\\n  input: \\\"^count/MapPartitionsRDD-28:0\\\"\\n  input: \\\"^sum_a130cf/MapPartitionsRDD-42:0\\\"\\n  attr {\\n    key: \\\"name\\\"\\n    value {\\n      val: \\\"ParallelCollectionRDD[43] at execute at ExecutionItem.scala:122\\\"\\n    }\\n  }\\n}\\nnode {\\n  name: \\\"std_dev/MapPartitionsRDD-44\\\"\\n  op: \\\"MapPartitionsRDD\\\"\\n  input: \\\"std_dev/ParallelCollectionRDD-43\\\"\\n  attr {\\n    key: \\\"name\\\"\\n    value {\\n      val: \\\"MapPartitionsRDD[44] at execute at ExecutionItem.scala:122\\\"\\n    }\\n  }\\n}\\nnode {\\n  name: \\\"count_6bec8b/ParallelCollectionRDD-21\\\"\\n  op: \\\"ParallelCollectionRDD\\\"\\n  attr {\\n    key: \\\"name\\\"\\n    value {\\n      val: \\\"ParallelCollectionRDD[21] at execute at ExecutionItem.scala:122\\\"\\n    }\\n  }\\n}\\nnode {\\n  name: \\\"count_6bec8b/MapPartitionsRDD-22\\\"\\n  op: \\\"MapPartitionsRDD\\\"\\n  input: \\\"count_6bec8b/ParallelCollectionRDD-21\\\"\\n  attr {\\n    key: \\\"name\\\"\\n    value {\\n      val: \\\"MapPartitionsRDD[22] at execute at ExecutionItem.scala:122\\\"\\n    }\\n  }\\n}\\nnode {\\n  name: \\\"count_6bec8b/MapPartitionsRDD-23\\\"\\n  op: \\\"MapPartitionsRDD\\\"\\n  input: \\\"count_6bec8b/MapPartitionsRDD-22\\\"\\n  attr {\\n    key: \\\"name\\\"\\n    value {\\n      val: \\\"MapPartitionsRDD[23] at execute at ExecutionItem.scala:122\\\"\\n    }\\n  }\\n}\\nnode {\\n  name: \\\"count_6bec8b/MapPartitionsRDD-24\\\"\\n  op: \\\"MapPartitionsRDD\\\"\\n  input: \\\"count_6bec8b/MapPartitionsRDD-23\\\"\\n  attr {\\n    key: \\\"name\\\"\\n    value {\\n      val: \\\"MapPartitionsRDD[24] at execute at ExecutionItem.scala:122\\\"\\n    }\\n  }\\n}\\nnode {\\n  name: \\\"count_6bec8b/ShuffledRowRDD-25\\\"\\n  op: \\\"ShuffledRowRDD\\\"\\n  input: \\\"count_6bec8b/MapPartitionsRDD-24\\\"\\n  attr {\\n    key: \\\"name\\\"\\n    value {\\n      val: \\\"ShuffledRowRDD[25] at execute at ExecutionItem.scala:122\\\"\\n    }\\n  }\\n}\\nnode {\\n  name: \\\"count_6bec8b/MapPartitionsRDD-26\\\"\\n  op: \\\"MapPartitionsRDD\\\"\\n  input: \\\"count_6bec8b/ShuffledRowRDD-25\\\"\\n  attr {\\n    key: \\\"name\\\"\\n    value {\\n      val: \\\"MapPartitionsRDD[26] at execute at ExecutionItem.scala:122\\\"\\n    }\\n  }\\n}\\nnode {\\n  name: \\\"collect_659486/ParallelCollectionRDD-51\\\"\\n  op: \\\"ParallelCollectionRDD\\\"\\n  input: \\\"^localpack_beff5a/MapPartitionsRDD-46:0\\\"\\n  attr {\\n    key: \\\"name\\\"\\n    value {\\n      val: \\\"ParallelCollectionRDD[51] at execute at ExecutionItem.scala:122\\\"\\n    }\\n  }\\n}\\nnode {\\n  name: \\\"collect_659486/MapPartitionsRDD-52\\\"\\n  op: \\\"MapPartitionsRDD\\\"\\n  input: \\\"collect_659486/ParallelCollectionRDD-51\\\"\\n  attr {\\n    key: \\\"name\\\"\\n    value {\\n      val: \\\"MapPartitionsRDD[52] at execute at ExecutionItem.scala:122\\\"\\n    }\\n  }\\n}\\nnode {\\n  name: \\\"collect_659486/MapPartitionsRDD-53\\\"\\n  op: \\\"MapPartitionsRDD\\\"\\n  input: \\\"collect_659486/MapPartitionsRDD-52\\\"\\n  attr {\\n    key: \\\"name\\\"\\n    value {\\n      val: \\\"MapPartitionsRDD[53] at execute at ExecutionItem.scala:122\\\"\\n    }\\n  }\\n}\\nnode {\\n  name: \\\"collect_659486/ShuffledRowRDD-54\\\"\\n  op: \\\"ShuffledRowRDD\\\"\\n  input: \\\"collect_659486/MapPartitionsRDD-53\\\"\\n  attr {\\n    key: \\\"name\\\"\\n    value {\\n      val: \\\"ShuffledRowRDD[54] at execute at ExecutionItem.scala:122\\\"\\n    }\\n  }\\n}\\nnode {\\n  name: \\\"collect_659486/MapPartitionsRDD-55\\\"\\n  op: \\\"MapPartitionsRDD\\\"\\n  input: \\\"collect_659486/ShuffledRowRDD-54\\\"\\n  attr {\\n    key: \\\"name\\\"\\n    value {\\n      val: \\\"MapPartitionsRDD[55] at execute at ExecutionItem.scala:122\\\"\\n    }\\n  }\\n}\\nnode {\\n  name: \\\"collect_659486/MapPartitionsRDD-56\\\"\\n  op: \\\"MapPartitionsRDD\\\"\\n  input: \\\"collect_659486/MapPartitionsRDD-55\\\"\\n  attr {\\n    key: \\\"name\\\"\\n    value {\\n      val: \\\"MapPartitionsRDD[56] at execute at ExecutionItem.scala:122\\\"\\n    }\\n  }\\n}\\nnode {\\n  name: \\\"count/ParallelCollectionRDD-27\\\"\\n  op: \\\"ParallelCollectionRDD\\\"\\n  input: \\\"^count_6bec8b/MapPartitionsRDD-26:0\\\"\\n  attr {\\n    key: \\\"name\\\"\\n    value {\\n      val: \\\"ParallelCollectionRDD[27] at execute at ExecutionItem.scala:122\\\"\\n    }\\n  }\\n}\\nnode {\\n  name: \\\"count/MapPartitionsRDD-28\\\"\\n  op: \\\"MapPartitionsRDD\\\"\\n  input: \\\"count/ParallelCollectionRDD-27\\\"\\n  attr {\\n    key: \\\"name\\\"\\n    value {\\n      val: \\\"MapPartitionsRDD[28] at execute at ExecutionItem.scala:122\\\"\\n    }\\n  }\\n}\\nnode {\\n  name: \\\"sum_d0deee/ParallelCollectionRDD-15\\\"\\n  op: \\\"ParallelCollectionRDD\\\"\\n  attr {\\n    key: \\\"name\\\"\\n    value {\\n      val: \\\"ParallelCollectionRDD[15] at execute at ExecutionItem.scala:122\\\"\\n    }\\n  }\\n}\\nnode {\\n  name: \\\"sum_d0deee/MapPartitionsRDD-16\\\"\\n  op: \\\"MapPartitionsRDD\\\"\\n  input: \\\"sum_d0deee/ParallelCollectionRDD-15\\\"\\n  attr {\\n    key: \\\"name\\\"\\n    value {\\n      val: \\\"MapPartitionsRDD[16] at execute at ExecutionItem.scala:122\\\"\\n    }\\n  }\\n}\\nnode {\\n  name: \\\"sum_d0deee/MapPartitionsRDD-17\\\"\\n  op: \\\"MapPartitionsRDD\\\"\\n  input: \\\"sum_d0deee/MapPartitionsRDD-16\\\"\\n  attr {\\n    key: \\\"name\\\"\\n    value {\\n      val: \\\"MapPartitionsRDD[17] at execute at ExecutionItem.scala:122\\\"\\n    }\\n  }\\n}\\nnode {\\n  name: \\\"sum_d0deee/MapPartitionsRDD-18\\\"\\n  op: \\\"MapPartitionsRDD\\\"\\n  input: \\\"sum_d0deee/MapPartitionsRDD-17\\\"\\n  attr {\\n    key: \\\"name\\\"\\n    value {\\n      val: \\\"MapPartitionsRDD[18] at execute at ExecutionItem.scala:122\\\"\\n    }\\n  }\\n}\\nnode {\\n  name: \\\"sum_d0deee/ShuffledRowRDD-19\\\"\\n  op: \\\"ShuffledRowRDD\\\"\\n  input: \\\"sum_d0deee/MapPartitionsRDD-18\\\"\\n  attr {\\n    key: \\\"name\\\"\\n    value {\\n      val: \\\"ShuffledRowRDD[19] at execute at ExecutionItem.scala:122\\\"\\n    }\\n  }\\n}\\nnode {\\n  name: \\\"sum_d0deee/MapPartitionsRDD-20\\\"\\n  op: \\\"MapPartitionsRDD\\\"\\n  input: \\\"sum_d0deee/ShuffledRowRDD-19\\\"\\n  attr {\\n    key: \\\"name\\\"\\n    value {\\n      val: \\\"MapPartitionsRDD[20] at execute at ExecutionItem.scala:122\\\"\\n    }\\n  }\\n}\\nnode {\\n  name: \\\"localpack_beff5a/ParallelCollectionRDD-45\\\"\\n  op: \\\"ParallelCollectionRDD\\\"\\n  input: \\\"^mean/MapPartitionsRDD-30:0\\\"\\n  input: \\\"^std_dev/MapPartitionsRDD-44:0\\\"\\n  attr {\\n    key: \\\"name\\\"\\n    value {\\n      val: \\\"ParallelCollectionRDD[45] at execute at ExecutionItem.scala:122\\\"\\n    }\\n  }\\n}\\nnode {\\n  name: \\\"localpack_beff5a/MapPartitionsRDD-46\\\"\\n  op: \\\"MapPartitionsRDD\\\"\\n  input: \\\"localpack_beff5a/ParallelCollectionRDD-45\\\"\\n  attr {\\n    key: \\\"name\\\"\\n    value {\\n      val: \\\"MapPartitionsRDD[46] at execute at ExecutionItem.scala:122\\\"\\n    }\\n  }\\n}\\nnode {\\n  name: \\\"sum_a130cf/ParallelCollectionRDD-37\\\"\\n  op: \\\"ParallelCollectionRDD\\\"\\n  input: \\\"^localpack_53b709/MapPartitionsRDD-32:0\\\"\\n  attr {\\n    key: \\\"name\\\"\\n    value {\\n      val: \\\"ParallelCollectionRDD[37] at execute at ExecutionItem.scala:122\\\"\\n    }\\n  }\\n}\\nnode {\\n  name: \\\"sum_a130cf/MapPartitionsRDD-38\\\"\\n  op: \\\"MapPartitionsRDD\\\"\\n  input: \\\"sum_a130cf/ParallelCollectionRDD-37\\\"\\n  attr {\\n    key: \\\"name\\\"\\n    value {\\n      val: \\\"MapPartitionsRDD[38] at execute at ExecutionItem.scala:122\\\"\\n    }\\n  }\\n}\\nnode {\\n  name: \\\"sum_a130cf/MapPartitionsRDD-39\\\"\\n  op: \\\"MapPartitionsRDD\\\"\\n  input: \\\"sum_a130cf/MapPartitionsRDD-38\\\"\\n  attr {\\n    key: \\\"name\\\"\\n    value {\\n      val: \\\"MapPartitionsRDD[39] at execute at ExecutionItem.scala:122\\\"\\n    }\\n  }\\n}\\nnode {\\n  name: \\\"sum_a130cf/MapPartitionsRDD-40\\\"\\n  op: \\\"MapPartitionsRDD\\\"\\n  input: \\\"sum_a130cf/MapPartitionsRDD-39\\\"\\n  attr {\\n    key: \\\"name\\\"\\n    value {\\n      val: \\\"MapPartitionsRDD[40] at execute at ExecutionItem.scala:122\\\"\\n    }\\n  }\\n}\\nnode {\\n  name: \\\"sum_a130cf/ShuffledRowRDD-41\\\"\\n  op: \\\"ShuffledRowRDD\\\"\\n  input: \\\"sum_a130cf/MapPartitionsRDD-40\\\"\\n  attr {\\n    key: \\\"name\\\"\\n    value {\\n      val: \\\"ShuffledRowRDD[41] at execute at ExecutionItem.scala:122\\\"\\n    }\\n  }\\n}\\nnode {\\n  name: \\\"sum_a130cf/MapPartitionsRDD-42\\\"\\n  op: \\\"MapPartitionsRDD\\\"\\n  input: \\\"sum_a130cf/ShuffledRowRDD-41\\\"\\n  attr {\\n    key: \\\"name\\\"\\n    value {\\n      val: \\\"MapPartitionsRDD[42] at execute at ExecutionItem.scala:122\\\"\\n    }\\n  }\\n}\\nnode {\\n  name: \\\"mean/ParallelCollectionRDD-29\\\"\\n  op: \\\"ParallelCollectionRDD\\\"\\n  input: \\\"^count/MapPartitionsRDD-28:0\\\"\\n  input: \\\"^sum_d0deee/MapPartitionsRDD-20:0\\\"\\n  attr {\\n    key: \\\"name\\\"\\n    value {\\n      val: \\\"ParallelCollectionRDD[29] at execute at ExecutionItem.scala:122\\\"\\n    }\\n  }\\n}\\nnode {\\n  name: \\\"mean/MapPartitionsRDD-30\\\"\\n  op: \\\"MapPartitionsRDD\\\"\\n  input: \\\"mean/ParallelCollectionRDD-29\\\"\\n  attr {\\n    key: \\\"name\\\"\\n    value {\\n      val: \\\"MapPartitionsRDD[30] at execute at ExecutionItem.scala:122\\\"\\n    }\\n  }\\n}\\nnode {\\n  name: \\\"localpack_53b709/ParallelCollectionRDD-31\\\"\\n  op: \\\"ParallelCollectionRDD\\\"\\n  input: \\\"^mean/MapPartitionsRDD-30:0\\\"\\n  attr {\\n    key: \\\"name\\\"\\n    value {\\n      val: \\\"ParallelCollectionRDD[31] at execute at ExecutionItem.scala:122\\\"\\n    }\\n  }\\n}\\nnode {\\n  name: \\\"localpack_53b709/MapPartitionsRDD-32\\\"\\n  op: \\\"MapPartitionsRDD\\\"\\n  input: \\\"localpack_53b709/ParallelCollectionRDD-31\\\"\\n  attr {\\n    key: \\\"name\\\"\\n    value {\\n      val: \\\"MapPartitionsRDD[32] at execute at ExecutionItem.scala:122\\\"\\n    }\\n  }\\n}\\n\";  setInterval(mycleanup1, 500);  setInterval(mycleanup2, 500);}}</script><link rel=\"import\" href=\"https://tensorboard.appspot.com/tf-graph-basic.build.html\" onload=load() onscroll=scroll()><div style=\"height:600px\"><tf-graph-basic id=\"895796015576684636\"></tf-graph-basic></div>'></iframe>"
      ]
     },
     "metadata": {},
     "output_type": "display_data"
    }
   ],
   "source": [
    "let ns = statsToExportNodes stats\n",
    "let c = T.unpack (tfIFrame ns)\n",
    "Display [html c]"
   ]
  },
  {
   "cell_type": "code",
   "execution_count": null,
   "metadata": {
    "collapsed": true
   },
   "outputs": [],
   "source": []
  }
 ],
 "metadata": {
  "kernelspec": {
   "display_name": "Haskell",
   "language": "haskell",
   "name": "haskell"
  },
  "language_info": {
   "codemirror_mode": "ihaskell",
   "file_extension": ".hs",
   "name": "haskell",
   "version": "7.10.2"
  }
 },
 "nbformat": 4,
 "nbformat_minor": 1
}
