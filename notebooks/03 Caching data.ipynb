{
 "cells": [
  {
   "cell_type": "markdown",
   "metadata": {},
   "source": [
    "# Caching and uncaching with Spark\n",
    "\n",
    "This is not meant to be a full tutorial, but rather a brief presentation on how to cache datasets with Krapsh. A full Spark tutorial can be found there: http://spark.apache.org/docs/latest/quick-start.html#caching\n",
    "\n",
    "## Normal caching"
   ]
  },
  {
   "cell_type": "code",
   "execution_count": 16,
   "metadata": {
    "collapsed": false
   },
   "outputs": [],
   "source": [
    ":load KrapshDisplays\n",
    ":extension OverloadedStrings\n",
    "import KrapshDisplays(showGraph)\n",
    "import KrapshDagDisplay(computeGraphToDisplayGraph)"
   ]
  },
  {
   "cell_type": "code",
   "execution_count": 17,
   "metadata": {
    "collapsed": false
   },
   "outputs": [
    {
     "data": {
      "text/html": [
       "<style>/* Styles used for the Hoogle display in the pager */\n",
       ".hoogle-doc {\n",
       "display: block;\n",
       "padding-bottom: 1.3em;\n",
       "padding-left: 0.4em;\n",
       "}\n",
       ".hoogle-code {\n",
       "display: block;\n",
       "font-family: monospace;\n",
       "white-space: pre;\n",
       "}\n",
       ".hoogle-text {\n",
       "display: block;\n",
       "}\n",
       ".hoogle-name {\n",
       "color: green;\n",
       "font-weight: bold;\n",
       "}\n",
       ".hoogle-head {\n",
       "font-weight: bold;\n",
       "}\n",
       ".hoogle-sub {\n",
       "display: block;\n",
       "margin-left: 0.4em;\n",
       "}\n",
       ".hoogle-package {\n",
       "font-weight: bold;\n",
       "font-style: italic;\n",
       "}\n",
       ".hoogle-module {\n",
       "font-weight: bold;\n",
       "}\n",
       ".hoogle-class {\n",
       "font-weight: bold;\n",
       "}\n",
       ".get-type {\n",
       "color: green;\n",
       "font-weight: bold;\n",
       "font-family: monospace;\n",
       "display: block;\n",
       "white-space: pre-wrap;\n",
       "}\n",
       ".show-type {\n",
       "color: green;\n",
       "font-weight: bold;\n",
       "font-family: monospace;\n",
       "margin-left: 1em;\n",
       "}\n",
       ".mono {\n",
       "font-family: monospace;\n",
       "display: block;\n",
       "}\n",
       ".err-msg {\n",
       "color: red;\n",
       "font-style: italic;\n",
       "font-family: monospace;\n",
       "white-space: pre;\n",
       "display: block;\n",
       "}\n",
       "#unshowable {\n",
       "color: red;\n",
       "font-weight: bold;\n",
       "}\n",
       ".err-msg.in.collapse {\n",
       "padding-top: 0.7em;\n",
       "}\n",
       ".highlight-code {\n",
       "white-space: pre;\n",
       "font-family: monospace;\n",
       "}\n",
       ".suggestion-warning { \n",
       "font-weight: bold;\n",
       "color: rgb(200, 130, 0);\n",
       "}\n",
       ".suggestion-error { \n",
       "font-weight: bold;\n",
       "color: red;\n",
       "}\n",
       ".suggestion-name {\n",
       "font-weight: bold;\n",
       "}\n",
       "</style><span class='err-msg'>Error {ePath = NPath(), eMessage = \"A default context already exist. If you wish to modify the exsting context, you must use modifySparkConfDef\"}</span>"
      ],
      "text/plain": [
       "Error {ePath = NPath(), eMessage = \"A default context already exist. If you wish to modify the exsting context, you must use modifySparkConfDef\"}"
      ]
     },
     "metadata": {},
     "output_type": "display_data"
    }
   ],
   "source": [
    "import Spark.Core.Dataset\n",
    "import Spark.Core.Context\n",
    "import Spark.Core.Functions\n",
    "import Spark.Core.Column\n",
    "import Spark.Core.ColumnFunctions\n",
    "\n",
    "\n",
    "conf = defaultConf {\n",
    "        confEndPoint = \"http://localhost\",\n",
    "        confRequestedSessionName = \"session03_introduction\" }\n",
    "\n",
    "createSparkSessionDef conf"
   ]
  },
  {
   "cell_type": "code",
   "execution_count": 18,
   "metadata": {
    "collapsed": true
   },
   "outputs": [],
   "source": [
    "-- Some internal utilities to show what is happening under the scene.\n",
    "import Spark.Core.Internal.ContextStructures\n",
    "import Spark.Core.Internal.ContextInternal\n",
    "import Spark.Core.Internal.Utilities(forceRight)"
   ]
  },
  {
   "cell_type": "markdown",
   "metadata": {},
   "source": [
    "Caching is a fundamental step when working repeatedly with large datasets. It is hard to get right, however, and it is a frequent source of performance issues for budding Spark users. Krapsh embeds some tools to help you diagnose caching issues.\n",
    "\n",
    "Consider the following trivial program that creates a dataset, and runs a few computations on it (it computes the number of elements as well as their sums, and computes the mean out of it). Of course, Spark includes a mean operator so this would not be recommended in practice, but it is instructive to study caching issues."
   ]
  },
  {
   "cell_type": "code",
   "execution_count": 19,
   "metadata": {
    "collapsed": false
   },
   "outputs": [],
   "source": [
    "ds = dataset ([1,2,3] :: [Int]) @@ \"data\"\n",
    "-- Turns the dataset into a column and computes the sum of all the elements in this column\n",
    "s1 = sumCol (asCol ds) @@ \"sum\"\n",
    "-- Counts the element in the dataset\n",
    "s2 = count ds @@ \"count\"\n",
    "x = (s1 + s2) @@ \"result\""
   ]
  },
  {
   "cell_type": "markdown",
   "metadata": {
    "collapsed": false
   },
   "source": [
    "Let us see what the computation graph looks like:"
   ]
  },
  {
   "cell_type": "code",
   "execution_count": 20,
   "metadata": {
    "collapsed": false
   },
   "outputs": [
    {
     "data": {
      "text/html": [
       "<style>/* Styles used for the Hoogle display in the pager */\n",
       ".hoogle-doc {\n",
       "display: block;\n",
       "padding-bottom: 1.3em;\n",
       "padding-left: 0.4em;\n",
       "}\n",
       ".hoogle-code {\n",
       "display: block;\n",
       "font-family: monospace;\n",
       "white-space: pre;\n",
       "}\n",
       ".hoogle-text {\n",
       "display: block;\n",
       "}\n",
       ".hoogle-name {\n",
       "color: green;\n",
       "font-weight: bold;\n",
       "}\n",
       ".hoogle-head {\n",
       "font-weight: bold;\n",
       "}\n",
       ".hoogle-sub {\n",
       "display: block;\n",
       "margin-left: 0.4em;\n",
       "}\n",
       ".hoogle-package {\n",
       "font-weight: bold;\n",
       "font-style: italic;\n",
       "}\n",
       ".hoogle-module {\n",
       "font-weight: bold;\n",
       "}\n",
       ".hoogle-class {\n",
       "font-weight: bold;\n",
       "}\n",
       ".get-type {\n",
       "color: green;\n",
       "font-weight: bold;\n",
       "font-family: monospace;\n",
       "display: block;\n",
       "white-space: pre-wrap;\n",
       "}\n",
       ".show-type {\n",
       "color: green;\n",
       "font-weight: bold;\n",
       "font-family: monospace;\n",
       "margin-left: 1em;\n",
       "}\n",
       ".mono {\n",
       "font-family: monospace;\n",
       "display: block;\n",
       "}\n",
       ".err-msg {\n",
       "color: red;\n",
       "font-style: italic;\n",
       "font-family: monospace;\n",
       "white-space: pre;\n",
       "display: block;\n",
       "}\n",
       "#unshowable {\n",
       "color: red;\n",
       "font-weight: bold;\n",
       "}\n",
       ".err-msg.in.collapse {\n",
       "padding-top: 0.7em;\n",
       "}\n",
       ".highlight-code {\n",
       "white-space: pre;\n",
       "font-family: monospace;\n",
       "}\n",
       ".suggestion-warning { \n",
       "font-weight: bold;\n",
       "color: rgb(200, 130, 0);\n",
       "}\n",
       ".suggestion-error { \n",
       "font-weight: bold;\n",
       "color: red;\n",
       "}\n",
       ".suggestion-name {\n",
       "font-weight: bold;\n",
       "}\n",
       "</style><iframe seamless style='width:900px;height:620px;border:0' srcdoc='<script>function load() {{  document.getElementById(\"-517380633749953500\").pbtxt = \"node {\\n  name: \\\"data\\\"\\n  op: \\\"org.spark.DistributedLiteral\\\"\\n  attr {\\n    key: \\\"locality\\\"\\n    value {\\n      val: \\\"distributed\\\"\\n    }\\n  }\\n  attr {\\n    key: \\\"sqlType\\\"\\n    value {\\n      val: \\\"int\\\"\\n    }\\n  }\\n}\\nnode {\\n  name: \\\"select_386f31\\\"\\n  op: \\\"org.spark.Select\\\"\\n  input: \\\"data\\\"\\n  attr {\\n    key: \\\"locality\\\"\\n    value {\\n      val: \\\"distributed\\\"\\n    }\\n  }\\n  attr {\\n    key: \\\"sqlType\\\"\\n    value {\\n      val: \\\"int\\\"\\n    }\\n  }\\n}\\nnode {\\n  name: \\\"sum\\\"\\n  op: \\\"org.spark.StructuredReduction\\\"\\n  input: \\\"select_386f31\\\"\\n  attr {\\n    key: \\\"locality\\\"\\n    value {\\n      val: \\\"local\\\"\\n    }\\n  }\\n  attr {\\n    key: \\\"sqlType\\\"\\n    value {\\n      val: \\\"int\\\"\\n    }\\n  }\\n}\\nnode {\\n  name: \\\"count\\\"\\n  op: \\\"org.spark.StructuredReduction\\\"\\n  input: \\\"select_386f31\\\"\\n  attr {\\n    key: \\\"locality\\\"\\n    value {\\n      val: \\\"local\\\"\\n    }\\n  }\\n  attr {\\n    key: \\\"sqlType\\\"\\n    value {\\n      val: \\\"int\\\"\\n    }\\n  }\\n}\\nnode {\\n  name: \\\"result\\\"\\n  op: \\\"org.spark.LocalPlus\\\"\\n  input: \\\"sum\\\"\\n  input: \\\"count\\\"\\n  attr {\\n    key: \\\"locality\\\"\\n    value {\\n      val: \\\"local\\\"\\n    }\\n  }\\n  attr {\\n    key: \\\"sqlType\\\"\\n    value {\\n      val: \\\"int\\\"\\n    }\\n  }\\n}\\n\";}}</script><link rel=\"import\" href=\"https://tensorboard.appspot.com/tf-graph-basic.build.html\" onload=load()><div style=\"height:600px\"><tf-graph-basic id=\"-517380633749953500\"></tf-graph-basic></div>'></iframe>"
      ]
     },
     "metadata": {},
     "output_type": "display_data"
    }
   ],
   "source": [
    "showGraph x"
   ]
  },
  {
   "cell_type": "markdown",
   "metadata": {
    "collapsed": false
   },
   "source": [
    "For large datasets, this would be inefficient, because it would cause the original dataset `data` to be recomputed twice, to perform the `sum` and `count` operations.\n",
    "\n",
    "We can instruct Spark to _cache_ the dataset (using the `cache` operator). But this will consume some precious memory, so we need to tell Spark to _uncache it_ once we are sure we are done. The operator to do that, unsurprisingly, is called `uncache`. Here is a first attempt that is not going to work:"
   ]
  },
  {
   "cell_type": "code",
   "execution_count": 21,
   "metadata": {
    "collapsed": false
   },
   "outputs": [],
   "source": [
    "-- cache\n",
    "cachedData = cache ds @@ \"cache\"\n",
    "s1 = sumCol (asCol cachedData) @@ \"sum\"\n",
    "s2 = count cachedData @@ \"count\"\n",
    "uncachedData = uncache cachedData @@ \"uncache\"\n",
    "x = (s1 + s2) @@ \"result\""
   ]
  },
  {
   "cell_type": "markdown",
   "metadata": {},
   "source": [
    "Let us look at the graph of computations: the uncaching operation is missing!"
   ]
  },
  {
   "cell_type": "code",
   "execution_count": 22,
   "metadata": {
    "collapsed": false
   },
   "outputs": [
    {
     "data": {
      "text/html": [
       "<style>/* Styles used for the Hoogle display in the pager */\n",
       ".hoogle-doc {\n",
       "display: block;\n",
       "padding-bottom: 1.3em;\n",
       "padding-left: 0.4em;\n",
       "}\n",
       ".hoogle-code {\n",
       "display: block;\n",
       "font-family: monospace;\n",
       "white-space: pre;\n",
       "}\n",
       ".hoogle-text {\n",
       "display: block;\n",
       "}\n",
       ".hoogle-name {\n",
       "color: green;\n",
       "font-weight: bold;\n",
       "}\n",
       ".hoogle-head {\n",
       "font-weight: bold;\n",
       "}\n",
       ".hoogle-sub {\n",
       "display: block;\n",
       "margin-left: 0.4em;\n",
       "}\n",
       ".hoogle-package {\n",
       "font-weight: bold;\n",
       "font-style: italic;\n",
       "}\n",
       ".hoogle-module {\n",
       "font-weight: bold;\n",
       "}\n",
       ".hoogle-class {\n",
       "font-weight: bold;\n",
       "}\n",
       ".get-type {\n",
       "color: green;\n",
       "font-weight: bold;\n",
       "font-family: monospace;\n",
       "display: block;\n",
       "white-space: pre-wrap;\n",
       "}\n",
       ".show-type {\n",
       "color: green;\n",
       "font-weight: bold;\n",
       "font-family: monospace;\n",
       "margin-left: 1em;\n",
       "}\n",
       ".mono {\n",
       "font-family: monospace;\n",
       "display: block;\n",
       "}\n",
       ".err-msg {\n",
       "color: red;\n",
       "font-style: italic;\n",
       "font-family: monospace;\n",
       "white-space: pre;\n",
       "display: block;\n",
       "}\n",
       "#unshowable {\n",
       "color: red;\n",
       "font-weight: bold;\n",
       "}\n",
       ".err-msg.in.collapse {\n",
       "padding-top: 0.7em;\n",
       "}\n",
       ".highlight-code {\n",
       "white-space: pre;\n",
       "font-family: monospace;\n",
       "}\n",
       ".suggestion-warning { \n",
       "font-weight: bold;\n",
       "color: rgb(200, 130, 0);\n",
       "}\n",
       ".suggestion-error { \n",
       "font-weight: bold;\n",
       "color: red;\n",
       "}\n",
       ".suggestion-name {\n",
       "font-weight: bold;\n",
       "}\n",
       "</style><iframe seamless style='width:900px;height:620px;border:0' srcdoc='<script>function load() {{  document.getElementById(\"156286107523049632\").pbtxt = \"node {\\n  name: \\\"data\\\"\\n  op: \\\"org.spark.DistributedLiteral\\\"\\n  attr {\\n    key: \\\"locality\\\"\\n    value {\\n      val: \\\"distributed\\\"\\n    }\\n  }\\n  attr {\\n    key: \\\"sqlType\\\"\\n    value {\\n      val: \\\"int\\\"\\n    }\\n  }\\n}\\nnode {\\n  name: \\\"cache\\\"\\n  op: \\\"org.spark.Cache\\\"\\n  input: \\\"data\\\"\\n  attr {\\n    key: \\\"locality\\\"\\n    value {\\n      val: \\\"distributed\\\"\\n    }\\n  }\\n  attr {\\n    key: \\\"sqlType\\\"\\n    value {\\n      val: \\\"int\\\"\\n    }\\n  }\\n}\\nnode {\\n  name: \\\"select_50f040\\\"\\n  op: \\\"org.spark.Select\\\"\\n  input: \\\"cache\\\"\\n  attr {\\n    key: \\\"locality\\\"\\n    value {\\n      val: \\\"distributed\\\"\\n    }\\n  }\\n  attr {\\n    key: \\\"sqlType\\\"\\n    value {\\n      val: \\\"int\\\"\\n    }\\n  }\\n}\\nnode {\\n  name: \\\"sum\\\"\\n  op: \\\"org.spark.StructuredReduction\\\"\\n  input: \\\"select_50f040\\\"\\n  attr {\\n    key: \\\"locality\\\"\\n    value {\\n      val: \\\"local\\\"\\n    }\\n  }\\n  attr {\\n    key: \\\"sqlType\\\"\\n    value {\\n      val: \\\"int\\\"\\n    }\\n  }\\n}\\nnode {\\n  name: \\\"count\\\"\\n  op: \\\"org.spark.StructuredReduction\\\"\\n  input: \\\"select_50f040\\\"\\n  attr {\\n    key: \\\"locality\\\"\\n    value {\\n      val: \\\"local\\\"\\n    }\\n  }\\n  attr {\\n    key: \\\"sqlType\\\"\\n    value {\\n      val: \\\"int\\\"\\n    }\\n  }\\n}\\nnode {\\n  name: \\\"result\\\"\\n  op: \\\"org.spark.LocalPlus\\\"\\n  input: \\\"sum\\\"\\n  input: \\\"count\\\"\\n  attr {\\n    key: \\\"locality\\\"\\n    value {\\n      val: \\\"local\\\"\\n    }\\n  }\\n  attr {\\n    key: \\\"sqlType\\\"\\n    value {\\n      val: \\\"int\\\"\\n    }\\n  }\\n}\\n\";}}</script><link rel=\"import\" href=\"https://tensorboard.appspot.com/tf-graph-basic.build.html\" onload=load()><div style=\"height:600px\"><tf-graph-basic id=\"156286107523049632\"></tf-graph-basic></div>'></iframe>"
      ]
     },
     "metadata": {},
     "output_type": "display_data"
    }
   ],
   "source": [
    "showGraph x"
   ]
  },
  {
   "cell_type": "markdown",
   "metadata": {},
   "source": [
    "Because of laziness, the result must depend on the uncaching operation. Otherwise it is skipped when calculating the operations that need to be done.\n",
    "\n",
    "Here is a second attempt, in which we explicitly add a _logical dependency_ between the uncaching and the result: the uncaching will happen before we compute the result. Adding a logical dependency is expressed with the `depends` function."
   ]
  },
  {
   "cell_type": "code",
   "execution_count": 23,
   "metadata": {
    "collapsed": false
   },
   "outputs": [
    {
     "data": {
      "text/html": [
       "<style>/* Styles used for the Hoogle display in the pager */\n",
       ".hoogle-doc {\n",
       "display: block;\n",
       "padding-bottom: 1.3em;\n",
       "padding-left: 0.4em;\n",
       "}\n",
       ".hoogle-code {\n",
       "display: block;\n",
       "font-family: monospace;\n",
       "white-space: pre;\n",
       "}\n",
       ".hoogle-text {\n",
       "display: block;\n",
       "}\n",
       ".hoogle-name {\n",
       "color: green;\n",
       "font-weight: bold;\n",
       "}\n",
       ".hoogle-head {\n",
       "font-weight: bold;\n",
       "}\n",
       ".hoogle-sub {\n",
       "display: block;\n",
       "margin-left: 0.4em;\n",
       "}\n",
       ".hoogle-package {\n",
       "font-weight: bold;\n",
       "font-style: italic;\n",
       "}\n",
       ".hoogle-module {\n",
       "font-weight: bold;\n",
       "}\n",
       ".hoogle-class {\n",
       "font-weight: bold;\n",
       "}\n",
       ".get-type {\n",
       "color: green;\n",
       "font-weight: bold;\n",
       "font-family: monospace;\n",
       "display: block;\n",
       "white-space: pre-wrap;\n",
       "}\n",
       ".show-type {\n",
       "color: green;\n",
       "font-weight: bold;\n",
       "font-family: monospace;\n",
       "margin-left: 1em;\n",
       "}\n",
       ".mono {\n",
       "font-family: monospace;\n",
       "display: block;\n",
       "}\n",
       ".err-msg {\n",
       "color: red;\n",
       "font-style: italic;\n",
       "font-family: monospace;\n",
       "white-space: pre;\n",
       "display: block;\n",
       "}\n",
       "#unshowable {\n",
       "color: red;\n",
       "font-weight: bold;\n",
       "}\n",
       ".err-msg.in.collapse {\n",
       "padding-top: 0.7em;\n",
       "}\n",
       ".highlight-code {\n",
       "white-space: pre;\n",
       "font-family: monospace;\n",
       "}\n",
       ".suggestion-warning { \n",
       "font-weight: bold;\n",
       "color: rgb(200, 130, 0);\n",
       "}\n",
       ".suggestion-error { \n",
       "font-weight: bold;\n",
       "color: red;\n",
       "}\n",
       ".suggestion-name {\n",
       "font-weight: bold;\n",
       "}\n",
       "</style><span class='get-type'>depends :: forall loc a. ComputeNode loc a -> [UntypedNode] -> ComputeNode loc a</span>"
      ],
      "text/plain": [
       "depends :: forall loc a. ComputeNode loc a -> [UntypedNode] -> ComputeNode loc a"
      ]
     },
     "metadata": {},
     "output_type": "display_data"
    }
   ],
   "source": [
    ":t depends"
   ]
  },
  {
   "cell_type": "code",
   "execution_count": 24,
   "metadata": {
    "collapsed": false
   },
   "outputs": [],
   "source": [
    "x = ((s1 + s2) `depends` [untyped uncachedData]) @@ \"result\""
   ]
  },
  {
   "cell_type": "markdown",
   "metadata": {},
   "source": [
    "Now we see the uncaching operation in the graph of operations:"
   ]
  },
  {
   "cell_type": "code",
   "execution_count": 25,
   "metadata": {
    "collapsed": false
   },
   "outputs": [
    {
     "data": {
      "text/html": [
       "<style>/* Styles used for the Hoogle display in the pager */\n",
       ".hoogle-doc {\n",
       "display: block;\n",
       "padding-bottom: 1.3em;\n",
       "padding-left: 0.4em;\n",
       "}\n",
       ".hoogle-code {\n",
       "display: block;\n",
       "font-family: monospace;\n",
       "white-space: pre;\n",
       "}\n",
       ".hoogle-text {\n",
       "display: block;\n",
       "}\n",
       ".hoogle-name {\n",
       "color: green;\n",
       "font-weight: bold;\n",
       "}\n",
       ".hoogle-head {\n",
       "font-weight: bold;\n",
       "}\n",
       ".hoogle-sub {\n",
       "display: block;\n",
       "margin-left: 0.4em;\n",
       "}\n",
       ".hoogle-package {\n",
       "font-weight: bold;\n",
       "font-style: italic;\n",
       "}\n",
       ".hoogle-module {\n",
       "font-weight: bold;\n",
       "}\n",
       ".hoogle-class {\n",
       "font-weight: bold;\n",
       "}\n",
       ".get-type {\n",
       "color: green;\n",
       "font-weight: bold;\n",
       "font-family: monospace;\n",
       "display: block;\n",
       "white-space: pre-wrap;\n",
       "}\n",
       ".show-type {\n",
       "color: green;\n",
       "font-weight: bold;\n",
       "font-family: monospace;\n",
       "margin-left: 1em;\n",
       "}\n",
       ".mono {\n",
       "font-family: monospace;\n",
       "display: block;\n",
       "}\n",
       ".err-msg {\n",
       "color: red;\n",
       "font-style: italic;\n",
       "font-family: monospace;\n",
       "white-space: pre;\n",
       "display: block;\n",
       "}\n",
       "#unshowable {\n",
       "color: red;\n",
       "font-weight: bold;\n",
       "}\n",
       ".err-msg.in.collapse {\n",
       "padding-top: 0.7em;\n",
       "}\n",
       ".highlight-code {\n",
       "white-space: pre;\n",
       "font-family: monospace;\n",
       "}\n",
       ".suggestion-warning { \n",
       "font-weight: bold;\n",
       "color: rgb(200, 130, 0);\n",
       "}\n",
       ".suggestion-error { \n",
       "font-weight: bold;\n",
       "color: red;\n",
       "}\n",
       ".suggestion-name {\n",
       "font-weight: bold;\n",
       "}\n",
       "</style><iframe seamless style='width:900px;height:620px;border:0' srcdoc='<script>function load() {{  document.getElementById(\"-8169350803339411101\").pbtxt = \"node {\\n  name: \\\"data\\\"\\n  op: \\\"org.spark.DistributedLiteral\\\"\\n  attr {\\n    key: \\\"locality\\\"\\n    value {\\n      val: \\\"distributed\\\"\\n    }\\n  }\\n  attr {\\n    key: \\\"sqlType\\\"\\n    value {\\n      val: \\\"int\\\"\\n    }\\n  }\\n}\\nnode {\\n  name: \\\"cache\\\"\\n  op: \\\"org.spark.Cache\\\"\\n  input: \\\"data\\\"\\n  attr {\\n    key: \\\"locality\\\"\\n    value {\\n      val: \\\"distributed\\\"\\n    }\\n  }\\n  attr {\\n    key: \\\"sqlType\\\"\\n    value {\\n      val: \\\"int\\\"\\n    }\\n  }\\n}\\nnode {\\n  name: \\\"select_50f040\\\"\\n  op: \\\"org.spark.Select\\\"\\n  input: \\\"cache\\\"\\n  attr {\\n    key: \\\"locality\\\"\\n    value {\\n      val: \\\"distributed\\\"\\n    }\\n  }\\n  attr {\\n    key: \\\"sqlType\\\"\\n    value {\\n      val: \\\"int\\\"\\n    }\\n  }\\n}\\nnode {\\n  name: \\\"sum\\\"\\n  op: \\\"org.spark.StructuredReduction\\\"\\n  input: \\\"select_50f040\\\"\\n  attr {\\n    key: \\\"locality\\\"\\n    value {\\n      val: \\\"local\\\"\\n    }\\n  }\\n  attr {\\n    key: \\\"sqlType\\\"\\n    value {\\n      val: \\\"int\\\"\\n    }\\n  }\\n}\\nnode {\\n  name: \\\"count\\\"\\n  op: \\\"org.spark.StructuredReduction\\\"\\n  input: \\\"select_50f040\\\"\\n  attr {\\n    key: \\\"locality\\\"\\n    value {\\n      val: \\\"local\\\"\\n    }\\n  }\\n  attr {\\n    key: \\\"sqlType\\\"\\n    value {\\n      val: \\\"int\\\"\\n    }\\n  }\\n}\\nnode {\\n  name: \\\"uncache\\\"\\n  op: \\\"org.spark.Unpersist\\\"\\n  input: \\\"cache\\\"\\n  attr {\\n    key: \\\"locality\\\"\\n    value {\\n      val: \\\"distributed\\\"\\n    }\\n  }\\n  attr {\\n    key: \\\"sqlType\\\"\\n    value {\\n      val: \\\"int\\\"\\n    }\\n  }\\n}\\nnode {\\n  name: \\\"result\\\"\\n  op: \\\"org.spark.LocalPlus\\\"\\n  input: \\\"sum\\\"\\n  input: \\\"count\\\"\\n  input: \\\"^uncache:0\\\"\\n  attr {\\n    key: \\\"locality\\\"\\n    value {\\n      val: \\\"local\\\"\\n    }\\n  }\\n  attr {\\n    key: \\\"sqlType\\\"\\n    value {\\n      val: \\\"int\\\"\\n    }\\n  }\\n}\\n\";}}</script><link rel=\"import\" href=\"https://tensorboard.appspot.com/tf-graph-basic.build.html\" onload=load()><div style=\"height:600px\"><tf-graph-basic id=\"-8169350803339411101\"></tf-graph-basic></div>'></iframe>"
      ]
     },
     "metadata": {},
     "output_type": "display_data"
    }
   ],
   "source": [
    "showGraph x"
   ]
  },
  {
   "cell_type": "markdown",
   "metadata": {},
   "source": [
    "However, when we attempt to run it, it fails!"
   ]
  },
  {
   "cell_type": "code",
   "execution_count": 26,
   "metadata": {
    "collapsed": false
   },
   "outputs": [
    {
     "data": {
      "text/html": [
       "<style>/* Styles used for the Hoogle display in the pager */\n",
       ".hoogle-doc {\n",
       "display: block;\n",
       "padding-bottom: 1.3em;\n",
       "padding-left: 0.4em;\n",
       "}\n",
       ".hoogle-code {\n",
       "display: block;\n",
       "font-family: monospace;\n",
       "white-space: pre;\n",
       "}\n",
       ".hoogle-text {\n",
       "display: block;\n",
       "}\n",
       ".hoogle-name {\n",
       "color: green;\n",
       "font-weight: bold;\n",
       "}\n",
       ".hoogle-head {\n",
       "font-weight: bold;\n",
       "}\n",
       ".hoogle-sub {\n",
       "display: block;\n",
       "margin-left: 0.4em;\n",
       "}\n",
       ".hoogle-package {\n",
       "font-weight: bold;\n",
       "font-style: italic;\n",
       "}\n",
       ".hoogle-module {\n",
       "font-weight: bold;\n",
       "}\n",
       ".hoogle-class {\n",
       "font-weight: bold;\n",
       "}\n",
       ".get-type {\n",
       "color: green;\n",
       "font-weight: bold;\n",
       "font-family: monospace;\n",
       "display: block;\n",
       "white-space: pre-wrap;\n",
       "}\n",
       ".show-type {\n",
       "color: green;\n",
       "font-weight: bold;\n",
       "font-family: monospace;\n",
       "margin-left: 1em;\n",
       "}\n",
       ".mono {\n",
       "font-family: monospace;\n",
       "display: block;\n",
       "}\n",
       ".err-msg {\n",
       "color: red;\n",
       "font-style: italic;\n",
       "font-family: monospace;\n",
       "white-space: pre;\n",
       "display: block;\n",
       "}\n",
       "#unshowable {\n",
       "color: red;\n",
       "font-weight: bold;\n",
       "}\n",
       ".err-msg.in.collapse {\n",
       "padding-top: 0.7em;\n",
       "}\n",
       ".highlight-code {\n",
       "white-space: pre;\n",
       "font-family: monospace;\n",
       "}\n",
       ".suggestion-warning { \n",
       "font-weight: bold;\n",
       "color: rgb(200, 130, 0);\n",
       "}\n",
       ".suggestion-error { \n",
       "font-weight: bold;\n",
       "color: red;\n",
       "}\n",
       ".suggestion-name {\n",
       "font-weight: bold;\n",
       "}\n",
       "</style><span class='err-msg'>Error {ePath = NPath(), eMessage = \"Found some caching errors: [CachingFailure {cachingNode = cccd6.., uncachingNode = cb333.., escapingNode = 50f04..},CachingFailure {cachingNode = cccd6.., uncachingNode = cb333.., escapingNode = 6bc97..},CachingFailure {cachingNode = cccd6.., uncachingNode = cb333.., escapingNode = 7c3fa..}]\"}</span>"
      ],
      "text/plain": [
       "Error {ePath = NPath(), eMessage = \"Found some caching errors: [CachingFailure {cachingNode = cccd6.., uncachingNode = cb333.., escapingNode = 50f04..},CachingFailure {cachingNode = cccd6.., uncachingNode = cb333.., escapingNode = 6bc97..},CachingFailure {cachingNode = cccd6.., uncachingNode = cb333.., escapingNode = 7c3fa..}]\"}"
      ]
     },
     "metadata": {},
     "output_type": "display_data"
    }
   ],
   "source": [
    "exec1Def x"
   ]
  },
  {
   "cell_type": "markdown",
   "metadata": {},
   "source": [
    "The message gives us a hint, telling us that it found some operations that are illegal.\n",
    "\n",
    "When you look at the graph above, nothing indicates to Spark if it should first cache the data, or compute the sum or count operation. This ambiguity is in fact visible in the graph because the three nodes `sum`, `count` and `uncache` are represented on the _same line_. Which one should be done first?\n",
    "\n",
    "Because of the lazy nature in Spark, it is a common mistake to uncache data while it is still going to be used later. Krapsh analyzes the graph of computations, and will refuse to run operations if they could be misintepreted by Spark. In that case, Krapsh can see the `sum` or `count` operation could happen _after_ we uncache the data, so it will ask us to resolve this ambiguity.\n",
    "\n",
    "How do we fix it? Simply by ensuring that `sum` or `count` is run _before_ uncaching the data, using logical dependencies again:"
   ]
  },
  {
   "cell_type": "code",
   "execution_count": 27,
   "metadata": {
    "collapsed": false
   },
   "outputs": [
    {
     "data": {
      "text/html": [
       "<style>/* Styles used for the Hoogle display in the pager */\n",
       ".hoogle-doc {\n",
       "display: block;\n",
       "padding-bottom: 1.3em;\n",
       "padding-left: 0.4em;\n",
       "}\n",
       ".hoogle-code {\n",
       "display: block;\n",
       "font-family: monospace;\n",
       "white-space: pre;\n",
       "}\n",
       ".hoogle-text {\n",
       "display: block;\n",
       "}\n",
       ".hoogle-name {\n",
       "color: green;\n",
       "font-weight: bold;\n",
       "}\n",
       ".hoogle-head {\n",
       "font-weight: bold;\n",
       "}\n",
       ".hoogle-sub {\n",
       "display: block;\n",
       "margin-left: 0.4em;\n",
       "}\n",
       ".hoogle-package {\n",
       "font-weight: bold;\n",
       "font-style: italic;\n",
       "}\n",
       ".hoogle-module {\n",
       "font-weight: bold;\n",
       "}\n",
       ".hoogle-class {\n",
       "font-weight: bold;\n",
       "}\n",
       ".get-type {\n",
       "color: green;\n",
       "font-weight: bold;\n",
       "font-family: monospace;\n",
       "display: block;\n",
       "white-space: pre-wrap;\n",
       "}\n",
       ".show-type {\n",
       "color: green;\n",
       "font-weight: bold;\n",
       "font-family: monospace;\n",
       "margin-left: 1em;\n",
       "}\n",
       ".mono {\n",
       "font-family: monospace;\n",
       "display: block;\n",
       "}\n",
       ".err-msg {\n",
       "color: red;\n",
       "font-style: italic;\n",
       "font-family: monospace;\n",
       "white-space: pre;\n",
       "display: block;\n",
       "}\n",
       "#unshowable {\n",
       "color: red;\n",
       "font-weight: bold;\n",
       "}\n",
       ".err-msg.in.collapse {\n",
       "padding-top: 0.7em;\n",
       "}\n",
       ".highlight-code {\n",
       "white-space: pre;\n",
       "font-family: monospace;\n",
       "}\n",
       ".suggestion-warning { \n",
       "font-weight: bold;\n",
       "color: rgb(200, 130, 0);\n",
       "}\n",
       ".suggestion-error { \n",
       "font-weight: bold;\n",
       "color: red;\n",
       "}\n",
       ".suggestion-name {\n",
       "font-weight: bold;\n",
       "}\n",
       "</style><iframe seamless style='width:900px;height:620px;border:0' srcdoc='<script>function load() {{  document.getElementById(\"-5351039089449378437\").pbtxt = \"node {\\n  name: \\\"data\\\"\\n  op: \\\"org.spark.DistributedLiteral\\\"\\n  attr {\\n    key: \\\"locality\\\"\\n    value {\\n      val: \\\"distributed\\\"\\n    }\\n  }\\n  attr {\\n    key: \\\"sqlType\\\"\\n    value {\\n      val: \\\"int\\\"\\n    }\\n  }\\n}\\nnode {\\n  name: \\\"cache\\\"\\n  op: \\\"org.spark.Cache\\\"\\n  input: \\\"data\\\"\\n  attr {\\n    key: \\\"locality\\\"\\n    value {\\n      val: \\\"distributed\\\"\\n    }\\n  }\\n  attr {\\n    key: \\\"sqlType\\\"\\n    value {\\n      val: \\\"int\\\"\\n    }\\n  }\\n}\\nnode {\\n  name: \\\"select_50f040\\\"\\n  op: \\\"org.spark.Select\\\"\\n  input: \\\"cache\\\"\\n  attr {\\n    key: \\\"locality\\\"\\n    value {\\n      val: \\\"distributed\\\"\\n    }\\n  }\\n  attr {\\n    key: \\\"sqlType\\\"\\n    value {\\n      val: \\\"int\\\"\\n    }\\n  }\\n}\\nnode {\\n  name: \\\"sum\\\"\\n  op: \\\"org.spark.StructuredReduction\\\"\\n  input: \\\"select_50f040\\\"\\n  attr {\\n    key: \\\"locality\\\"\\n    value {\\n      val: \\\"local\\\"\\n    }\\n  }\\n  attr {\\n    key: \\\"sqlType\\\"\\n    value {\\n      val: \\\"int\\\"\\n    }\\n  }\\n}\\nnode {\\n  name: \\\"count\\\"\\n  op: \\\"org.spark.StructuredReduction\\\"\\n  input: \\\"select_50f040\\\"\\n  attr {\\n    key: \\\"locality\\\"\\n    value {\\n      val: \\\"local\\\"\\n    }\\n  }\\n  attr {\\n    key: \\\"sqlType\\\"\\n    value {\\n      val: \\\"int\\\"\\n    }\\n  }\\n}\\nnode {\\n  name: \\\"uncache\\\"\\n  op: \\\"org.spark.Unpersist\\\"\\n  input: \\\"cache\\\"\\n  input: \\\"^sum:0\\\"\\n  input: \\\"^count:0\\\"\\n  attr {\\n    key: \\\"locality\\\"\\n    value {\\n      val: \\\"distributed\\\"\\n    }\\n  }\\n  attr {\\n    key: \\\"sqlType\\\"\\n    value {\\n      val: \\\"int\\\"\\n    }\\n  }\\n}\\nnode {\\n  name: \\\"result\\\"\\n  op: \\\"org.spark.LocalPlus\\\"\\n  input: \\\"sum\\\"\\n  input: \\\"count\\\"\\n  input: \\\"^uncache:0\\\"\\n  attr {\\n    key: \\\"locality\\\"\\n    value {\\n      val: \\\"local\\\"\\n    }\\n  }\\n  attr {\\n    key: \\\"sqlType\\\"\\n    value {\\n      val: \\\"int\\\"\\n    }\\n  }\\n}\\n\";}}</script><link rel=\"import\" href=\"https://tensorboard.appspot.com/tf-graph-basic.build.html\" onload=load()><div style=\"height:600px\"><tf-graph-basic id=\"-5351039089449378437\"></tf-graph-basic></div>'></iframe>"
      ]
     },
     "metadata": {},
     "output_type": "display_data"
    }
   ],
   "source": [
    "uncachedData = ((uncache cachedData) `depends` [untyped s1, untyped s2]) @@ \"uncache\"\n",
    "x = ((s1 + s2) `depends` [untyped uncachedData]) @@ \"result\"\n",
    "\n",
    "showGraph x"
   ]
  },
  {
   "cell_type": "markdown",
   "metadata": {},
   "source": [
    "When trying to run this program now, Spark can properly launch the computations."
   ]
  },
  {
   "cell_type": "code",
   "execution_count": 28,
   "metadata": {
    "collapsed": false
   },
   "outputs": [
    {
     "data": {
      "text/plain": [
       "[Debug] executeCommand1: computing observable result@org.spark.LocalPlus!int @(<unknown>:<unknown> <unknown>:0:0)\n",
       "[Info] Sending computations at url: http://localhost:8081/computations/session03_introduction/1/create @(<unknown>:<unknown> <unknown>:0:0)\n",
       "[Debug] executeCommand1: Tracked nodes are [(6bc97..,NPath(sum),int,sum),(7c3fa..,NPath(count),int,count),(82bf2..,NPath(result),int,result)] @(<unknown>:<unknown> <unknown>:0:0)\n",
       "9"
      ]
     },
     "metadata": {},
     "output_type": "display_data"
    }
   ],
   "source": [
    "exec1Def x"
   ]
  },
  {
   "cell_type": "markdown",
   "metadata": {},
   "source": [
    "## Autocache\n",
    "\n",
    "This business of caching and uncaching is clearly tedious and at the same time fairly mechanical. Can we automate all that? Yes! Krapsh includes an _autocache_ operator that acts as a hint: it instructs Spark to consider a specific dataset for potential caching. If Krapsh decides it is useful to cache this dataset, it will automatically insert caching and uncaching instructions.\n",
    "\n",
    "Here is our original program, but this time we automate the caching process: no uncaching, and caching is done using the `autocache` operator."
   ]
  },
  {
   "cell_type": "code",
   "execution_count": 29,
   "metadata": {
    "collapsed": false
   },
   "outputs": [],
   "source": [
    "cachedData = autocache ds @@ \"autocache\"\n",
    "s1 = sumCol (asCol cachedData) @@ \"sum\"\n",
    "s2 = count cachedData @@ \"count\"\n",
    "x = (s1 + s2) @@ \"result\""
   ]
  },
  {
   "cell_type": "markdown",
   "metadata": {},
   "source": [
    "This is all that is required. For the sake of demonstration, let us see under the hood what transforms have been done by looking at the graph of computations. This is not required by casual users, only to understand the computations that are going to take place:"
   ]
  },
  {
   "cell_type": "code",
   "execution_count": 31,
   "metadata": {
    "collapsed": true
   },
   "outputs": [],
   "source": [
    "cg = forceRight (buildComputationGraph x)"
   ]
  },
  {
   "cell_type": "code",
   "execution_count": 32,
   "metadata": {
    "collapsed": false
   },
   "outputs": [
    {
     "data": {
      "text/html": [
       "<style>/* Styles used for the Hoogle display in the pager */\n",
       ".hoogle-doc {\n",
       "display: block;\n",
       "padding-bottom: 1.3em;\n",
       "padding-left: 0.4em;\n",
       "}\n",
       ".hoogle-code {\n",
       "display: block;\n",
       "font-family: monospace;\n",
       "white-space: pre;\n",
       "}\n",
       ".hoogle-text {\n",
       "display: block;\n",
       "}\n",
       ".hoogle-name {\n",
       "color: green;\n",
       "font-weight: bold;\n",
       "}\n",
       ".hoogle-head {\n",
       "font-weight: bold;\n",
       "}\n",
       ".hoogle-sub {\n",
       "display: block;\n",
       "margin-left: 0.4em;\n",
       "}\n",
       ".hoogle-package {\n",
       "font-weight: bold;\n",
       "font-style: italic;\n",
       "}\n",
       ".hoogle-module {\n",
       "font-weight: bold;\n",
       "}\n",
       ".hoogle-class {\n",
       "font-weight: bold;\n",
       "}\n",
       ".get-type {\n",
       "color: green;\n",
       "font-weight: bold;\n",
       "font-family: monospace;\n",
       "display: block;\n",
       "white-space: pre-wrap;\n",
       "}\n",
       ".show-type {\n",
       "color: green;\n",
       "font-weight: bold;\n",
       "font-family: monospace;\n",
       "margin-left: 1em;\n",
       "}\n",
       ".mono {\n",
       "font-family: monospace;\n",
       "display: block;\n",
       "}\n",
       ".err-msg {\n",
       "color: red;\n",
       "font-style: italic;\n",
       "font-family: monospace;\n",
       "white-space: pre;\n",
       "display: block;\n",
       "}\n",
       "#unshowable {\n",
       "color: red;\n",
       "font-weight: bold;\n",
       "}\n",
       ".err-msg.in.collapse {\n",
       "padding-top: 0.7em;\n",
       "}\n",
       ".highlight-code {\n",
       "white-space: pre;\n",
       "font-family: monospace;\n",
       "}\n",
       ".suggestion-warning { \n",
       "font-weight: bold;\n",
       "color: rgb(200, 130, 0);\n",
       "}\n",
       ".suggestion-error { \n",
       "font-weight: bold;\n",
       "color: red;\n",
       "}\n",
       ".suggestion-name {\n",
       "font-weight: bold;\n",
       "}\n",
       "</style><span class='get-type'>performGraphTransforms :: SparkSession -> ComputeGraph -> Try ComputeGraph</span>"
      ],
      "text/plain": [
       "performGraphTransforms :: SparkSession -> ComputeGraph -> Try ComputeGraph"
      ]
     },
     "metadata": {},
     "output_type": "display_data"
    }
   ],
   "source": [
    "performGraphTransforms "
   ]
  },
  {
   "cell_type": "code",
   "execution_count": 33,
   "metadata": {
    "collapsed": false
   },
   "outputs": [
    {
     "data": {
      "text/html": [
       "<style>/* Styles used for the Hoogle display in the pager */\n",
       ".hoogle-doc {\n",
       "display: block;\n",
       "padding-bottom: 1.3em;\n",
       "padding-left: 0.4em;\n",
       "}\n",
       ".hoogle-code {\n",
       "display: block;\n",
       "font-family: monospace;\n",
       "white-space: pre;\n",
       "}\n",
       ".hoogle-text {\n",
       "display: block;\n",
       "}\n",
       ".hoogle-name {\n",
       "color: green;\n",
       "font-weight: bold;\n",
       "}\n",
       ".hoogle-head {\n",
       "font-weight: bold;\n",
       "}\n",
       ".hoogle-sub {\n",
       "display: block;\n",
       "margin-left: 0.4em;\n",
       "}\n",
       ".hoogle-package {\n",
       "font-weight: bold;\n",
       "font-style: italic;\n",
       "}\n",
       ".hoogle-module {\n",
       "font-weight: bold;\n",
       "}\n",
       ".hoogle-class {\n",
       "font-weight: bold;\n",
       "}\n",
       ".get-type {\n",
       "color: green;\n",
       "font-weight: bold;\n",
       "font-family: monospace;\n",
       "display: block;\n",
       "white-space: pre-wrap;\n",
       "}\n",
       ".show-type {\n",
       "color: green;\n",
       "font-weight: bold;\n",
       "font-family: monospace;\n",
       "margin-left: 1em;\n",
       "}\n",
       ".mono {\n",
       "font-family: monospace;\n",
       "display: block;\n",
       "}\n",
       ".err-msg {\n",
       "color: red;\n",
       "font-style: italic;\n",
       "font-family: monospace;\n",
       "white-space: pre;\n",
       "display: block;\n",
       "}\n",
       "#unshowable {\n",
       "color: red;\n",
       "font-weight: bold;\n",
       "}\n",
       ".err-msg.in.collapse {\n",
       "padding-top: 0.7em;\n",
       "}\n",
       ".highlight-code {\n",
       "white-space: pre;\n",
       "font-family: monospace;\n",
       "}\n",
       ".suggestion-warning { \n",
       "font-weight: bold;\n",
       "color: rgb(200, 130, 0);\n",
       "}\n",
       ".suggestion-error { \n",
       "font-weight: bold;\n",
       "color: red;\n",
       "}\n",
       ".suggestion-name {\n",
       "font-weight: bold;\n",
       "}\n",
       "</style><span class='err-msg'>Failed to load interface for `Spark.Core.Internal.ContextInteractive'<br/>it is a hidden module in the package `krapsh-0.1.9.0'</span>"
      ],
      "text/plain": [
       "Failed to load interface for `Spark.Core.Internal.ContextInteractive'\n",
       "it is a hidden module in the package `krapsh-0.1.9.0'\n",
       "Use -v to see a list of the files searched for."
      ]
     },
     "metadata": {},
     "output_type": "display_data"
    }
   ],
   "source": []
  },
  {
   "cell_type": "code",
   "execution_count": 30,
   "metadata": {
    "collapsed": false
   },
   "outputs": [
    {
     "data": {
      "text/html": [
       "<style>/* Styles used for the Hoogle display in the pager */\n",
       ".hoogle-doc {\n",
       "display: block;\n",
       "padding-bottom: 1.3em;\n",
       "padding-left: 0.4em;\n",
       "}\n",
       ".hoogle-code {\n",
       "display: block;\n",
       "font-family: monospace;\n",
       "white-space: pre;\n",
       "}\n",
       ".hoogle-text {\n",
       "display: block;\n",
       "}\n",
       ".hoogle-name {\n",
       "color: green;\n",
       "font-weight: bold;\n",
       "}\n",
       ".hoogle-head {\n",
       "font-weight: bold;\n",
       "}\n",
       ".hoogle-sub {\n",
       "display: block;\n",
       "margin-left: 0.4em;\n",
       "}\n",
       ".hoogle-package {\n",
       "font-weight: bold;\n",
       "font-style: italic;\n",
       "}\n",
       ".hoogle-module {\n",
       "font-weight: bold;\n",
       "}\n",
       ".hoogle-class {\n",
       "font-weight: bold;\n",
       "}\n",
       ".get-type {\n",
       "color: green;\n",
       "font-weight: bold;\n",
       "font-family: monospace;\n",
       "display: block;\n",
       "white-space: pre-wrap;\n",
       "}\n",
       ".show-type {\n",
       "color: green;\n",
       "font-weight: bold;\n",
       "font-family: monospace;\n",
       "margin-left: 1em;\n",
       "}\n",
       ".mono {\n",
       "font-family: monospace;\n",
       "display: block;\n",
       "}\n",
       ".err-msg {\n",
       "color: red;\n",
       "font-style: italic;\n",
       "font-family: monospace;\n",
       "white-space: pre;\n",
       "display: block;\n",
       "}\n",
       "#unshowable {\n",
       "color: red;\n",
       "font-weight: bold;\n",
       "}\n",
       ".err-msg.in.collapse {\n",
       "padding-top: 0.7em;\n",
       "}\n",
       ".highlight-code {\n",
       "white-space: pre;\n",
       "font-family: monospace;\n",
       "}\n",
       ".suggestion-warning { \n",
       "font-weight: bold;\n",
       "color: rgb(200, 130, 0);\n",
       "}\n",
       ".suggestion-error { \n",
       "font-weight: bold;\n",
       "color: red;\n",
       "}\n",
       ".suggestion-name {\n",
       "font-weight: bold;\n",
       "}\n",
       "</style><span class='err-msg'>Couldn't match expected type `Either () b' with actual type `ComputeGraph -> Spark.Core.Try.Try ComputeGraph'<br/>Relevant bindings include cg' :: b (bound at <interactive>:2:1)<br/>Probable cause: `performGraphTransforms' is applied to too few arguments<br/>In the first argument of `forceRight', namely `(performGraphTransforms interactive:IHaskell234.cg)'<br/>In the expression: forceRight (performGraphTransforms interactive:IHaskell234.cg)<br/><br/>Couldn't match type `Spark.Core.Internal.ComputeDag.ComputeDag UntypedNode Spark.Core.Internal.DatasetStructures.StructureEdge' with `SparkSession'<br/>Expected type: SparkSession<br/>  Actual type: ComputeGraph<br/>In the first argument of `performGraphTransforms', namely `interactive:IHaskell234.cg'<br/>In the first argument of `forceRight', namely `(performGraphTransforms interactive:IHaskell234.cg)'</span>"
      ],
      "text/plain": [
       "Couldn't match expected type `Either () b' with actual type `ComputeGraph -> Spark.Core.Try.Try ComputeGraph'\n",
       "Relevant bindings include cg' :: b (bound at <interactive>:2:1)\n",
       "Probable cause: `performGraphTransforms' is applied to too few arguments\n",
       "In the first argument of `forceRight', namely `(performGraphTransforms interactive:Ghci234.cg)'\n",
       "In the expression: forceRight (performGraphTransforms interactive:Ghci234.cg)\n",
       "\n",
       "Couldn't match type `Spark.Core.Internal.ComputeDag.ComputeDag UntypedNode Spark.Core.Internal.DatasetStructures.StructureEdge' with `SparkSession'\n",
       "Expected type: SparkSession\n",
       "  Actual type: ComputeGraph\n",
       "In the first argument of `performGraphTransforms', namely `interactive:Ghci234.cg'\n",
       "In the first argument of `forceRight', namely `(performGraphTransforms interactive:Ghci234.cg)'"
      ]
     },
     "metadata": {},
     "output_type": "display_data"
    }
   ],
   "source": [
    "cg = forceRight (buildComputationGraph x)\n",
    "cg' = forceRight (performGraphTransforms cg)\n",
    "computeGraphToDisplayGraph cg'"
   ]
  },
  {
   "cell_type": "markdown",
   "metadata": {},
   "source": [
    "This is very close to the transforms that we have done manually! Krapsh has added extra logical dependencies to ensure that operations are done in the correct order.\n",
    "\n",
    "To conclude:\n",
    " - use `autocache` when possible\n",
    " - if you need more fine-grained control over the placement and the order of operations, you can manually cache datasets using `cache` and `uncache`. Krapsh will prevent you from doing mistakes however."
   ]
  },
  {
   "cell_type": "code",
   "execution_count": null,
   "metadata": {
    "collapsed": false
   },
   "outputs": [],
   "source": []
  }
 ],
 "metadata": {
  "kernelspec": {
   "display_name": "Haskell",
   "language": "haskell",
   "name": "haskell"
  },
  "language_info": {
   "codemirror_mode": "ihaskell",
   "file_extension": ".hs",
   "name": "haskell",
   "version": "7.10.2"
  }
 },
 "nbformat": 4,
 "nbformat_minor": 0
}
