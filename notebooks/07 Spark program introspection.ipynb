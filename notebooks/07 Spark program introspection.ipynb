{
 "cells": [
  {
   "cell_type": "code",
   "execution_count": 1,
   "metadata": {
    "collapsed": true
   },
   "outputs": [],
   "source": [
    ":load KrapshDisplays KrapshDagDisplay"
   ]
  },
  {
   "cell_type": "code",
   "execution_count": 2,
   "metadata": {
    "collapsed": true
   },
   "outputs": [],
   "source": [
    ":extension DeriveGeneric\n",
    ":extension FlexibleContexts\n",
    ":extension OverloadedStrings\n",
    ":extension GeneralizedNewtypeDeriving\n",
    ":extension FlexibleInstances\n",
    ":extension MultiParamTypeClasses"
   ]
  },
  {
   "cell_type": "code",
   "execution_count": 3,
   "metadata": {
    "collapsed": true
   },
   "outputs": [],
   "source": [
    "import Spark.Core.Dataset\n",
    "import Spark.Core.Context\n",
    "import Spark.Core.Column\n",
    "import Spark.Core.ColumnFunctions\n",
    "import Spark.Core.Functions\n",
    "import Spark.Core.Row\n",
    "import Spark.Core.Types\n",
    "import Spark.Core.Try\n",
    "\n",
    "import qualified Data.Vector as V\n",
    "import qualified Data.Text as T\n",
    "import GHC.Generics\n",
    "import IHaskell.Display"
   ]
  },
  {
   "cell_type": "code",
   "execution_count": 4,
   "metadata": {
    "collapsed": true
   },
   "outputs": [],
   "source": [
    "import Spark.Core.StructuresInternal(ComputationID(..))"
   ]
  },
  {
   "cell_type": "code",
   "execution_count": 5,
   "metadata": {},
   "outputs": [
    {
     "data": {
      "text/plain": [
       "[Debug] Creating spark session at url: http://10.0.2.2:8081/sessions/cache_sum1 @(<unknown>:<unknown> <unknown>:0:0)"
      ]
     },
     "metadata": {},
     "output_type": "display_data"
    }
   ],
   "source": [
    "\n",
    "conf = defaultConf {\n",
    "        confEndPoint = \"http://10.0.2.2\",\n",
    "        confRequestedSessionName = \"cache_sum1\" }\n",
    "\n",
    "createSparkSessionDef conf\n"
   ]
  },
  {
   "cell_type": "code",
   "execution_count": 6,
   "metadata": {},
   "outputs": [
    {
     "data": {
      "text/plain": [
       "[Debug] executeCommand1: computing observable result@org.spark.LocalPlus!int @(<unknown>:<unknown> <unknown>:0:0)\n",
       "[Info] Sending computations at url: http://10.0.2.2:8081/computations/cache_sum1/0/create @(<unknown>:<unknown> <unknown>:0:0)\n",
       "[Debug] executeCommand1: Tracked nodes are [(a51cb..,NPath(sum),int,sum),(bfb9e..,NPath(count),int,count),(8433d..,NPath(result),int,result)] @(<unknown>:<unknown> <unknown>:0:0)\n",
       "[Info] _computationMultiStatus: /sum running @(<unknown>:<unknown> <unknown>:0:0)\n",
       "[Info] _computationMultiStatus: /count running @(<unknown>:<unknown> <unknown>:0:0)\n",
       "[Info] _computationMultiStatus: /sum finished @(<unknown>:<unknown> <unknown>:0:0)\n",
       "[Info] _computationMultiStatus: /count finished @(<unknown>:<unknown> <unknown>:0:0)\n",
       "[Info] _computationMultiStatus: /result finished @(<unknown>:<unknown> <unknown>:0:0)\n",
       "9"
      ]
     },
     "metadata": {},
     "output_type": "display_data"
    }
   ],
   "source": [
    "ds = dataset ([1,2,3] :: [Int]) @@ \"data\"\n",
    "-- Turns the dataset into a column and computes the sum of all the elements in this column\n",
    "s1 = sumCol (asCol ds) @@ \"sum\"\n",
    "-- Counts the element in the dataset\n",
    "s2 = count ds @@ \"count\"\n",
    "x = (s1 + s2) @@ \"result\"\n",
    "exec1Def x"
   ]
  },
  {
   "cell_type": "code",
   "execution_count": 7,
   "metadata": {},
   "outputs": [
    {
     "data": {
      "text/plain": [
       "[Debug] computationStats: stats for ComputationID {unComputationID = \"0\"} @(<unknown>:<unknown> <unknown>:0:0)\n",
       "[Debug] Sending computations stats request at url: http://10.0.2.2:8081/computations_status/cache_sum1/0/ @(<unknown>:<unknown> <unknown>:0:0)"
      ]
     },
     "metadata": {},
     "output_type": "display_data"
    }
   ],
   "source": [
    "stats <- computationStatsDef (ComputationID \"0\")"
   ]
  },
  {
   "cell_type": "code",
   "execution_count": 8,
   "metadata": {
    "collapsed": true
   },
   "outputs": [],
   "source": [
    "let ns = statsToExportNodes stats"
   ]
  },
  {
   "cell_type": "code",
   "execution_count": 9,
   "metadata": {},
   "outputs": [
    {
     "data": {
      "text/html": [
       "<style>/* Styles used for the Hoogle display in the pager */\n",
       ".hoogle-doc {\n",
       "display: block;\n",
       "padding-bottom: 1.3em;\n",
       "padding-left: 0.4em;\n",
       "}\n",
       ".hoogle-code {\n",
       "display: block;\n",
       "font-family: monospace;\n",
       "white-space: pre;\n",
       "}\n",
       ".hoogle-text {\n",
       "display: block;\n",
       "}\n",
       ".hoogle-name {\n",
       "color: green;\n",
       "font-weight: bold;\n",
       "}\n",
       ".hoogle-head {\n",
       "font-weight: bold;\n",
       "}\n",
       ".hoogle-sub {\n",
       "display: block;\n",
       "margin-left: 0.4em;\n",
       "}\n",
       ".hoogle-package {\n",
       "font-weight: bold;\n",
       "font-style: italic;\n",
       "}\n",
       ".hoogle-module {\n",
       "font-weight: bold;\n",
       "}\n",
       ".hoogle-class {\n",
       "font-weight: bold;\n",
       "}\n",
       ".get-type {\n",
       "color: green;\n",
       "font-weight: bold;\n",
       "font-family: monospace;\n",
       "display: block;\n",
       "white-space: pre-wrap;\n",
       "}\n",
       ".show-type {\n",
       "color: green;\n",
       "font-weight: bold;\n",
       "font-family: monospace;\n",
       "margin-left: 1em;\n",
       "}\n",
       ".mono {\n",
       "font-family: monospace;\n",
       "display: block;\n",
       "}\n",
       ".err-msg {\n",
       "color: red;\n",
       "font-style: italic;\n",
       "font-family: monospace;\n",
       "white-space: pre;\n",
       "display: block;\n",
       "}\n",
       "#unshowable {\n",
       "color: red;\n",
       "font-weight: bold;\n",
       "}\n",
       ".err-msg.in.collapse {\n",
       "padding-top: 0.7em;\n",
       "}\n",
       ".highlight-code {\n",
       "white-space: pre;\n",
       "font-family: monospace;\n",
       "}\n",
       ".suggestion-warning { \n",
       "font-weight: bold;\n",
       "color: rgb(200, 130, 0);\n",
       "}\n",
       ".suggestion-error { \n",
       "font-weight: bold;\n",
       "color: red;\n",
       "}\n",
       ".suggestion-name {\n",
       "font-weight: bold;\n",
       "}\n",
       "</style><iframe seamless style='width:900px;height:620px;border:0' srcdoc='<script>function mycleanup1() {var docs = document.getElementsByClassName(\"side tf-graph-basic\");var n = docs.length;for (var i=0; i < n; i++) {var x = docs[i];if (x.style.display === \"\") {x.style.display = \"none\";}}};function mycleanup2() {var docs = document.getElementsByClassName(\"main tf-graph-basic\");var n = docs.length;for (var i=0; i < n; i++) {var x = docs[i];if (x.style.left !== 0) {x.style.left = 0;}}};function load() {{  document.getElementById(\"-6463595460445388853\").pbtxt = \"node {\\n  name: \\\"result/ParallelCollectionRDD-16\\\"\\n  op: \\\"ParallelCollectionRDD\\\"\\n  input: \\\"^count/MapPartitionsRDD-15:0\\\"\\n  input: \\\"^sum/MapPartitionsRDD-9:0\\\"\\n  attr {\\n    key: \\\"name\\\"\\n    value {\\n      val: \\\"ParallelCollectionRDD[16] at execute at ExecutionItem.scala:123\\\"\\n    }\\n  }\\n}\\nnode {\\n  name: \\\"result/MapPartitionsRDD-17\\\"\\n  op: \\\"MapPartitionsRDD\\\"\\n  input: \\\"result/ParallelCollectionRDD-16\\\"\\n  attr {\\n    key: \\\"name\\\"\\n    value {\\n      val: \\\"MapPartitionsRDD[17] at execute at ExecutionItem.scala:123\\\"\\n    }\\n  }\\n}\\nnode {\\n  name: \\\"sum/ParallelCollectionRDD-4\\\"\\n  op: \\\"ParallelCollectionRDD\\\"\\n  attr {\\n    key: \\\"name\\\"\\n    value {\\n      val: \\\"ParallelCollectionRDD[4] at execute at ExecutionItem.scala:123\\\"\\n    }\\n  }\\n}\\nnode {\\n  name: \\\"sum/MapPartitionsRDD-5\\\"\\n  op: \\\"MapPartitionsRDD\\\"\\n  input: \\\"sum/ParallelCollectionRDD-4\\\"\\n  attr {\\n    key: \\\"name\\\"\\n    value {\\n      val: \\\"MapPartitionsRDD[5] at execute at ExecutionItem.scala:123\\\"\\n    }\\n  }\\n}\\nnode {\\n  name: \\\"sum/MapPartitionsRDD-6\\\"\\n  op: \\\"MapPartitionsRDD\\\"\\n  input: \\\"sum/MapPartitionsRDD-5\\\"\\n  attr {\\n    key: \\\"name\\\"\\n    value {\\n      val: \\\"MapPartitionsRDD[6] at execute at ExecutionItem.scala:123\\\"\\n    }\\n  }\\n}\\nnode {\\n  name: \\\"sum/MapPartitionsRDD-7\\\"\\n  op: \\\"MapPartitionsRDD\\\"\\n  input: \\\"sum/MapPartitionsRDD-6\\\"\\n  attr {\\n    key: \\\"name\\\"\\n    value {\\n      val: \\\"MapPartitionsRDD[7] at execute at ExecutionItem.scala:123\\\"\\n    }\\n  }\\n}\\nnode {\\n  name: \\\"sum/ShuffledRowRDD-8\\\"\\n  op: \\\"ShuffledRowRDD\\\"\\n  input: \\\"sum/MapPartitionsRDD-7\\\"\\n  attr {\\n    key: \\\"name\\\"\\n    value {\\n      val: \\\"ShuffledRowRDD[8] at execute at ExecutionItem.scala:123\\\"\\n    }\\n  }\\n}\\nnode {\\n  name: \\\"sum/MapPartitionsRDD-9\\\"\\n  op: \\\"MapPartitionsRDD\\\"\\n  input: \\\"sum/ShuffledRowRDD-8\\\"\\n  attr {\\n    key: \\\"name\\\"\\n    value {\\n      val: \\\"MapPartitionsRDD[9] at execute at ExecutionItem.scala:123\\\"\\n    }\\n  }\\n}\\nnode {\\n  name: \\\"count/ParallelCollectionRDD-10\\\"\\n  op: \\\"ParallelCollectionRDD\\\"\\n  attr {\\n    key: \\\"name\\\"\\n    value {\\n      val: \\\"ParallelCollectionRDD[10] at execute at ExecutionItem.scala:123\\\"\\n    }\\n  }\\n}\\nnode {\\n  name: \\\"count/MapPartitionsRDD-11\\\"\\n  op: \\\"MapPartitionsRDD\\\"\\n  input: \\\"count/ParallelCollectionRDD-10\\\"\\n  attr {\\n    key: \\\"name\\\"\\n    value {\\n      val: \\\"MapPartitionsRDD[11] at execute at ExecutionItem.scala:123\\\"\\n    }\\n  }\\n}\\nnode {\\n  name: \\\"count/MapPartitionsRDD-12\\\"\\n  op: \\\"MapPartitionsRDD\\\"\\n  input: \\\"count/MapPartitionsRDD-11\\\"\\n  attr {\\n    key: \\\"name\\\"\\n    value {\\n      val: \\\"MapPartitionsRDD[12] at execute at ExecutionItem.scala:123\\\"\\n    }\\n  }\\n}\\nnode {\\n  name: \\\"count/MapPartitionsRDD-13\\\"\\n  op: \\\"MapPartitionsRDD\\\"\\n  input: \\\"count/MapPartitionsRDD-12\\\"\\n  attr {\\n    key: \\\"name\\\"\\n    value {\\n      val: \\\"MapPartitionsRDD[13] at execute at ExecutionItem.scala:123\\\"\\n    }\\n  }\\n}\\nnode {\\n  name: \\\"count/ShuffledRowRDD-14\\\"\\n  op: \\\"ShuffledRowRDD\\\"\\n  input: \\\"count/MapPartitionsRDD-13\\\"\\n  attr {\\n    key: \\\"name\\\"\\n    value {\\n      val: \\\"ShuffledRowRDD[14] at execute at ExecutionItem.scala:123\\\"\\n    }\\n  }\\n}\\nnode {\\n  name: \\\"count/MapPartitionsRDD-15\\\"\\n  op: \\\"MapPartitionsRDD\\\"\\n  input: \\\"count/ShuffledRowRDD-14\\\"\\n  attr {\\n    key: \\\"name\\\"\\n    value {\\n      val: \\\"MapPartitionsRDD[15] at execute at ExecutionItem.scala:123\\\"\\n    }\\n  }\\n}\\n\";  setInterval(mycleanup1, 500);  setInterval(mycleanup2, 500);}}</script><link rel=\"import\" href=\"https://tensorboard.appspot.com/tf-graph-basic.build.html\" onload=load() onscroll=scroll()><div style=\"height:600px\"><tf-graph-basic id=\"-6463595460445388853\"></tf-graph-basic></div>'></iframe>"
      ]
     },
     "metadata": {},
     "output_type": "display_data"
    }
   ],
   "source": [
    "let c = T.unpack (tfIFrame ns)\n",
    "Display [html c]"
   ]
  },
  {
   "cell_type": "code",
   "execution_count": null,
   "metadata": {
    "collapsed": true
   },
   "outputs": [],
   "source": []
  }
 ],
 "metadata": {
  "kernelspec": {
   "display_name": "Haskell",
   "language": "haskell",
   "name": "haskell"
  },
  "language_info": {
   "codemirror_mode": "ihaskell",
   "file_extension": ".hs",
   "name": "haskell",
   "version": "7.10.2"
  }
 },
 "nbformat": 4,
 "nbformat_minor": 1
}
