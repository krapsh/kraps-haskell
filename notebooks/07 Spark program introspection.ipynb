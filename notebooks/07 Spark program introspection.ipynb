{
 "cells": [
  {
   "cell_type": "code",
   "execution_count": 1,
   "metadata": {
    "collapsed": false
   },
   "outputs": [],
   "source": [
    ":load KrapshDisplays KrapshDagDisplay"
   ]
  },
  {
   "cell_type": "code",
   "execution_count": 2,
   "metadata": {
    "collapsed": true
   },
   "outputs": [],
   "source": [
    ":extension DeriveGeneric\n",
    ":extension FlexibleContexts\n",
    ":extension OverloadedStrings\n",
    ":extension GeneralizedNewtypeDeriving\n",
    ":extension FlexibleInstances\n",
    ":extension MultiParamTypeClasses"
   ]
  },
  {
   "cell_type": "code",
   "execution_count": 3,
   "metadata": {
    "collapsed": true
   },
   "outputs": [],
   "source": [
    "import Spark.Core.Dataset\n",
    "import Spark.Core.Context\n",
    "import Spark.Core.Column\n",
    "import Spark.Core.ColumnFunctions\n",
    "import Spark.Core.Functions\n",
    "import Spark.Core.Row\n",
    "import Spark.Core.Types\n",
    "import Spark.Core.Try\n",
    "\n",
    "import qualified Data.Vector as V\n",
    "import qualified Data.Text as T\n",
    "import GHC.Generics\n",
    "import IHaskell.Display"
   ]
  },
  {
   "cell_type": "code",
   "execution_count": 4,
   "metadata": {
    "collapsed": true
   },
   "outputs": [],
   "source": [
    "import Spark.Core.StructuresInternal(ComputationID(..))"
   ]
  },
  {
   "cell_type": "code",
   "execution_count": 5,
   "metadata": {
    "collapsed": false
   },
   "outputs": [
    {
     "data": {
      "text/plain": [
       "[Debug] Creating spark session at url: http://localhost:8081/sessions/cache_sum1 @(<unknown>:<unknown> <unknown>:0:0)"
      ]
     },
     "metadata": {},
     "output_type": "display_data"
    }
   ],
   "source": [
    "\n",
    "conf = defaultConf {\n",
    "        confEndPoint = \"http://localhost\",\n",
    "        confRequestedSessionName = \"cache_sum1\" }\n",
    "\n",
    "createSparkSessionDef conf\n"
   ]
  },
  {
   "cell_type": "code",
   "execution_count": 6,
   "metadata": {
    "collapsed": false
   },
   "outputs": [
    {
     "data": {
      "text/plain": [
       "[Debug] computationStats: stats for ComputationID {unComputationID = \"0\"} @(<unknown>:<unknown> <unknown>:0:0)\n",
       "[Debug] Sending computations stats request at url: http://localhost:8081/computations_status/cache_sum1/0/ @(<unknown>:<unknown> <unknown>:0:0)"
      ]
     },
     "metadata": {},
     "output_type": "display_data"
    }
   ],
   "source": [
    "stats <- computationStatsDef (ComputationID \"0\")"
   ]
  },
  {
   "cell_type": "code",
   "execution_count": 7,
   "metadata": {
    "collapsed": false
   },
   "outputs": [],
   "source": [
    "let ns = statsToExportNodes stats"
   ]
  },
  {
   "cell_type": "code",
   "execution_count": 8,
   "metadata": {
    "collapsed": false
   },
   "outputs": [
    {
     "data": {
      "text/html": [
       "<style>/* Styles used for the Hoogle display in the pager */\n",
       ".hoogle-doc {\n",
       "display: block;\n",
       "padding-bottom: 1.3em;\n",
       "padding-left: 0.4em;\n",
       "}\n",
       ".hoogle-code {\n",
       "display: block;\n",
       "font-family: monospace;\n",
       "white-space: pre;\n",
       "}\n",
       ".hoogle-text {\n",
       "display: block;\n",
       "}\n",
       ".hoogle-name {\n",
       "color: green;\n",
       "font-weight: bold;\n",
       "}\n",
       ".hoogle-head {\n",
       "font-weight: bold;\n",
       "}\n",
       ".hoogle-sub {\n",
       "display: block;\n",
       "margin-left: 0.4em;\n",
       "}\n",
       ".hoogle-package {\n",
       "font-weight: bold;\n",
       "font-style: italic;\n",
       "}\n",
       ".hoogle-module {\n",
       "font-weight: bold;\n",
       "}\n",
       ".hoogle-class {\n",
       "font-weight: bold;\n",
       "}\n",
       ".get-type {\n",
       "color: green;\n",
       "font-weight: bold;\n",
       "font-family: monospace;\n",
       "display: block;\n",
       "white-space: pre-wrap;\n",
       "}\n",
       ".show-type {\n",
       "color: green;\n",
       "font-weight: bold;\n",
       "font-family: monospace;\n",
       "margin-left: 1em;\n",
       "}\n",
       ".mono {\n",
       "font-family: monospace;\n",
       "display: block;\n",
       "}\n",
       ".err-msg {\n",
       "color: red;\n",
       "font-style: italic;\n",
       "font-family: monospace;\n",
       "white-space: pre;\n",
       "display: block;\n",
       "}\n",
       "#unshowable {\n",
       "color: red;\n",
       "font-weight: bold;\n",
       "}\n",
       ".err-msg.in.collapse {\n",
       "padding-top: 0.7em;\n",
       "}\n",
       ".highlight-code {\n",
       "white-space: pre;\n",
       "font-family: monospace;\n",
       "}\n",
       ".suggestion-warning { \n",
       "font-weight: bold;\n",
       "color: rgb(200, 130, 0);\n",
       "}\n",
       ".suggestion-error { \n",
       "font-weight: bold;\n",
       "color: red;\n",
       "}\n",
       ".suggestion-name {\n",
       "font-weight: bold;\n",
       "}\n",
       "</style><iframe seamless style='width:900px;height:620px;border:0' srcdoc='<script>function load() {{  document.getElementById(\"-1483750220476355150\").pbtxt = \"node {\\n  name: \\\"localidentity_21dd12/ParallelCollectionRDD-26\\\"\\n  op: \\\"ParallelCollectionRDD\\\"\\n  input: \\\"^count_abc591/MapPartitionsRDD-22:0\\\"\\n  input: \\\"^sum_d52323/MapPartitionsRDD-17:0\\\"\\n  attr {\\n    key: \\\"name\\\"\\n    value {\\n      val: \\\"ParallelCollectionRDD[26] at execute at ExecutionItem.scala:122\\\"\\n    }\\n  }\\n}\\nnode {\\n  name: \\\"localidentity_21dd12/MapPartitionsRDD-27\\\"\\n  op: \\\"MapPartitionsRDD\\\"\\n  input: \\\"localidentity_21dd12/ParallelCollectionRDD-26\\\"\\n  attr {\\n    key: \\\"name\\\"\\n    value {\\n      val: \\\"MapPartitionsRDD[27] at execute at ExecutionItem.scala:122\\\"\\n    }\\n  }\\n}\\nnode {\\n  name: \\\"count_abc591/MapPartitionsRDD-18\\\"\\n  op: \\\"MapPartitionsRDD\\\"\\n  input: \\\"select_2ba89f/MapPartitionsRDD-4\\\"\\n  attr {\\n    key: \\\"name\\\"\\n    value {\\n      val: \\\"MapPartitionsRDD[18] at execute at ExecutionItem.scala:122\\\"\\n    }\\n  }\\n}\\nnode {\\n  name: \\\"count_abc591/MapPartitionsRDD-19\\\"\\n  op: \\\"MapPartitionsRDD\\\"\\n  input: \\\"count_abc591/MapPartitionsRDD-18\\\"\\n  attr {\\n    key: \\\"name\\\"\\n    value {\\n      val: \\\"MapPartitionsRDD[19] at execute at ExecutionItem.scala:122\\\"\\n    }\\n  }\\n}\\nnode {\\n  name: \\\"count_abc591/MapPartitionsRDD-20\\\"\\n  op: \\\"MapPartitionsRDD\\\"\\n  input: \\\"count_abc591/MapPartitionsRDD-19\\\"\\n  attr {\\n    key: \\\"name\\\"\\n    value {\\n      val: \\\"MapPartitionsRDD[20] at execute at ExecutionItem.scala:122\\\"\\n    }\\n  }\\n}\\nnode {\\n  name: \\\"count_abc591/ShuffledRowRDD-21\\\"\\n  op: \\\"ShuffledRowRDD\\\"\\n  input: \\\"count_abc591/MapPartitionsRDD-20\\\"\\n  attr {\\n    key: \\\"name\\\"\\n    value {\\n      val: \\\"ShuffledRowRDD[21] at execute at ExecutionItem.scala:122\\\"\\n    }\\n  }\\n}\\nnode {\\n  name: \\\"count_abc591/MapPartitionsRDD-22\\\"\\n  op: \\\"MapPartitionsRDD\\\"\\n  input: \\\"count_abc591/ShuffledRowRDD-21\\\"\\n  attr {\\n    key: \\\"name\\\"\\n    value {\\n      val: \\\"MapPartitionsRDD[22] at execute at ExecutionItem.scala:122\\\"\\n    }\\n  }\\n}\\nnode {\\n  name: \\\"select_2ba89f/ParallelCollectionRDD-2\\\"\\n  op: \\\"ParallelCollectionRDD\\\"\\n  attr {\\n    key: \\\"name\\\"\\n    value {\\n      val: \\\"ParallelCollectionRDD[2] at persist at SparkRegistry.scala:189\\\"\\n    }\\n  }\\n}\\nnode {\\n  name: \\\"select_2ba89f/MapPartitionsRDD-3\\\"\\n  op: \\\"MapPartitionsRDD\\\"\\n  input: \\\"select_2ba89f/ParallelCollectionRDD-2\\\"\\n  attr {\\n    key: \\\"name\\\"\\n    value {\\n      val: \\\"MapPartitionsRDD[3] at persist at SparkRegistry.scala:189\\\"\\n    }\\n  }\\n}\\nnode {\\n  name: \\\"select_2ba89f/MapPartitionsRDD-4\\\"\\n  op: \\\"MapPartitionsRDD\\\"\\n  input: \\\"select_2ba89f/MapPartitionsRDD-3\\\"\\n  attr {\\n    key: \\\"name\\\"\\n    value {\\n      val: \\\"LocalTableScan [_1#0]\\\\n MapPartitionsRDD[4] at persist at SparkRegistry.scala:189\\\"\\n    }\\n  }\\n}\\nnode {\\n  name: \\\"localplus_23aca6/ParallelCollectionRDD-28\\\"\\n  op: \\\"ParallelCollectionRDD\\\"\\n  input: \\\"^localidentity_21dd12/MapPartitionsRDD-27:0\\\"\\n  input: \\\"^localidentity_5b45bc/MapPartitionsRDD-25:0\\\"\\n  attr {\\n    key: \\\"name\\\"\\n    value {\\n      val: \\\"ParallelCollectionRDD[28] at execute at ExecutionItem.scala:122\\\"\\n    }\\n  }\\n}\\nnode {\\n  name: \\\"localplus_23aca6/MapPartitionsRDD-29\\\"\\n  op: \\\"MapPartitionsRDD\\\"\\n  input: \\\"localplus_23aca6/ParallelCollectionRDD-28\\\"\\n  attr {\\n    key: \\\"name\\\"\\n    value {\\n      val: \\\"MapPartitionsRDD[29] at execute at ExecutionItem.scala:122\\\"\\n    }\\n  }\\n}\\nnode {\\n  name: \\\"localidentity_5b45bc/ParallelCollectionRDD-24\\\"\\n  op: \\\"ParallelCollectionRDD\\\"\\n  input: \\\"^count_abc591/MapPartitionsRDD-22:0\\\"\\n  input: \\\"^sum_d52323/MapPartitionsRDD-17:0\\\"\\n  attr {\\n    key: \\\"name\\\"\\n    value {\\n      val: \\\"ParallelCollectionRDD[24] at execute at ExecutionItem.scala:122\\\"\\n    }\\n  }\\n}\\nnode {\\n  name: \\\"localidentity_5b45bc/MapPartitionsRDD-25\\\"\\n  op: \\\"MapPartitionsRDD\\\"\\n  input: \\\"localidentity_5b45bc/ParallelCollectionRDD-24\\\"\\n  attr {\\n    key: \\\"name\\\"\\n    value {\\n      val: \\\"MapPartitionsRDD[25] at execute at ExecutionItem.scala:122\\\"\\n    }\\n  }\\n}\\nnode {\\n  name: \\\"sum_d52323/MapPartitionsRDD-13\\\"\\n  op: \\\"MapPartitionsRDD\\\"\\n  input: \\\"select_2ba89f/MapPartitionsRDD-4\\\"\\n  attr {\\n    key: \\\"name\\\"\\n    value {\\n      val: \\\"MapPartitionsRDD[13] at execute at ExecutionItem.scala:122\\\"\\n    }\\n  }\\n}\\nnode {\\n  name: \\\"sum_d52323/MapPartitionsRDD-14\\\"\\n  op: \\\"MapPartitionsRDD\\\"\\n  input: \\\"sum_d52323/MapPartitionsRDD-13\\\"\\n  attr {\\n    key: \\\"name\\\"\\n    value {\\n      val: \\\"MapPartitionsRDD[14] at execute at ExecutionItem.scala:122\\\"\\n    }\\n  }\\n}\\nnode {\\n  name: \\\"sum_d52323/MapPartitionsRDD-15\\\"\\n  op: \\\"MapPartitionsRDD\\\"\\n  input: \\\"sum_d52323/MapPartitionsRDD-14\\\"\\n  attr {\\n    key: \\\"name\\\"\\n    value {\\n      val: \\\"MapPartitionsRDD[15] at execute at ExecutionItem.scala:122\\\"\\n    }\\n  }\\n}\\nnode {\\n  name: \\\"sum_d52323/ShuffledRowRDD-16\\\"\\n  op: \\\"ShuffledRowRDD\\\"\\n  input: \\\"sum_d52323/MapPartitionsRDD-15\\\"\\n  attr {\\n    key: \\\"name\\\"\\n    value {\\n      val: \\\"ShuffledRowRDD[16] at execute at ExecutionItem.scala:122\\\"\\n    }\\n  }\\n}\\nnode {\\n  name: \\\"sum_d52323/MapPartitionsRDD-17\\\"\\n  op: \\\"MapPartitionsRDD\\\"\\n  input: \\\"sum_d52323/ShuffledRowRDD-16\\\"\\n  attr {\\n    key: \\\"name\\\"\\n    value {\\n      val: \\\"MapPartitionsRDD[17] at execute at ExecutionItem.scala:122\\\"\\n    }\\n  }\\n}\\n\";}}</script><link rel=\"import\" href=\"https://tensorboard.appspot.com/tf-graph-basic.build.html\" onload=load()><div style=\"height:600px\"><tf-graph-basic id=\"-1483750220476355150\"></tf-graph-basic></div>'></iframe>"
      ]
     },
     "metadata": {},
     "output_type": "display_data"
    }
   ],
   "source": [
    "let c = T.unpack (tfIFrame ns)\n",
    "Display [html c]"
   ]
  },
  {
   "cell_type": "code",
   "execution_count": null,
   "metadata": {
    "collapsed": false
   },
   "outputs": [],
   "source": []
  },
  {
   "cell_type": "code",
   "execution_count": null,
   "metadata": {
    "collapsed": true
   },
   "outputs": [],
   "source": []
  },
  {
   "cell_type": "code",
   "execution_count": null,
   "metadata": {
    "collapsed": false
   },
   "outputs": [],
   "source": []
  },
  {
   "cell_type": "code",
   "execution_count": null,
   "metadata": {
    "collapsed": true
   },
   "outputs": [],
   "source": []
  },
  {
   "cell_type": "code",
   "execution_count": null,
   "metadata": {
    "collapsed": false
   },
   "outputs": [],
   "source": []
  },
  {
   "cell_type": "code",
   "execution_count": null,
   "metadata": {
    "collapsed": false
   },
   "outputs": [],
   "source": []
  },
  {
   "cell_type": "code",
   "execution_count": null,
   "metadata": {
    "collapsed": false
   },
   "outputs": [],
   "source": []
  },
  {
   "cell_type": "code",
   "execution_count": null,
   "metadata": {
    "collapsed": true
   },
   "outputs": [],
   "source": []
  }
 ],
 "metadata": {
  "kernelspec": {
   "display_name": "Haskell",
   "language": "haskell",
   "name": "haskell"
  },
  "language_info": {
   "codemirror_mode": "ihaskell",
   "file_extension": ".hs",
   "name": "haskell",
   "version": "7.10.2"
  }
 },
 "nbformat": 4,
 "nbformat_minor": 0
}
