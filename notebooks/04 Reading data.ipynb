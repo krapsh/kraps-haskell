{
 "cells": [
  {
   "cell_type": "markdown",
   "metadata": {},
   "source": [
    "# Reading data\n",
    "\n",
    "A big data system is rather useless if you cannot read data. Kraps lets you read from all the sources supported by Spark, with some additional benefits.\n",
    "\n",
    "One main difference compared to Spark is the schema of the data is strictly checked. How does it work when one does not know the schema in advance, for example when reading a JSON file? Kraps provides some facilities for that."
   ]
  },
  {
   "cell_type": "code",
   "execution_count": 1,
   "metadata": {
    "collapsed": true
   },
   "outputs": [],
   "source": [
    ":extension OverloadedStrings\n",
    "import GHC.Generics (Generic)\n",
    "\n",
    "import Spark.Core.Dataset\n",
    "import Spark.Core.Context\n",
    "import Spark.Core.Functions\n",
    "import Spark.Core.Column\n",
    "import Spark.Core.Types\n",
    "import Spark.Core.Row\n",
    "import Spark.Core.ColumnFunctions\n",
    "-- The IO inputs\n",
    "import Spark.IO.Inputs\n"
   ]
  },
  {
   "cell_type": "code",
   "execution_count": 2,
   "metadata": {
    "collapsed": false
   },
   "outputs": [
    {
     "data": {
      "text/plain": [
       "[Debug] Creating spark session at url: http://localhost:8081/sessions/session04_reading @(<unknown>:<unknown> <unknown>:0:0)"
      ]
     },
     "metadata": {},
     "output_type": "display_data"
    }
   ],
   "source": [
    "conf = defaultConf {\n",
    "        confEndPoint = \"http://localhost\",\n",
    "        confRequestedSessionName = \"session04_reading\" }\n",
    "\n",
    "createSparkSessionDef conf"
   ]
  },
  {
   "cell_type": "markdown",
   "metadata": {},
   "source": [
    "## Reading typed data\n",
    "\n",
    "When the type is known, reading data is not complicated."
   ]
  },
  {
   "cell_type": "code",
   "execution_count": 3,
   "metadata": {
    "collapsed": true
   },
   "outputs": [],
   "source": [
    "let url = \"https://data.nasa.gov/resource/y77d-th95.json\"\n",
    "let url2 = \"https://raw.githubusercontent.com/apache/spark/master/examples/src/main/resources/employees.json\""
   ]
  },
  {
   "cell_type": "code",
   "execution_count": 3,
   "metadata": {
    "collapsed": false
   },
   "outputs": [
    {
     "data": {
      "text/plain": [
       "[Debug] executeCommand1: computing observable inferschema_70b0c1@org.spark.InferSchema!{rows:[{fieldPath:[string] isNullable:bool typeId:int fieldIndex:int}]} @(<unknown>:<unknown> <unknown>:0:0)\n",
       "[Debug] executeCommand1: found sources [] @(<unknown>:<unknown> <unknown>:0:0)\n",
       "[Debug] executeCommand1: retrieved stamps [] @(<unknown>:<unknown> <unknown>:0:0)\n",
       "[Info] Sending computations at url: http://localhost:8081/computations/session04_reading/0/create @(<unknown>:<unknown> <unknown>:0:0)\n",
       "[Debug] executeCommand1: Tracked nodes are [(70b0c..,NPath(inferschema_70b0c1),{rows:[{fieldPath:[string] isNullable:bool typeId:int fieldIndex:int}]},inferschema_70b0c1)] @(<unknown>:<unknown> <unknown>:0:0)\n",
       "[Info] _computationMultiStatus: /inferschema_70b0c1 running @(<unknown>:<unknown> <unknown>:0:0)\n",
       "[Info] _computationMultiStatus: /inferschema_70b0c1 finished @(<unknown>:<unknown> <unknown>:0:0)"
      ]
     },
     "metadata": {},
     "output_type": "display_data"
    }
   ],
   "source": [
    "df <- execStateDef $ jsonInfer \"/Users/tjhunter/Downloads/employees.json\""
   ]
  },
  {
   "cell_type": "code",
   "execution_count": 4,
   "metadata": {
    "collapsed": false
   },
   "outputs": [
    {
     "data": {
      "text/plain": [
       "Right genericdatasource_bcdac3@org.spark.GenericDatasource:{name:string? salary:int?}"
      ]
     },
     "metadata": {},
     "output_type": "display_data"
    }
   ],
   "source": [
    "df"
   ]
  },
  {
   "cell_type": "code",
   "execution_count": 9,
   "metadata": {
    "collapsed": false
   },
   "outputs": [
    {
     "data": {
      "text/html": [
       "<style>/* Styles used for the Hoogle display in the pager */\n",
       ".hoogle-doc {\n",
       "display: block;\n",
       "padding-bottom: 1.3em;\n",
       "padding-left: 0.4em;\n",
       "}\n",
       ".hoogle-code {\n",
       "display: block;\n",
       "font-family: monospace;\n",
       "white-space: pre;\n",
       "}\n",
       ".hoogle-text {\n",
       "display: block;\n",
       "}\n",
       ".hoogle-name {\n",
       "color: green;\n",
       "font-weight: bold;\n",
       "}\n",
       ".hoogle-head {\n",
       "font-weight: bold;\n",
       "}\n",
       ".hoogle-sub {\n",
       "display: block;\n",
       "margin-left: 0.4em;\n",
       "}\n",
       ".hoogle-package {\n",
       "font-weight: bold;\n",
       "font-style: italic;\n",
       "}\n",
       ".hoogle-module {\n",
       "font-weight: bold;\n",
       "}\n",
       ".hoogle-class {\n",
       "font-weight: bold;\n",
       "}\n",
       ".get-type {\n",
       "color: green;\n",
       "font-weight: bold;\n",
       "font-family: monospace;\n",
       "display: block;\n",
       "white-space: pre-wrap;\n",
       "}\n",
       ".show-type {\n",
       "color: green;\n",
       "font-weight: bold;\n",
       "font-family: monospace;\n",
       "margin-left: 1em;\n",
       "}\n",
       ".mono {\n",
       "font-family: monospace;\n",
       "display: block;\n",
       "}\n",
       ".err-msg {\n",
       "color: red;\n",
       "font-style: italic;\n",
       "font-family: monospace;\n",
       "white-space: pre;\n",
       "display: block;\n",
       "}\n",
       "#unshowable {\n",
       "color: red;\n",
       "font-weight: bold;\n",
       "}\n",
       ".err-msg.in.collapse {\n",
       "padding-top: 0.7em;\n",
       "}\n",
       ".highlight-code {\n",
       "white-space: pre;\n",
       "font-family: monospace;\n",
       "}\n",
       ".suggestion-warning { \n",
       "font-weight: bold;\n",
       "color: rgb(200, 130, 0);\n",
       "}\n",
       ".suggestion-error { \n",
       "font-weight: bold;\n",
       "color: red;\n",
       "}\n",
       ".suggestion-name {\n",
       "font-weight: bold;\n",
       "}\n",
       "</style><span class='err-msg'>Error {ePath = NPath(), eMessage = \"Expected single result, got []\"}</span>"
      ],
      "text/plain": [
       "Error {ePath = NPath(), eMessage = \"Expected single result, got []\"}"
      ]
     },
     "metadata": {},
     "output_type": "display_data"
    }
   ],
   "source": [
    "x <- exec1Def' (collect' (asCol' df))"
   ]
  },
  {
   "cell_type": "code",
   "execution_count": 8,
   "metadata": {
    "collapsed": false
   },
   "outputs": [
    {
     "data": {
      "text/plain": [
       "RowArray (fromList [RowArray (fromList [StringElement \"Andy\",IntElement 4500]),RowArray (fromList [StringElement \"Berta\",IntElement 4000]),RowArray (fromList [StringElement \"Justin\",IntElement 3500]),RowArray (fromList [StringElement \"Michael\",IntElement 3000])])"
      ]
     },
     "metadata": {},
     "output_type": "display_data"
    }
   ],
   "source": [
    "x"
   ]
  },
  {
   "cell_type": "code",
   "execution_count": null,
   "metadata": {
    "collapsed": true
   },
   "outputs": [],
   "source": []
  }
 ],
 "metadata": {
  "kernelspec": {
   "display_name": "Haskell",
   "language": "haskell",
   "name": "haskell"
  },
  "language_info": {
   "codemirror_mode": "ihaskell",
   "file_extension": ".hs",
   "name": "haskell",
   "version": "7.10.2"
  }
 },
 "nbformat": 4,
 "nbformat_minor": 0
}
