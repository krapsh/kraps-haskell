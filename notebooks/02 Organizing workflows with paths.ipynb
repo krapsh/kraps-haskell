{
 "cells": [
  {
   "cell_type": "code",
   "execution_count": 1,
   "metadata": {
    "collapsed": false
   },
   "outputs": [],
   "source": [
    ":load KrapshDisplays KrapshDagDisplay\n",
    "import Spark.Core.Dataset\n",
    "import Spark.Core.Context\n",
    "import Spark.Core.Functions\n",
    "import Spark.Core.Column\n",
    "import Spark.Core.ColumnFunctions"
   ]
  },
  {
   "cell_type": "markdown",
   "metadata": {
    "collapsed": true
   },
   "source": [
    "# Organizing pipelines with scopes and paths\n",
    "\n",
    "If you have worked with large Spark jobs, you know that workflows can become really large and convoluted. Krapsh provides some tools to decompose and organize workflows, but still retain the power of lazy execution and full-pipeline optimization.\n",
    "\n",
    "As a simple example, we will compute the mean of a dataset containing integers. In practice, such an operation that involves computing the mean is just one step of a much larger pipeline. We will see how to build and vizualize such pipelines.\n",
    "\n",
    "Like Spark, Krapsh comes with a built-in visualization tool to explore how data is being generated. For any `dataset` or `observable`, you can use the `showGraph` command to see the graph of computations for this node. This graph is displayed thanks to the TensorBoard tool that comes with Google TensorFlow."
   ]
  },
  {
   "cell_type": "code",
   "execution_count": 2,
   "metadata": {
    "collapsed": false
   },
   "outputs": [
    {
     "data": {
      "text/html": [
       "<style>/* Styles used for the Hoogle display in the pager */\n",
       ".hoogle-doc {\n",
       "display: block;\n",
       "padding-bottom: 1.3em;\n",
       "padding-left: 0.4em;\n",
       "}\n",
       ".hoogle-code {\n",
       "display: block;\n",
       "font-family: monospace;\n",
       "white-space: pre;\n",
       "}\n",
       ".hoogle-text {\n",
       "display: block;\n",
       "}\n",
       ".hoogle-name {\n",
       "color: green;\n",
       "font-weight: bold;\n",
       "}\n",
       ".hoogle-head {\n",
       "font-weight: bold;\n",
       "}\n",
       ".hoogle-sub {\n",
       "display: block;\n",
       "margin-left: 0.4em;\n",
       "}\n",
       ".hoogle-package {\n",
       "font-weight: bold;\n",
       "font-style: italic;\n",
       "}\n",
       ".hoogle-module {\n",
       "font-weight: bold;\n",
       "}\n",
       ".hoogle-class {\n",
       "font-weight: bold;\n",
       "}\n",
       ".get-type {\n",
       "color: green;\n",
       "font-weight: bold;\n",
       "font-family: monospace;\n",
       "display: block;\n",
       "white-space: pre-wrap;\n",
       "}\n",
       ".show-type {\n",
       "color: green;\n",
       "font-weight: bold;\n",
       "font-family: monospace;\n",
       "margin-left: 1em;\n",
       "}\n",
       ".mono {\n",
       "font-family: monospace;\n",
       "display: block;\n",
       "}\n",
       ".err-msg {\n",
       "color: red;\n",
       "font-style: italic;\n",
       "font-family: monospace;\n",
       "white-space: pre;\n",
       "display: block;\n",
       "}\n",
       "#unshowable {\n",
       "color: red;\n",
       "font-weight: bold;\n",
       "}\n",
       ".err-msg.in.collapse {\n",
       "padding-top: 0.7em;\n",
       "}\n",
       ".highlight-code {\n",
       "white-space: pre;\n",
       "font-family: monospace;\n",
       "}\n",
       ".suggestion-warning { \n",
       "font-weight: bold;\n",
       "color: rgb(200, 130, 0);\n",
       "}\n",
       ".suggestion-error { \n",
       "font-weight: bold;\n",
       "color: red;\n",
       "}\n",
       ".suggestion-name {\n",
       "font-weight: bold;\n",
       "}\n",
       "</style><iframe seamless style='width:900px;height:620px;border:0' srcdoc='<script>function load() {{  document.getElementById(\"3209761131589402234\").pbtxt = \"node {\\n  name: \\\"initial_set\\\"\\n  op: \\\"org.spark.Constant\\\"\\n  attr {\\n    key: \\\"locality\\\"\\n    value {\\n      val: \\\"distributed\\\"\\n    }\\n  }\\n  attr {\\n    key: \\\"sqlType\\\"\\n    value {\\n      val: \\\"int\\\"\\n    }\\n  }\\n}\\nnode {\\n  name: \\\"select_0f7be2\\\"\\n  op: \\\"org.spark.Select\\\"\\n  input: \\\"initial_set\\\"\\n  attr {\\n    key: \\\"locality\\\"\\n    value {\\n      val: \\\"distributed\\\"\\n    }\\n  }\\n  attr {\\n    key: \\\"sqlType\\\"\\n    value {\\n      val: \\\"int\\\"\\n    }\\n  }\\n}\\nnode {\\n  name: \\\"structuredreduction_ccf4eb\\\"\\n  op: \\\"org.spark.StructuredReduction\\\"\\n  input: \\\"select_0f7be2\\\"\\n  attr {\\n    key: \\\"locality\\\"\\n    value {\\n      val: \\\"local\\\"\\n    }\\n  }\\n  attr {\\n    key: \\\"sqlType\\\"\\n    value {\\n      val: \\\"int\\\"\\n    }\\n  }\\n}\\n\";}}</script><link rel=\"import\" href=\"https://tensorboard.appspot.com/tf-graph-basic.build.html\" onload=load()><div style=\"height:600px\"><tf-graph-basic id=\"3209761131589402234\"></tf-graph-basic></div>'></iframe>"
      ]
     },
     "metadata": {},
     "output_type": "display_data"
    }
   ],
   "source": [
    "set = dataset ([1 ,2, 3, 4]::[Int]) @@ \"initial_set\"\n",
    "myCount = count set\n",
    "showGraph myCount"
   ]
  },
  {
   "cell_type": "markdown",
   "metadata": {
    "collapsed": false
   },
   "source": [
    "## Organizing computations with Scopes"
   ]
  },
  {
   "cell_type": "markdown",
   "metadata": {
    "collapsed": false
   },
   "source": [
    "Here is a function that computes the mean of a dataset of integers. For the sake of convenience, we give some names to the various pieces of the graph:"
   ]
  },
  {
   "cell_type": "code",
   "execution_count": 12,
   "metadata": {
    "collapsed": false
   },
   "outputs": [],
   "source": [
    "myMean :: Dataset Int -> LocalData Int\n",
    "myMean ds' =\n",
    "  let s2 = count ds' @@ \"count\"\n",
    "      c1 = asCol ds'\n",
    "      s1 = sumCol c1 @@ \"sum\"\n",
    "  in (s1 + s2) @@ \"mean\""
   ]
  },
  {
   "cell_type": "markdown",
   "metadata": {},
   "source": [
    "Then we can use this function on a dataset:"
   ]
  },
  {
   "cell_type": "code",
   "execution_count": 13,
   "metadata": {
    "collapsed": false
   },
   "outputs": [],
   "source": [
    "let ds = dataset ([1,2,3] :: [Int]) @@ \"data\"\n",
    "m = myMean ds\n",
    "x = m + 1"
   ]
  },
  {
   "cell_type": "markdown",
   "metadata": {},
   "source": [
    "Here is the graph of operations. All the operations are flattened into the same scope, so it is hard to see the big picture."
   ]
  },
  {
   "cell_type": "code",
   "execution_count": 14,
   "metadata": {
    "collapsed": false
   },
   "outputs": [
    {
     "data": {
      "text/html": [
       "<style>/* Styles used for the Hoogle display in the pager */\n",
       ".hoogle-doc {\n",
       "display: block;\n",
       "padding-bottom: 1.3em;\n",
       "padding-left: 0.4em;\n",
       "}\n",
       ".hoogle-code {\n",
       "display: block;\n",
       "font-family: monospace;\n",
       "white-space: pre;\n",
       "}\n",
       ".hoogle-text {\n",
       "display: block;\n",
       "}\n",
       ".hoogle-name {\n",
       "color: green;\n",
       "font-weight: bold;\n",
       "}\n",
       ".hoogle-head {\n",
       "font-weight: bold;\n",
       "}\n",
       ".hoogle-sub {\n",
       "display: block;\n",
       "margin-left: 0.4em;\n",
       "}\n",
       ".hoogle-package {\n",
       "font-weight: bold;\n",
       "font-style: italic;\n",
       "}\n",
       ".hoogle-module {\n",
       "font-weight: bold;\n",
       "}\n",
       ".hoogle-class {\n",
       "font-weight: bold;\n",
       "}\n",
       ".get-type {\n",
       "color: green;\n",
       "font-weight: bold;\n",
       "font-family: monospace;\n",
       "display: block;\n",
       "white-space: pre-wrap;\n",
       "}\n",
       ".show-type {\n",
       "color: green;\n",
       "font-weight: bold;\n",
       "font-family: monospace;\n",
       "margin-left: 1em;\n",
       "}\n",
       ".mono {\n",
       "font-family: monospace;\n",
       "display: block;\n",
       "}\n",
       ".err-msg {\n",
       "color: red;\n",
       "font-style: italic;\n",
       "font-family: monospace;\n",
       "white-space: pre;\n",
       "display: block;\n",
       "}\n",
       "#unshowable {\n",
       "color: red;\n",
       "font-weight: bold;\n",
       "}\n",
       ".err-msg.in.collapse {\n",
       "padding-top: 0.7em;\n",
       "}\n",
       ".highlight-code {\n",
       "white-space: pre;\n",
       "font-family: monospace;\n",
       "}\n",
       ".suggestion-warning { \n",
       "font-weight: bold;\n",
       "color: rgb(200, 130, 0);\n",
       "}\n",
       ".suggestion-error { \n",
       "font-weight: bold;\n",
       "color: red;\n",
       "}\n",
       ".suggestion-name {\n",
       "font-weight: bold;\n",
       "}\n",
       "</style><iframe seamless style='width:900px;height:620px;border:0' srcdoc='<script>function load() {{  document.getElementById(\"-4196869467356566826\").pbtxt = \"node {\\n  name: \\\"data\\\"\\n  op: \\\"org.spark.Constant\\\"\\n  attr {\\n    key: \\\"locality\\\"\\n    value {\\n      val: \\\"distributed\\\"\\n    }\\n  }\\n  attr {\\n    key: \\\"sqlType\\\"\\n    value {\\n      val: \\\"int\\\"\\n    }\\n  }\\n}\\nnode {\\n  name: \\\"select_f4df1f\\\"\\n  op: \\\"org.spark.Select\\\"\\n  input: \\\"data\\\"\\n  attr {\\n    key: \\\"locality\\\"\\n    value {\\n      val: \\\"distributed\\\"\\n    }\\n  }\\n  attr {\\n    key: \\\"sqlType\\\"\\n    value {\\n      val: \\\"int\\\"\\n    }\\n  }\\n}\\nnode {\\n  name: \\\"sum\\\"\\n  op: \\\"org.spark.StructuredReduction\\\"\\n  input: \\\"select_f4df1f\\\"\\n  attr {\\n    key: \\\"locality\\\"\\n    value {\\n      val: \\\"local\\\"\\n    }\\n  }\\n  attr {\\n    key: \\\"sqlType\\\"\\n    value {\\n      val: \\\"int\\\"\\n    }\\n  }\\n}\\nnode {\\n  name: \\\"count\\\"\\n  op: \\\"org.spark.StructuredReduction\\\"\\n  input: \\\"select_f4df1f\\\"\\n  attr {\\n    key: \\\"locality\\\"\\n    value {\\n      val: \\\"local\\\"\\n    }\\n  }\\n  attr {\\n    key: \\\"sqlType\\\"\\n    value {\\n      val: \\\"int\\\"\\n    }\\n  }\\n}\\nnode {\\n  name: \\\"mean\\\"\\n  op: \\\"org.spark.LocalPlus\\\"\\n  input: \\\"sum\\\"\\n  input: \\\"count\\\"\\n  attr {\\n    key: \\\"locality\\\"\\n    value {\\n      val: \\\"local\\\"\\n    }\\n  }\\n  attr {\\n    key: \\\"sqlType\\\"\\n    value {\\n      val: \\\"int\\\"\\n    }\\n  }\\n}\\nnode {\\n  name: \\\"localconstant_617d3b\\\"\\n  op: \\\"org.spark.LocalConstant\\\"\\n  attr {\\n    key: \\\"locality\\\"\\n    value {\\n      val: \\\"local\\\"\\n    }\\n  }\\n  attr {\\n    key: \\\"sqlType\\\"\\n    value {\\n      val: \\\"int\\\"\\n    }\\n  }\\n}\\nnode {\\n  name: \\\"localplus_a30504\\\"\\n  op: \\\"org.spark.LocalPlus\\\"\\n  input: \\\"mean\\\"\\n  input: \\\"localconstant_617d3b\\\"\\n  attr {\\n    key: \\\"locality\\\"\\n    value {\\n      val: \\\"local\\\"\\n    }\\n  }\\n  attr {\\n    key: \\\"sqlType\\\"\\n    value {\\n      val: \\\"int\\\"\\n    }\\n  }\\n}\\n\";}}</script><link rel=\"import\" href=\"https://tensorboard.appspot.com/tf-graph-basic.build.html\" onload=load()><div style=\"height:600px\"><tf-graph-basic id=\"-4196869467356566826\"></tf-graph-basic></div>'></iframe>"
      ]
     },
     "metadata": {},
     "output_type": "display_data"
    }
   ],
   "source": [
    "showNameGraph x"
   ]
  },
  {
   "cell_type": "code",
   "execution_count": 15,
   "metadata": {
    "collapsed": false
   },
   "outputs": [],
   "source": [
    "let ds = dataset ([1 ,2, 3, 4]::[Int]) @@ \"data\"\n",
    "let c = count ds\n",
    "let c2 = (c + identity c) `logicalParents` [untyped ds] @@ \"c2\""
   ]
  },
  {
   "cell_type": "markdown",
   "metadata": {},
   "source": [
    "Krapsh provides a way to deal with that by marking a node with what its 'logical' parents are. All the computation nodes between the logical parent(s) and the final node will presented as children of the output node."
   ]
  },
  {
   "cell_type": "code",
   "execution_count": 16,
   "metadata": {
    "collapsed": false
   },
   "outputs": [
    {
     "data": {
      "text/html": [
       "<style>/* Styles used for the Hoogle display in the pager */\n",
       ".hoogle-doc {\n",
       "display: block;\n",
       "padding-bottom: 1.3em;\n",
       "padding-left: 0.4em;\n",
       "}\n",
       ".hoogle-code {\n",
       "display: block;\n",
       "font-family: monospace;\n",
       "white-space: pre;\n",
       "}\n",
       ".hoogle-text {\n",
       "display: block;\n",
       "}\n",
       ".hoogle-name {\n",
       "color: green;\n",
       "font-weight: bold;\n",
       "}\n",
       ".hoogle-head {\n",
       "font-weight: bold;\n",
       "}\n",
       ".hoogle-sub {\n",
       "display: block;\n",
       "margin-left: 0.4em;\n",
       "}\n",
       ".hoogle-package {\n",
       "font-weight: bold;\n",
       "font-style: italic;\n",
       "}\n",
       ".hoogle-module {\n",
       "font-weight: bold;\n",
       "}\n",
       ".hoogle-class {\n",
       "font-weight: bold;\n",
       "}\n",
       ".get-type {\n",
       "color: green;\n",
       "font-weight: bold;\n",
       "font-family: monospace;\n",
       "display: block;\n",
       "white-space: pre-wrap;\n",
       "}\n",
       ".show-type {\n",
       "color: green;\n",
       "font-weight: bold;\n",
       "font-family: monospace;\n",
       "margin-left: 1em;\n",
       "}\n",
       ".mono {\n",
       "font-family: monospace;\n",
       "display: block;\n",
       "}\n",
       ".err-msg {\n",
       "color: red;\n",
       "font-style: italic;\n",
       "font-family: monospace;\n",
       "white-space: pre;\n",
       "display: block;\n",
       "}\n",
       "#unshowable {\n",
       "color: red;\n",
       "font-weight: bold;\n",
       "}\n",
       ".err-msg.in.collapse {\n",
       "padding-top: 0.7em;\n",
       "}\n",
       ".highlight-code {\n",
       "white-space: pre;\n",
       "font-family: monospace;\n",
       "}\n",
       ".suggestion-warning { \n",
       "font-weight: bold;\n",
       "color: rgb(200, 130, 0);\n",
       "}\n",
       ".suggestion-error { \n",
       "font-weight: bold;\n",
       "color: red;\n",
       "}\n",
       ".suggestion-name {\n",
       "font-weight: bold;\n",
       "}\n",
       "</style><span class='get-type'>logicalParents :: forall loc a. ComputeNode loc a -> [UntypedNode] -> ComputeNode loc a</span>"
      ],
      "text/plain": [
       "logicalParents :: forall loc a. ComputeNode loc a -> [UntypedNode] -> ComputeNode loc a"
      ]
     },
     "metadata": {},
     "output_type": "display_data"
    }
   ],
   "source": [
    ":t logicalParents"
   ]
  },
  {
   "cell_type": "markdown",
   "metadata": {},
   "source": [
    "Here is the mean function, this time with some labels for logical parents."
   ]
  },
  {
   "cell_type": "code",
   "execution_count": 18,
   "metadata": {
    "collapsed": false
   },
   "outputs": [],
   "source": [
    "myMean2 :: Dataset Int -> LocalData Int\n",
    "myMean2 ds' =\n",
    "  let s2 = count ds' @@ \"count\"\n",
    "      c1 = asCol ds'\n",
    "      s1 = sumCol c1 @@ \"sum\"\n",
    "  -- Only one parent (ds')\n",
    "  -- Also, the name is NOT set. It will be set by the calling node.\n",
    "  in ((s1 + s2) `logicalParents` [untyped ds'])"
   ]
  },
  {
   "cell_type": "code",
   "execution_count": 19,
   "metadata": {
    "collapsed": false
   },
   "outputs": [],
   "source": [
    "ds = dataset ([1,2,3] :: [Int]) @@ \"data\"\n",
    "-- This is just for presentation purposes, as TensorBoard eats up the constants in the nesting\n",
    "ds2 = identity ds\n",
    "m2 = (myMean2 ds2) @@ \"my_mean\"\n",
    "x2 = m2 + 1"
   ]
  },
  {
   "cell_type": "code",
   "execution_count": 20,
   "metadata": {
    "collapsed": false
   },
   "outputs": [
    {
     "data": {
      "text/html": [
       "<style>/* Styles used for the Hoogle display in the pager */\n",
       ".hoogle-doc {\n",
       "display: block;\n",
       "padding-bottom: 1.3em;\n",
       "padding-left: 0.4em;\n",
       "}\n",
       ".hoogle-code {\n",
       "display: block;\n",
       "font-family: monospace;\n",
       "white-space: pre;\n",
       "}\n",
       ".hoogle-text {\n",
       "display: block;\n",
       "}\n",
       ".hoogle-name {\n",
       "color: green;\n",
       "font-weight: bold;\n",
       "}\n",
       ".hoogle-head {\n",
       "font-weight: bold;\n",
       "}\n",
       ".hoogle-sub {\n",
       "display: block;\n",
       "margin-left: 0.4em;\n",
       "}\n",
       ".hoogle-package {\n",
       "font-weight: bold;\n",
       "font-style: italic;\n",
       "}\n",
       ".hoogle-module {\n",
       "font-weight: bold;\n",
       "}\n",
       ".hoogle-class {\n",
       "font-weight: bold;\n",
       "}\n",
       ".get-type {\n",
       "color: green;\n",
       "font-weight: bold;\n",
       "font-family: monospace;\n",
       "display: block;\n",
       "white-space: pre-wrap;\n",
       "}\n",
       ".show-type {\n",
       "color: green;\n",
       "font-weight: bold;\n",
       "font-family: monospace;\n",
       "margin-left: 1em;\n",
       "}\n",
       ".mono {\n",
       "font-family: monospace;\n",
       "display: block;\n",
       "}\n",
       ".err-msg {\n",
       "color: red;\n",
       "font-style: italic;\n",
       "font-family: monospace;\n",
       "white-space: pre;\n",
       "display: block;\n",
       "}\n",
       "#unshowable {\n",
       "color: red;\n",
       "font-weight: bold;\n",
       "}\n",
       ".err-msg.in.collapse {\n",
       "padding-top: 0.7em;\n",
       "}\n",
       ".highlight-code {\n",
       "white-space: pre;\n",
       "font-family: monospace;\n",
       "}\n",
       ".suggestion-warning { \n",
       "font-weight: bold;\n",
       "color: rgb(200, 130, 0);\n",
       "}\n",
       ".suggestion-error { \n",
       "font-weight: bold;\n",
       "color: red;\n",
       "}\n",
       ".suggestion-name {\n",
       "font-weight: bold;\n",
       "}\n",
       "</style><iframe seamless style='width:900px;height:620px;border:0' srcdoc='<script>function load() {{  document.getElementById(\"-967769324827450945\").pbtxt = \"node {\\n  name: \\\"data\\\"\\n  op: \\\"org.spark.Constant\\\"\\n  attr {\\n    key: \\\"locality\\\"\\n    value {\\n      val: \\\"distributed\\\"\\n    }\\n  }\\n  attr {\\n    key: \\\"sqlType\\\"\\n    value {\\n      val: \\\"int\\\"\\n    }\\n  }\\n}\\nnode {\\n  name: \\\"identity_6fb6b3\\\"\\n  op: \\\"org.spark.Identity\\\"\\n  input: \\\"data\\\"\\n  attr {\\n    key: \\\"locality\\\"\\n    value {\\n      val: \\\"distributed\\\"\\n    }\\n  }\\n  attr {\\n    key: \\\"sqlType\\\"\\n    value {\\n      val: \\\"int\\\"\\n    }\\n  }\\n}\\nnode {\\n  name: \\\"my_mean/select_8fa4d7\\\"\\n  op: \\\"org.spark.Select\\\"\\n  input: \\\"identity_6fb6b3\\\"\\n  attr {\\n    key: \\\"locality\\\"\\n    value {\\n      val: \\\"distributed\\\"\\n    }\\n  }\\n  attr {\\n    key: \\\"sqlType\\\"\\n    value {\\n      val: \\\"int\\\"\\n    }\\n  }\\n}\\nnode {\\n  name: \\\"my_mean/sum\\\"\\n  op: \\\"org.spark.StructuredReduction\\\"\\n  input: \\\"my_mean/select_8fa4d7\\\"\\n  attr {\\n    key: \\\"locality\\\"\\n    value {\\n      val: \\\"local\\\"\\n    }\\n  }\\n  attr {\\n    key: \\\"sqlType\\\"\\n    value {\\n      val: \\\"int\\\"\\n    }\\n  }\\n}\\nnode {\\n  name: \\\"my_mean/count\\\"\\n  op: \\\"org.spark.StructuredReduction\\\"\\n  input: \\\"my_mean/select_8fa4d7\\\"\\n  attr {\\n    key: \\\"locality\\\"\\n    value {\\n      val: \\\"local\\\"\\n    }\\n  }\\n  attr {\\n    key: \\\"sqlType\\\"\\n    value {\\n      val: \\\"int\\\"\\n    }\\n  }\\n}\\nnode {\\n  name: \\\"my_mean\\\"\\n  op: \\\"org.spark.LocalPlus\\\"\\n  input: \\\"my_mean/sum\\\"\\n  input: \\\"my_mean/count\\\"\\n  attr {\\n    key: \\\"locality\\\"\\n    value {\\n      val: \\\"local\\\"\\n    }\\n  }\\n  attr {\\n    key: \\\"sqlType\\\"\\n    value {\\n      val: \\\"int\\\"\\n    }\\n  }\\n}\\nnode {\\n  name: \\\"localconstant_617d3b\\\"\\n  op: \\\"org.spark.LocalConstant\\\"\\n  attr {\\n    key: \\\"locality\\\"\\n    value {\\n      val: \\\"local\\\"\\n    }\\n  }\\n  attr {\\n    key: \\\"sqlType\\\"\\n    value {\\n      val: \\\"int\\\"\\n    }\\n  }\\n}\\nnode {\\n  name: \\\"localplus_d5c8f4\\\"\\n  op: \\\"org.spark.LocalPlus\\\"\\n  input: \\\"my_mean\\\"\\n  input: \\\"localconstant_617d3b\\\"\\n  attr {\\n    key: \\\"locality\\\"\\n    value {\\n      val: \\\"local\\\"\\n    }\\n  }\\n  attr {\\n    key: \\\"sqlType\\\"\\n    value {\\n      val: \\\"int\\\"\\n    }\\n  }\\n}\\n\";}}</script><link rel=\"import\" href=\"https://tensorboard.appspot.com/tf-graph-basic.build.html\" onload=load()><div style=\"height:600px\"><tf-graph-basic id=\"-967769324827450945\"></tf-graph-basic></div>'></iframe>"
      ]
     },
     "metadata": {},
     "output_type": "display_data"
    }
   ],
   "source": [
    "showGraph x2"
   ]
  },
  {
   "cell_type": "markdown",
   "metadata": {
    "collapsed": false
   },
   "source": [
    "Now the content of the function is nicely packed under the scope of the function. Tensorboard lets us recursively expand and explore the content of the blocks:"
   ]
  },
  {
   "cell_type": "code",
   "execution_count": 21,
   "metadata": {
    "collapsed": false
   },
   "outputs": [
    {
     "data": {
      "text/html": [
       "<style>/* Styles used for the Hoogle display in the pager */\n",
       ".hoogle-doc {\n",
       "display: block;\n",
       "padding-bottom: 1.3em;\n",
       "padding-left: 0.4em;\n",
       "}\n",
       ".hoogle-code {\n",
       "display: block;\n",
       "font-family: monospace;\n",
       "white-space: pre;\n",
       "}\n",
       ".hoogle-text {\n",
       "display: block;\n",
       "}\n",
       ".hoogle-name {\n",
       "color: green;\n",
       "font-weight: bold;\n",
       "}\n",
       ".hoogle-head {\n",
       "font-weight: bold;\n",
       "}\n",
       ".hoogle-sub {\n",
       "display: block;\n",
       "margin-left: 0.4em;\n",
       "}\n",
       ".hoogle-package {\n",
       "font-weight: bold;\n",
       "font-style: italic;\n",
       "}\n",
       ".hoogle-module {\n",
       "font-weight: bold;\n",
       "}\n",
       ".hoogle-class {\n",
       "font-weight: bold;\n",
       "}\n",
       ".get-type {\n",
       "color: green;\n",
       "font-weight: bold;\n",
       "font-family: monospace;\n",
       "display: block;\n",
       "white-space: pre-wrap;\n",
       "}\n",
       ".show-type {\n",
       "color: green;\n",
       "font-weight: bold;\n",
       "font-family: monospace;\n",
       "margin-left: 1em;\n",
       "}\n",
       ".mono {\n",
       "font-family: monospace;\n",
       "display: block;\n",
       "}\n",
       ".err-msg {\n",
       "color: red;\n",
       "font-style: italic;\n",
       "font-family: monospace;\n",
       "white-space: pre;\n",
       "display: block;\n",
       "}\n",
       "#unshowable {\n",
       "color: red;\n",
       "font-weight: bold;\n",
       "}\n",
       ".err-msg.in.collapse {\n",
       "padding-top: 0.7em;\n",
       "}\n",
       ".highlight-code {\n",
       "white-space: pre;\n",
       "font-family: monospace;\n",
       "}\n",
       ".suggestion-warning { \n",
       "font-weight: bold;\n",
       "color: rgb(200, 130, 0);\n",
       "}\n",
       ".suggestion-error { \n",
       "font-weight: bold;\n",
       "color: red;\n",
       "}\n",
       ".suggestion-name {\n",
       "font-weight: bold;\n",
       "}\n",
       "</style><iframe seamless style='width:900px;height:620px;border:0' srcdoc='<script>function load() {{  document.getElementById(\"-967769324827450945\").pbtxt = \"node {\\n  name: \\\"data\\\"\\n  op: \\\"org.spark.Constant\\\"\\n  attr {\\n    key: \\\"locality\\\"\\n    value {\\n      val: \\\"distributed\\\"\\n    }\\n  }\\n  attr {\\n    key: \\\"sqlType\\\"\\n    value {\\n      val: \\\"int\\\"\\n    }\\n  }\\n}\\nnode {\\n  name: \\\"identity_6fb6b3\\\"\\n  op: \\\"org.spark.Identity\\\"\\n  input: \\\"data\\\"\\n  attr {\\n    key: \\\"locality\\\"\\n    value {\\n      val: \\\"distributed\\\"\\n    }\\n  }\\n  attr {\\n    key: \\\"sqlType\\\"\\n    value {\\n      val: \\\"int\\\"\\n    }\\n  }\\n}\\nnode {\\n  name: \\\"my_mean/select_8fa4d7\\\"\\n  op: \\\"org.spark.Select\\\"\\n  input: \\\"identity_6fb6b3\\\"\\n  attr {\\n    key: \\\"locality\\\"\\n    value {\\n      val: \\\"distributed\\\"\\n    }\\n  }\\n  attr {\\n    key: \\\"sqlType\\\"\\n    value {\\n      val: \\\"int\\\"\\n    }\\n  }\\n}\\nnode {\\n  name: \\\"my_mean/sum\\\"\\n  op: \\\"org.spark.StructuredReduction\\\"\\n  input: \\\"my_mean/select_8fa4d7\\\"\\n  attr {\\n    key: \\\"locality\\\"\\n    value {\\n      val: \\\"local\\\"\\n    }\\n  }\\n  attr {\\n    key: \\\"sqlType\\\"\\n    value {\\n      val: \\\"int\\\"\\n    }\\n  }\\n}\\nnode {\\n  name: \\\"my_mean/count\\\"\\n  op: \\\"org.spark.StructuredReduction\\\"\\n  input: \\\"my_mean/select_8fa4d7\\\"\\n  attr {\\n    key: \\\"locality\\\"\\n    value {\\n      val: \\\"local\\\"\\n    }\\n  }\\n  attr {\\n    key: \\\"sqlType\\\"\\n    value {\\n      val: \\\"int\\\"\\n    }\\n  }\\n}\\nnode {\\n  name: \\\"my_mean\\\"\\n  op: \\\"org.spark.LocalPlus\\\"\\n  input: \\\"my_mean/sum\\\"\\n  input: \\\"my_mean/count\\\"\\n  attr {\\n    key: \\\"locality\\\"\\n    value {\\n      val: \\\"local\\\"\\n    }\\n  }\\n  attr {\\n    key: \\\"sqlType\\\"\\n    value {\\n      val: \\\"int\\\"\\n    }\\n  }\\n}\\nnode {\\n  name: \\\"localconstant_617d3b\\\"\\n  op: \\\"org.spark.LocalConstant\\\"\\n  attr {\\n    key: \\\"locality\\\"\\n    value {\\n      val: \\\"local\\\"\\n    }\\n  }\\n  attr {\\n    key: \\\"sqlType\\\"\\n    value {\\n      val: \\\"int\\\"\\n    }\\n  }\\n}\\nnode {\\n  name: \\\"localplus_d5c8f4\\\"\\n  op: \\\"org.spark.LocalPlus\\\"\\n  input: \\\"my_mean\\\"\\n  input: \\\"localconstant_617d3b\\\"\\n  attr {\\n    key: \\\"locality\\\"\\n    value {\\n      val: \\\"local\\\"\\n    }\\n  }\\n  attr {\\n    key: \\\"sqlType\\\"\\n    value {\\n      val: \\\"int\\\"\\n    }\\n  }\\n}\\n\";}}</script><link rel=\"import\" href=\"https://tensorboard.appspot.com/tf-graph-basic.build.html\" onload=load()><div style=\"height:600px\"><tf-graph-basic id=\"-967769324827450945\"></tf-graph-basic></div>'></iframe>"
      ]
     },
     "metadata": {},
     "output_type": "display_data"
    }
   ],
   "source": [
    "showGraph x2"
   ]
  },
  {
   "cell_type": "markdown",
   "metadata": {
    "collapsed": false
   },
   "source": [
    "Of course, this nesting can occur for arbitrary depths.\n",
    "\n",
    "_Note_ In this preview, the algorithm that performs the name resolution may fail for complicated cases.\n",
    "\n",
    "## Conclusion\n",
    "\n",
    "Organizing computations is important for large pipelines in practice. Krapsh provides some basic tools to organize and compose pipelines of arbitrary complexity."
   ]
  },
  {
   "cell_type": "code",
   "execution_count": null,
   "metadata": {
    "collapsed": true
   },
   "outputs": [],
   "source": []
  }
 ],
 "metadata": {
  "kernelspec": {
   "display_name": "Haskell",
   "language": "haskell",
   "name": "haskell"
  },
  "language_info": {
   "codemirror_mode": "ihaskell",
   "file_extension": ".hs",
   "name": "haskell",
   "version": "7.10.2"
  }
 },
 "nbformat": 4,
 "nbformat_minor": 0
}
